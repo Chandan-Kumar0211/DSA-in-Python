{
 "cells": [
  {
   "cell_type": "markdown",
   "id": "75a2110b",
   "metadata": {},
   "source": [
    "## Important points:"
   ]
  },
  {
   "cell_type": "markdown",
   "id": "2bead1ae",
   "metadata": {},
   "source": [
    "#### In chaining, we create \"array of LinkedLists\" which means; every element of the array is a LL object.\n",
    "\n",
    "#### Each element of the array is called BUCKET and whole array is called BUCKETS.\n",
    "\n",
    "#### Also, each node of this LL will contain three elements: key, value, next."
   ]
  },
  {
   "cell_type": "code",
   "execution_count": null,
   "id": "216d0d7e",
   "metadata": {},
   "outputs": [],
   "source": []
  },
  {
   "cell_type": "code",
   "execution_count": 1,
   "id": "d5a8ca1b",
   "metadata": {},
   "outputs": [],
   "source": [
    "class Node:\n",
    "    def __init__(self, key, value):\n",
    "        self.key = key\n",
    "        self.value = value\n",
    "        self.next = None"
   ]
  },
  {
   "cell_type": "code",
   "execution_count": 2,
   "id": "78c7e730",
   "metadata": {},
   "outputs": [],
   "source": [
    "class LinkedList:\n",
    "    def __init__(self):\n",
    "        # creaing an empty LL (It means the value of head of LL should be None.)\n",
    "        self.head = None\n",
    "        # counting no of nodes in LL\n",
    "        self.n = 0\n",
    "    \n",
    "    \n",
    "    def __len__(self):\n",
    "        return self.n\n",
    "      \n",
    "        \n",
    "    # Using magic method    \n",
    "    def __str__(self):\n",
    "        curr = self.head\n",
    "        result = ''\n",
    "        \n",
    "        while curr != None:\n",
    "            result = result + curr.key  + ':' + str(curr.value) + \", \"\n",
    "            curr = curr.next\n",
    "        \n",
    "        return result[:-2]\n",
    "    \n",
    "    \n",
    "    def append(self, key, value):\n",
    "        # creating a new node\n",
    "        new_node = Node(key, value)\n",
    "        # checking for empty list\n",
    "        if self.head == None:\n",
    "            self.head = new_node\n",
    "            self.n = self.n + 1\n",
    "            return \n",
    "        \n",
    "        curr = self.head\n",
    "        # traversing till one element before the last element\n",
    "        while curr.next != None:\n",
    "            curr = curr.next\n",
    "        \n",
    "        # Now we our \"curr\" is the tail, so\n",
    "        curr.next = new_node\n",
    "        # increment n\n",
    "        self.n = self.n + 1\n",
    "        \n",
    "    \n",
    "    def remove(self, key):\n",
    "        # checking if its an empty LL\n",
    "        if self.head == None:\n",
    "            return 'Empty LL'\n",
    "        \n",
    "        # If LL has only one node and its key is equal to given key\n",
    "        if self.head.key == key:\n",
    "            return self.delete_head()\n",
    "        \n",
    "        curr = self.head\n",
    "        # Here, we need to check the key of curr.next, if it's equal to key or not; as\n",
    "        # we cannot go back in LL and we want to stop one before the node whose key is equal\n",
    "        # to the given key\n",
    "        while curr.next != None:\n",
    "            if curr.next.key == key:\n",
    "                break\n",
    "            curr = curr.next\n",
    "            \n",
    "        \"\"\"\n",
    "        Again there are two cases even after exiting from the loop: \n",
    "        1. if there is a data which matches with value \n",
    "        2. or none of the data matched with the given value\n",
    "        \"\"\"\n",
    "        if curr.next == None:\n",
    "            return \"Item Not Found!\"\n",
    "        else:\n",
    "            curr.next = curr.next.next\n",
    "            self.n = self.n - 1\n",
    "    \n",
    "    \n",
    "    def delete_head(self):\n",
    "        # checking if its an empty LL\n",
    "        if self.head == None:\n",
    "            return \"Empty LL\"\n",
    "        \n",
    "        self.head = self.head.next\n",
    "        self.n = self.n -1\n",
    "      \n",
    "    \n",
    "    def search(self, key):\n",
    "        curr = self.head\n",
    "        pos = 0\n",
    "        \n",
    "        while curr != None:\n",
    "            if curr.key == key:\n",
    "                return pos\n",
    "            curr = curr.next\n",
    "            pos += 1\n",
    "        return -1\n",
    "    \n",
    "    \n",
    "    # Using magic method as we need to find the value using indexing\n",
    "    def __getitem__(self, idx):\n",
    "        curr = self.head\n",
    "        pos = 0\n",
    "        \n",
    "        while curr != None:\n",
    "            if pos == idx:\n",
    "                return curr.data\n",
    "            curr = curr.next\n",
    "            pos += 1\n",
    "        return \"IndexError\"\n",
    "    \n",
    "    def get_node_at_index(self, node_idx):\n",
    "        temp = self.head\n",
    "        counter = 0\n",
    "        \n",
    "        while temp is not None:\n",
    "            if counter == node_idx:\n",
    "                return temp\n",
    "            \n",
    "            temp = temp.next\n",
    "            counter += 1"
   ]
  },
  {
   "cell_type": "code",
   "execution_count": null,
   "id": "b3ca34fd",
   "metadata": {},
   "outputs": [],
   "source": []
  },
  {
   "cell_type": "code",
   "execution_count": null,
   "id": "c8b631f1",
   "metadata": {},
   "outputs": [],
   "source": []
  },
  {
   "cell_type": "markdown",
   "id": "ad2beec2",
   "metadata": {},
   "source": [
    "### Hashing without Load Factor"
   ]
  },
  {
   "cell_type": "code",
   "execution_count": 3,
   "id": "ed6a1357",
   "metadata": {},
   "outputs": [],
   "source": [
    "class Dictionary:\n",
    "    def __init__(self, capacity):\n",
    "        # total no of bucket \n",
    "        self.capacity = capacity\n",
    "        # num of key value pairs present in dictionary\n",
    "        self.size = 0\n",
    "        # creating an array of LL\n",
    "        self.buckets = self.make_array(self.capacity)\n",
    "    \n",
    "    def make_array(self, capacity):\n",
    "        buckets = []\n",
    "        for i in range(capacity):\n",
    "            buckets.append(LinkedList())\n",
    "        return buckets\n",
    "    \n",
    "    def put(self, key, value):\n",
    "        # first finding the index of bucket (LL object) where we need to insert\n",
    "        # Note, in chaining the index of bucket where we need to insert is fixed\n",
    "        bucket_index = self.hash_func(key)\n",
    "        \n",
    "        \"\"\"\n",
    "        Here, there will be two cases:\n",
    "          1. if the key is already present (we simply need to update its value)\n",
    "          2. if the key is not present (we have to insert key value pair from tail)\n",
    "        \n",
    "        \"\"\" \n",
    "        # So, first we will find node index in that bucket(LL object) by appling search method \n",
    "        node_index = self.buckets[bucket_index].search(key)\n",
    "        \n",
    "        if node_index == -1:\n",
    "            # inserting from tail\n",
    "            self.buckets[bucket_index].append(key, value)\n",
    "            self.size += 1\n",
    "        else:\n",
    "            # updating the value of key\n",
    "            node = self.buckets[bucket_index].get_node_at_index(node_index)\n",
    "            node.value = value\n",
    "    \n",
    "    def hash_func(self, key):\n",
    "        return abs(hash(key)) % self.capacity"
   ]
  },
  {
   "cell_type": "code",
   "execution_count": 4,
   "id": "ffdbe65e",
   "metadata": {},
   "outputs": [],
   "source": [
    "d1 = Dictionary(4)"
   ]
  },
  {
   "cell_type": "code",
   "execution_count": 5,
   "id": "5ba9ea44",
   "metadata": {},
   "outputs": [],
   "source": [
    "d1.put(\"Ck\", 1500)"
   ]
  },
  {
   "cell_type": "code",
   "execution_count": 6,
   "id": "a41b9a83",
   "metadata": {},
   "outputs": [
    {
     "data": {
      "text/plain": [
       "[<__main__.LinkedList at 0x11e9b2fa8e0>,\n",
       " <__main__.LinkedList at 0x11e9b2faa00>,\n",
       " <__main__.LinkedList at 0x11e9b2faac0>,\n",
       " <__main__.LinkedList at 0x11e9b2faa60>]"
      ]
     },
     "execution_count": 6,
     "metadata": {},
     "output_type": "execute_result"
    }
   ],
   "source": [
    "d1.buckets"
   ]
  },
  {
   "cell_type": "code",
   "execution_count": 12,
   "id": "288dc1ab",
   "metadata": {},
   "outputs": [
    {
     "name": "stdout",
     "output_type": "stream",
     "text": [
      "Ck:1500\n"
     ]
    }
   ],
   "source": [
    "print(d1.buckets[2])"
   ]
  },
  {
   "cell_type": "code",
   "execution_count": 13,
   "id": "1db29cb0",
   "metadata": {},
   "outputs": [],
   "source": [
    "d1.put(\"Md\", 1501)"
   ]
  },
  {
   "cell_type": "code",
   "execution_count": 15,
   "id": "097ca209",
   "metadata": {},
   "outputs": [
    {
     "name": "stdout",
     "output_type": "stream",
     "text": [
      "Md:1501\n"
     ]
    }
   ],
   "source": [
    "print(d1.buckets[0])"
   ]
  },
  {
   "cell_type": "code",
   "execution_count": 16,
   "id": "e1d9f8ee",
   "metadata": {},
   "outputs": [],
   "source": [
    "d1.put(\"Mh\", 1499)"
   ]
  },
  {
   "cell_type": "code",
   "execution_count": 18,
   "id": "205a71c9",
   "metadata": {},
   "outputs": [
    {
     "name": "stdout",
     "output_type": "stream",
     "text": [
      "Md:1501, Mh:1499\n"
     ]
    }
   ],
   "source": [
    "print(d1.buckets[0])"
   ]
  },
  {
   "cell_type": "code",
   "execution_count": 19,
   "id": "29d6e857",
   "metadata": {},
   "outputs": [],
   "source": [
    "d1.put(\"Mh\", \"I got changed :(\")"
   ]
  },
  {
   "cell_type": "code",
   "execution_count": 20,
   "id": "2ab5ddbf",
   "metadata": {},
   "outputs": [
    {
     "name": "stdout",
     "output_type": "stream",
     "text": [
      "Md:1501, Mh:I got changed :(\n"
     ]
    }
   ],
   "source": [
    "print(d1.buckets[0])"
   ]
  },
  {
   "cell_type": "code",
   "execution_count": null,
   "id": "f03bdd92",
   "metadata": {},
   "outputs": [],
   "source": []
  },
  {
   "cell_type": "code",
   "execution_count": null,
   "id": "0a1c5411",
   "metadata": {},
   "outputs": [],
   "source": []
  },
  {
   "cell_type": "code",
   "execution_count": null,
   "id": "f0ee0fcd",
   "metadata": {},
   "outputs": [],
   "source": []
  },
  {
   "cell_type": "markdown",
   "id": "570fe37d",
   "metadata": {},
   "source": [
    "### Hashing with Load Factor"
   ]
  },
  {
   "cell_type": "markdown",
   "id": "9df6e9ef",
   "metadata": {},
   "source": [
    "#### \"\"\"Load Factor is also called Lambda\"\"\"\n",
    "The main changes are applied when instering an key value pair (every time load factor is checked using a threshold)"
   ]
  },
  {
   "cell_type": "code",
   "execution_count": null,
   "id": "cc14d1fa",
   "metadata": {},
   "outputs": [],
   "source": []
  },
  {
   "cell_type": "code",
   "execution_count": null,
   "id": "cfc0cfb2",
   "metadata": {},
   "outputs": [],
   "source": [
    "class Dictionary:\n",
    "    def __init__(self, capacity):\n",
    "        # total no of bucket \n",
    "        self.capacity = capacity\n",
    "        # num of key value pairs present in dictionary\n",
    "        self.size = 0\n",
    "        # creating an array of LL\n",
    "        self.buckets = self.make_array(self.capacity)\n",
    "    \n",
    "    def make_array(self, capacity):\n",
    "        buckets = []\n",
    "        for i in range(capacity):\n",
    "            buckets.append(LinkedList())\n",
    "        return buckets\n",
    "    \n",
    "    def put(self, key, value):\n",
    "        # first finding the index of bucket (LL object) where we need to insert\n",
    "        # Note, in chaining the index of bucket where we need to insert is fixed\n",
    "        bucket_index = self.hash_func(key)\n",
    "        \n",
    "        \"\"\"\n",
    "        Here, there will be two cases:\n",
    "          1. if the key is already present (we simply need to update its value)\n",
    "          2. if the key is not present (we have to insert key value pair from tail)\n",
    "        \n",
    "        \"\"\" \n",
    "        # So, first we will find node index in that bucket(LL object) by appling search method \n",
    "        node_index = self.buckets[bucket_index].search(key)\n",
    "        \n",
    "        if node_index == -1:\n",
    "            # inserting from tail\n",
    "            self.buckets[bucket_index].append(key, value)\n",
    "            self.size += 1\n",
    "            \n",
    "            # checking load factor creteria (lf = size/capacity)\n",
    "            if (self.size/self.capacity >= 2):\n",
    "                self.rehash()\n",
    "                \n",
    "        else:\n",
    "            # updating the value of key\n",
    "            node = self.buckets[bucket_index].get_node_at_index(node_index)\n",
    "            node.value = value\n",
    "    \n",
    "    def hash_func(self, key):\n",
    "        return abs(hash(key)) % self.capacity\n",
    "    \n",
    "    \n",
    "    def rehash(self):\n",
    "        # defining a new capacity and so size\n",
    "        self.capacity = self.capacity * 2\n",
    "        self.size = 0\n",
    "        # storing precious array for acessing later\n",
    "        old_buckets = self.buckets\n",
    "        \n",
    "        # redefining buckets\n",
    "        self.buckets = self.make_array(self.capacity)\n",
    "        \n",
    "        # Now accessing each key-value pair from old buckets and putting them into new buckets\n",
    "        for bckt in old_buckets:\n",
    "            for i in range(len(bckt)):\n",
    "                # fetching node\n",
    "                curr_node = bckt.get_node_at_index(i)\n",
    "                # fetching its key and value\n",
    "                k = curr_node.key\n",
    "                v = curr_node.value\n",
    "                \n",
    "                # finally putting key-value pair into new buckets\n",
    "                self.put(k, v)"
   ]
  },
  {
   "cell_type": "code",
   "execution_count": null,
   "id": "34c34c6e",
   "metadata": {},
   "outputs": [],
   "source": []
  },
  {
   "cell_type": "code",
   "execution_count": null,
   "id": "1636cf7e",
   "metadata": {},
   "outputs": [],
   "source": []
  },
  {
   "cell_type": "code",
   "execution_count": null,
   "id": "f799578a",
   "metadata": {},
   "outputs": [],
   "source": []
  },
  {
   "cell_type": "code",
   "execution_count": null,
   "id": "5726d800",
   "metadata": {},
   "outputs": [],
   "source": []
  },
  {
   "cell_type": "code",
   "execution_count": null,
   "id": "732aac50",
   "metadata": {},
   "outputs": [],
   "source": []
  },
  {
   "cell_type": "code",
   "execution_count": null,
   "id": "62149025",
   "metadata": {},
   "outputs": [],
   "source": []
  },
  {
   "cell_type": "code",
   "execution_count": null,
   "id": "f3759159",
   "metadata": {},
   "outputs": [],
   "source": []
  },
  {
   "cell_type": "code",
   "execution_count": null,
   "id": "2a453972",
   "metadata": {},
   "outputs": [],
   "source": []
  },
  {
   "cell_type": "code",
   "execution_count": null,
   "id": "f0e54a18",
   "metadata": {},
   "outputs": [],
   "source": []
  }
 ],
 "metadata": {
  "kernelspec": {
   "display_name": "Python 3 (ipykernel)",
   "language": "python",
   "name": "python3"
  },
  "language_info": {
   "codemirror_mode": {
    "name": "ipython",
    "version": 3
   },
   "file_extension": ".py",
   "mimetype": "text/x-python",
   "name": "python",
   "nbconvert_exporter": "python",
   "pygments_lexer": "ipython3",
   "version": "3.9.13"
  }
 },
 "nbformat": 4,
 "nbformat_minor": 5
}
