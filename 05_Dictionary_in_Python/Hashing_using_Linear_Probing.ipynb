{
 "cells": [
  {
   "cell_type": "markdown",
   "id": "6f33845e",
   "metadata": {},
   "source": [
    "### *)"
   ]
  },
  {
   "cell_type": "markdown",
   "id": "34857ff4",
   "metadata": {},
   "source": [
    "\n",
    "In constructor of Dictionary class, we need to create two arrays of same size; one for storing keys and other for storing their values. \n",
    "The index for storing key and it's vlaue will always be same and the index is claculated using a hash function.\n",
    "\n",
    "Note: Python has inbuild function for hashing, i.e., hash()"
   ]
  },
  {
   "cell_type": "code",
   "execution_count": 1,
   "id": "4503102b",
   "metadata": {},
   "outputs": [],
   "source": [
    "class Dictionary:\n",
    "    \n",
    "    def __init__(self, size):\n",
    "        self.size = size\n",
    "        # Initilizing two arrays of same size\n",
    "        self.slots = [None] * self.size   # for storing keys\n",
    "        self.data = [None] * self.size    # for storing values\n",
    "    \n",
    "    def hash_function(self, key):\n",
    "        # using the python inbuild function 'hash()' to calculate the hash value\n",
    "        # It throws error if we pass any mutable data to it\n",
    "        # since sometimes it gives negative values, we need to take absolute of the function\n",
    "        return abs(hash(key)) % self.size\n",
    "        \n",
    "    def put(self, key, value):\n",
    "        hash_value = self.hash_function(key)\n",
    "        \n",
    "        # Now checking if that index = hash_value is empty or not\n",
    "        # First, if its empty -\n",
    "        if self.slots[hash_value] == None:\n",
    "            self.slots[hash_value] = key\n",
    "            self.data[hash_value] = value\n",
    "            \n",
    "        # Second, if it's not empty\n",
    "        else:\n",
    "            # Again, there are two possibilities:\n",
    "            # 1) The key in the slots index contains the same key we are trying to insert; this means we simply need \n",
    "            #    to update the key with new value as keys are unique in a dictionary.\n",
    "            if self.slots[hash_value] == key:\n",
    "                self.data[hash_value] = value\n",
    "            else:\n",
    "                new_hash_value = self.rehash(hash_value)\n",
    "                \n",
    "                # runnning a loop until we get an empty cell(for insertion) or the same key (for updating)\n",
    "                while self.slots[new_hash_value] != None and self.slots[new_hash_value] != key:\n",
    "                    new_hash_value = self.rehash(new_hash_value)\n",
    "                \n",
    "                if self.slots[new_hash_value] == key:\n",
    "                    self.data[new_hash_value] = value\n",
    "                else:\n",
    "                    self.slots[new_hash_value] = key\n",
    "                    self.data[new_hash_value] = value\n",
    "                    \n",
    "    def get(self, key):\n",
    "        start_position = self.hash_function(key)\n",
    "        current_position = start_position\n",
    "        \n",
    "        while self.slots[current_position] != None:\n",
    "            if self.slots[current_position] == key:\n",
    "                return self.data[current_position]\n",
    "            \n",
    "            current_position = self.rehash(current_position)\n",
    "            \n",
    "            # In case, all cells are filled then, for coming out of the loop we need to check:\n",
    "            if current_position == start_position:\n",
    "                return \"Item not Found!\"\n",
    "            \n",
    "        return \"Item not Found!\"\n",
    "                \n",
    "    def rehash(self, previous_hash_value):\n",
    "        # Here, we will implement the concept of linear probing\n",
    "        return (previous_hash_value + 1) % self.size        "
   ]
  },
  {
   "cell_type": "code",
   "execution_count": 2,
   "id": "246d5af8",
   "metadata": {},
   "outputs": [],
   "source": [
    "d1 = Dictionary(4)"
   ]
  },
  {
   "cell_type": "code",
   "execution_count": 3,
   "id": "a981b133",
   "metadata": {},
   "outputs": [
    {
     "data": {
      "text/plain": [
       "[None, None, None, None]"
      ]
     },
     "execution_count": 3,
     "metadata": {},
     "output_type": "execute_result"
    }
   ],
   "source": [
    "d1.slots"
   ]
  },
  {
   "cell_type": "code",
   "execution_count": 4,
   "id": "71581e33",
   "metadata": {},
   "outputs": [
    {
     "data": {
      "text/plain": [
       "[None, None, None, None]"
      ]
     },
     "execution_count": 4,
     "metadata": {},
     "output_type": "execute_result"
    }
   ],
   "source": [
    "d1.data"
   ]
  },
  {
   "cell_type": "code",
   "execution_count": 5,
   "id": "e7d5085d",
   "metadata": {},
   "outputs": [],
   "source": [
    "d1.put(\"Python\", 1)"
   ]
  },
  {
   "cell_type": "code",
   "execution_count": 6,
   "id": "e764b39a",
   "metadata": {},
   "outputs": [
    {
     "name": "stdout",
     "output_type": "stream",
     "text": [
      "[None, None, 'Python', None]\n",
      "[None, None, 1, None]\n"
     ]
    }
   ],
   "source": [
    "print(d1.slots)\n",
    "print(d1.data)"
   ]
  },
  {
   "cell_type": "code",
   "execution_count": 7,
   "id": "b46e7d91",
   "metadata": {},
   "outputs": [
    {
     "data": {
      "text/plain": [
       "0"
      ]
     },
     "execution_count": 7,
     "metadata": {},
     "output_type": "execute_result"
    }
   ],
   "source": [
    "d1.hash_function(\"Pyhton\")"
   ]
  },
  {
   "cell_type": "code",
   "execution_count": 11,
   "id": "f621aa46",
   "metadata": {},
   "outputs": [],
   "source": [
    "d1.put(\"c++\", 3)\n",
    "d1.put(\"java\", 2)\n",
    "d1.put(\"swift\", 5)"
   ]
  },
  {
   "cell_type": "code",
   "execution_count": 12,
   "id": "642e17e1",
   "metadata": {},
   "outputs": [
    {
     "name": "stdout",
     "output_type": "stream",
     "text": [
      "['java', 'swift', 'Python', 'c++']\n",
      "[2, 5, 1, 3]\n"
     ]
    }
   ],
   "source": [
    "print(d1.slots)\n",
    "print(d1.data)"
   ]
  },
  {
   "cell_type": "code",
   "execution_count": null,
   "id": "fd84714b",
   "metadata": {},
   "outputs": [],
   "source": []
  },
  {
   "cell_type": "markdown",
   "id": "28c1b117",
   "metadata": {},
   "source": [
    "###  using magic methods to set and get items just like python dictionary"
   ]
  },
  {
   "cell_type": "code",
   "execution_count": 20,
   "id": "d79fc73d",
   "metadata": {},
   "outputs": [],
   "source": [
    "class Dictionary:\n",
    "    \n",
    "    def __init__(self, size):\n",
    "        self.size = size\n",
    "        # Initilizing two arrays of same size\n",
    "        self.slots = [None] * self.size   # for storing keys\n",
    "        self.data = [None] * self.size    # for storing values\n",
    "    \n",
    "    def hash_function(self, key):\n",
    "        # using the python inbuild function 'hash()' to calculate the hash value\n",
    "        # It throws error if we pass any mutable data to it\n",
    "        # since sometimes it gives negative values, we need to take absolute of the function\n",
    "        return abs(hash(key)) % self.size\n",
    "        \n",
    "    def put(self, key, value):\n",
    "        hash_value = self.hash_function(key)\n",
    "        \n",
    "        # Now checking if that index = hash_value is empty or not\n",
    "        # First, if its empty -\n",
    "        if self.slots[hash_value] == None:\n",
    "            self.slots[hash_value] = key\n",
    "            self.data[hash_value] = value\n",
    "            \n",
    "        # Second, if it's not empty\n",
    "        else:\n",
    "            # Again, there are two possibilities:\n",
    "            # 1) The key in the slots index contains the same key we are trying to insert; this means we simply need \n",
    "            #    to update the key with new value as keys are unique in a dictionary.\n",
    "            if self.slots[hash_value] == key:\n",
    "                self.data[hash_value] = value\n",
    "            else:\n",
    "                new_hash_value = self.rehash(hash_value)\n",
    "                \n",
    "                # runnning a loop until we get an empty cell(for insertion) or the same key (for updating)\n",
    "                while self.slots[new_hash_value] != None and self.slots[new_hash_value] != key:\n",
    "                    new_hash_value = self.rehash(new_hash_value)\n",
    "                \n",
    "                if self.slots[new_hash_value] == key:\n",
    "                    self.data[new_hash_value] = value\n",
    "                else:\n",
    "                    self.slots[new_hash_value] = key\n",
    "                    self.data[new_hash_value] = value\n",
    "                    \n",
    "    def get(self, key):\n",
    "        start_position = self.hash_function(key)\n",
    "        current_position = start_position\n",
    "        \n",
    "        while self.slots[current_position] != None:\n",
    "            if self.slots[current_position] == key:\n",
    "                return self.data[current_position]\n",
    "            \n",
    "            current_position = self.rehash(current_position)\n",
    "            \n",
    "            # In case, all cells are filled then, for coming out of the loop we need to check:\n",
    "            if current_position == start_position:\n",
    "                return \"Item not Found!\"\n",
    "            \n",
    "        # Since we encountered None, it again means item is not there\n",
    "        return \"Item not Found!\"\n",
    "                \n",
    "    def rehash(self, previous_hash_value):\n",
    "        # Here, we will implement the concept of linear probing\n",
    "        return (previous_hash_value + 1) % self.size   \n",
    "    \n",
    "    # Using a magic function to set items\n",
    "    def __setitem__(self, key, value):\n",
    "        self.put(key, value)\n",
    "    \n",
    "    # Using a magic function to get an item\n",
    "    def __getitem__(self, key):\n",
    "        return self.get(key)"
   ]
  },
  {
   "cell_type": "code",
   "execution_count": 21,
   "id": "eb75c171",
   "metadata": {},
   "outputs": [],
   "source": [
    "d2 = Dictionary(3)"
   ]
  },
  {
   "cell_type": "code",
   "execution_count": 22,
   "id": "1e35d28a",
   "metadata": {},
   "outputs": [
    {
     "name": "stdout",
     "output_type": "stream",
     "text": [
      "[None, None, None]\n",
      "[None, None, None]\n"
     ]
    }
   ],
   "source": [
    "print(d2.slots)\n",
    "print(d2.data)"
   ]
  },
  {
   "cell_type": "code",
   "execution_count": 23,
   "id": "f4105f95",
   "metadata": {},
   "outputs": [],
   "source": [
    "d2[\"python\"] = 1"
   ]
  },
  {
   "cell_type": "code",
   "execution_count": 24,
   "id": "7a48888f",
   "metadata": {},
   "outputs": [
    {
     "name": "stdout",
     "output_type": "stream",
     "text": [
      "['python', None, None]\n",
      "[1, None, None]\n"
     ]
    }
   ],
   "source": [
    "print(d2.slots)\n",
    "print(d2.data)"
   ]
  },
  {
   "cell_type": "code",
   "execution_count": 25,
   "id": "2a262874",
   "metadata": {},
   "outputs": [
    {
     "data": {
      "text/plain": [
       "1"
      ]
     },
     "execution_count": 25,
     "metadata": {},
     "output_type": "execute_result"
    }
   ],
   "source": [
    "d2[\"python\"]"
   ]
  },
  {
   "cell_type": "code",
   "execution_count": null,
   "id": "8896cd95",
   "metadata": {},
   "outputs": [],
   "source": []
  },
  {
   "cell_type": "code",
   "execution_count": null,
   "id": "9fa400c9",
   "metadata": {},
   "outputs": [],
   "source": []
  },
  {
   "cell_type": "code",
   "execution_count": null,
   "id": "faab0a00",
   "metadata": {},
   "outputs": [],
   "source": []
  },
  {
   "cell_type": "code",
   "execution_count": null,
   "id": "9ce6eebf",
   "metadata": {},
   "outputs": [],
   "source": []
  }
 ],
 "metadata": {
  "kernelspec": {
   "display_name": "Python 3 (ipykernel)",
   "language": "python",
   "name": "python3"
  },
  "language_info": {
   "codemirror_mode": {
    "name": "ipython",
    "version": 3
   },
   "file_extension": ".py",
   "mimetype": "text/x-python",
   "name": "python",
   "nbconvert_exporter": "python",
   "pygments_lexer": "ipython3",
   "version": "3.9.13"
  }
 },
 "nbformat": 4,
 "nbformat_minor": 5
}
