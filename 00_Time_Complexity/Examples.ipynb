{
 "cells": [
  {
   "cell_type": "markdown",
   "id": "d609b52a",
   "metadata": {},
   "source": [
    "# Find time complexity for each problem."
   ]
  },
  {
   "cell_type": "markdown",
   "id": "55440c0f",
   "metadata": {},
   "source": [
    "### Problem 01:"
   ]
  },
  {
   "cell_type": "code",
   "execution_count": 1,
   "id": "336149f9",
   "metadata": {},
   "outputs": [],
   "source": [
    "L = [1,2,3,4,5]\n",
    "\n",
    "sum = 0\n",
    "for i in L:\n",
    "    sum += i\n",
    "# print(sum)\n",
    "\n",
    "product = 1\n",
    "for i in L:\n",
    "    product *= i\n",
    "# print(product)"
   ]
  },
  {
   "cell_type": "markdown",
   "id": "8a66f943",
   "metadata": {},
   "source": [
    "#### Ans 01:-   O(n)"
   ]
  },
  {
   "cell_type": "code",
   "execution_count": null,
   "id": "ec334c80",
   "metadata": {},
   "outputs": [],
   "source": []
  },
  {
   "cell_type": "markdown",
   "id": "2e7cf2a7",
   "metadata": {},
   "source": [
    "### Problem 02:"
   ]
  },
  {
   "cell_type": "code",
   "execution_count": 2,
   "id": "6a419e1f",
   "metadata": {},
   "outputs": [],
   "source": [
    "L = [1,2,3,4,5]\n",
    "\n",
    "for i in L:\n",
    "    for j in L:\n",
    "        # print(i,j)\n",
    "        pass"
   ]
  },
  {
   "cell_type": "markdown",
   "id": "41b13bde",
   "metadata": {},
   "source": [
    "#### Ans 02:- O(n^2)"
   ]
  },
  {
   "cell_type": "code",
   "execution_count": null,
   "id": "62330f72",
   "metadata": {},
   "outputs": [],
   "source": []
  },
  {
   "cell_type": "markdown",
   "id": "d898fff5",
   "metadata": {},
   "source": [
    "### Problem 03:"
   ]
  },
  {
   "cell_type": "code",
   "execution_count": null,
   "id": "0caf0e91",
   "metadata": {},
   "outputs": [],
   "source": []
  },
  {
   "cell_type": "code",
   "execution_count": null,
   "id": "6ef51713",
   "metadata": {},
   "outputs": [],
   "source": []
  },
  {
   "cell_type": "code",
   "execution_count": null,
   "id": "79c06324",
   "metadata": {},
   "outputs": [],
   "source": []
  }
 ],
 "metadata": {
  "kernelspec": {
   "display_name": "Python 3 (ipykernel)",
   "language": "python",
   "name": "python3"
  },
  "language_info": {
   "codemirror_mode": {
    "name": "ipython",
    "version": 3
   },
   "file_extension": ".py",
   "mimetype": "text/x-python",
   "name": "python",
   "nbconvert_exporter": "python",
   "pygments_lexer": "ipython3",
   "version": "3.9.13"
  }
 },
 "nbformat": 4,
 "nbformat_minor": 5
}
