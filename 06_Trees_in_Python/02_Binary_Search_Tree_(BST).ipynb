{
 "cells": [
  {
   "cell_type": "markdown",
   "id": "c66a52bd",
   "metadata": {},
   "source": [
    "### BST Node"
   ]
  },
  {
   "cell_type": "code",
   "execution_count": 14,
   "id": "7d6c48ed",
   "metadata": {},
   "outputs": [],
   "source": [
    "class BinarySearhTreeNode():\n",
    "    def __init__(self, data):\n",
    "        self.data = data\n",
    "        self.left = None\n",
    "        self.right = None\n",
    "        \n",
    "    def add_child(self, elem):\n",
    "        if elem == self.data:\n",
    "            return\n",
    "        \n",
    "        if elem < self.data:\n",
    "            # add elem in left subtree\n",
    "            if self.left:\n",
    "                self.left.add_child(elem)\n",
    "            else:\n",
    "                self.left = BinarySearhTreeNode(elem)\n",
    "        else:\n",
    "            # add elem in right subtree\n",
    "            if self.right:\n",
    "                self.right.add_child(elem)\n",
    "            else:\n",
    "                self.right = BinarySearhTreeNode(elem)\n",
    "    \n",
    "    def in_order_traversal(self):\n",
    "        elements = []\n",
    "        \n",
    "        # First inserting left child node elements\n",
    "        if self.left:\n",
    "            elements += self.left.in_order_traversal()\n",
    "            \n",
    "        # Now, inserting our parent node (current node):\n",
    "        elements.append(self.data)\n",
    "        \n",
    "        # Atlast, inserting right child node elements\n",
    "        if self.right:\n",
    "            elements += self.right.in_order_traversal()\n",
    "        \n",
    "        return elements\n",
    "    \n",
    "    def search(self, elem):\n",
    "        if self.data == elem:\n",
    "            return True\n",
    "        \n",
    "        if elem < self.data:\n",
    "            # element might be in the left subtree\n",
    "            if self.left:\n",
    "                return self.left.search(elem)\n",
    "            else:\n",
    "                # Since, we reached the end and didn't get the element\n",
    "                return False\n",
    "            \n",
    "        if elem > self.data:\n",
    "            # element might be in the right subtree\n",
    "            if self.right:\n",
    "                return self.right.search(elem)\n",
    "            else:\n",
    "                # Since, we reached the end and didn't get the element\n",
    "                return False"
   ]
  },
  {
   "cell_type": "markdown",
   "id": "ddb950c2",
   "metadata": {},
   "source": [
    "### Helpher function to build BST "
   ]
  },
  {
   "cell_type": "code",
   "execution_count": 15,
   "id": "4a294113",
   "metadata": {},
   "outputs": [],
   "source": [
    "def build_tree(elements):\n",
    "    root = BinarySearhTreeNode(elements[0])\n",
    "    \n",
    "    for i in range(1, len(elements)):\n",
    "        root.add_child(elements[i])\n",
    "    \n",
    "    return root"
   ]
  },
  {
   "cell_type": "code",
   "execution_count": 16,
   "id": "4cc4701d",
   "metadata": {},
   "outputs": [
    {
     "name": "stdout",
     "output_type": "stream",
     "text": [
      "[4, 7, 8, 10, 12, 15, 20, 25, 28]\n",
      "True\n",
      "False\n"
     ]
    }
   ],
   "source": [
    "if __name__ == \"__main__\":\n",
    "    numbers = [7, 12, 15, 28, 4, 12, 8, 20, 10, 25, 10]\n",
    "    numbers_tree = build_tree(numbers)\n",
    "    print(numbers_tree.in_order_traversal())\n",
    "    print(numbers_tree.search(10))\n",
    "    print(numbers_tree.search(11))"
   ]
  },
  {
   "cell_type": "code",
   "execution_count": null,
   "id": "cdec9b1a",
   "metadata": {},
   "outputs": [],
   "source": []
  },
  {
   "cell_type": "markdown",
   "id": "e57437a2",
   "metadata": {},
   "source": [
    "NOTE:\n",
    "1. Using in_order_traversal() function, we can sort the elements of an array.\n",
    "2. All elemnts are unique, even though there were few repeating elements in original input."
   ]
  },
  {
   "cell_type": "code",
   "execution_count": null,
   "id": "ae53284c",
   "metadata": {},
   "outputs": [],
   "source": []
  },
  {
   "cell_type": "code",
   "execution_count": 19,
   "id": "19840f72",
   "metadata": {},
   "outputs": [
    {
     "name": "stdout",
     "output_type": "stream",
     "text": [
      "UK is in the list?  True\n",
      "Sweden is in the list?  False\n"
     ]
    }
   ],
   "source": [
    "if __name__ == '__main__':\n",
    "    countries = [\"India\", \"Pakistan\", \"Germany\", \"USA\", \"China\", \"India\", \"UK\", \"USA\"]\n",
    "    country_tree = build_tree(countries)\n",
    "\n",
    "    print(\"UK is in the list? \", country_tree.search(\"UK\"))\n",
    "    print(\"Sweden is in the list? \", country_tree.search(\"Sweden\"))"
   ]
  },
  {
   "cell_type": "code",
   "execution_count": null,
   "id": "73492a75",
   "metadata": {},
   "outputs": [],
   "source": []
  },
  {
   "cell_type": "code",
   "execution_count": null,
   "id": "c4296e9a",
   "metadata": {},
   "outputs": [],
   "source": []
  },
  {
   "cell_type": "code",
   "execution_count": null,
   "id": "1a1c95df",
   "metadata": {},
   "outputs": [],
   "source": []
  },
  {
   "cell_type": "code",
   "execution_count": null,
   "id": "741cfa2c",
   "metadata": {},
   "outputs": [],
   "source": []
  },
  {
   "cell_type": "code",
   "execution_count": null,
   "id": "02077a94",
   "metadata": {},
   "outputs": [],
   "source": []
  },
  {
   "cell_type": "code",
   "execution_count": null,
   "id": "3f5b391a",
   "metadata": {},
   "outputs": [],
   "source": []
  },
  {
   "cell_type": "code",
   "execution_count": null,
   "id": "74fab91a",
   "metadata": {},
   "outputs": [],
   "source": []
  },
  {
   "cell_type": "code",
   "execution_count": null,
   "id": "514eab78",
   "metadata": {},
   "outputs": [],
   "source": []
  },
  {
   "cell_type": "code",
   "execution_count": null,
   "id": "857589a0",
   "metadata": {},
   "outputs": [],
   "source": []
  },
  {
   "cell_type": "code",
   "execution_count": null,
   "id": "3580c002",
   "metadata": {},
   "outputs": [],
   "source": []
  },
  {
   "cell_type": "code",
   "execution_count": null,
   "id": "5ed8d9db",
   "metadata": {},
   "outputs": [],
   "source": []
  }
 ],
 "metadata": {
  "kernelspec": {
   "display_name": "Python 3 (ipykernel)",
   "language": "python",
   "name": "python3"
  },
  "language_info": {
   "codemirror_mode": {
    "name": "ipython",
    "version": 3
   },
   "file_extension": ".py",
   "mimetype": "text/x-python",
   "name": "python",
   "nbconvert_exporter": "python",
   "pygments_lexer": "ipython3",
   "version": "3.9.13"
  }
 },
 "nbformat": 4,
 "nbformat_minor": 5
}
