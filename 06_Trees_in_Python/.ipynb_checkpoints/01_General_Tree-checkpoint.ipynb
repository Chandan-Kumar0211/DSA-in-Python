{
 "cells": [
  {
   "cell_type": "markdown",
   "id": "e70e919f",
   "metadata": {},
   "source": [
    "###  Tree Node Implementation:"
   ]
  },
  {
   "cell_type": "code",
   "execution_count": 9,
   "id": "a4b72eeb",
   "metadata": {},
   "outputs": [],
   "source": [
    "# Creatin a class of Tree Node\n",
    "\n",
    "class TreeNode:\n",
    "    def __init__(self, data):\n",
    "        self.data = data\n",
    "        self.parent = None\n",
    "        self.childrens = []\n",
    "    \n",
    "    \n",
    "    def add_child(self, child):\n",
    "        \"\"\"\n",
    "        Here, We are adding a child (which itself is instance of tree node) to the current instance which is 'self';\n",
    "        so it basically means self is the parent of this child node.\n",
    "        \"\"\"\n",
    "        child.parent = self     # Since, child itself is an instance of this class. \n",
    "        self.childrens.append(child)\n",
    "    \n",
    "    def print_tree(self):\n",
    "        spaces = \" \" * self.get_level() * 2\n",
    "        prefix = spaces + \"|_ _\" if self.parent else \"\"\n",
    "        print(prefix + self.data)\n",
    "        \n",
    "        if len(self.childrens) > 0:\n",
    "            for child in self.childrens:\n",
    "                child.print_tree() \n",
    "    \n",
    "    # For printing tree in hierarcy format we need to find the level of each node\n",
    "    # and acording to that we assign some space as a prefix\n",
    "    def get_level(self):\n",
    "        level = 0\n",
    "        p = self.parent\n",
    "        while p:\n",
    "            p = p.parent\n",
    "            level += 1\n",
    "        return level"
   ]
  },
  {
   "cell_type": "code",
   "execution_count": 10,
   "id": "ccf60e92",
   "metadata": {},
   "outputs": [
    {
     "name": "stdout",
     "output_type": "stream",
     "text": [
      "Electronics\n",
      "  |_ _Laptop\n",
      "    |_ _Acer\n",
      "    |_ _Apple\n",
      "    |_ _HP\n",
      "  |_ _Television\n",
      "    |_ _Samsung\n",
      "    |_ _LG\n",
      "    |_ _SONY\n",
      "  |_ _Cell Phone\n",
      "    |_ _iPhone\n",
      "    |_ _Realme\n",
      "    |_ _Nokia\n",
      "    |_ _One Phus\n",
      "    |_ _Google Pixel\n"
     ]
    }
   ],
   "source": [
    "# Defining a Electronics tree\n",
    "\n",
    "def ElectronicsTree():\n",
    "    root = TreeNode(\"Electronics\")\n",
    "    \n",
    "    laptop = TreeNode(\"Laptop\")\n",
    "    laptop.add_child(TreeNode(\"Acer\"))\n",
    "    laptop.add_child(TreeNode(\"Apple\"))\n",
    "    laptop.add_child(TreeNode(\"HP\"))\n",
    "    \n",
    "    tv = TreeNode(\"Television\")\n",
    "    tv.add_child(TreeNode(\"Samsung\"))\n",
    "    tv.add_child(TreeNode(\"LG\"))\n",
    "    tv.add_child(TreeNode(\"SONY\"))\n",
    "    \n",
    "    mobile = TreeNode(\"Cell Phone\")\n",
    "    mobile.add_child(TreeNode(\"iPhone\"))\n",
    "    mobile.add_child(TreeNode(\"Realme\"))\n",
    "    mobile.add_child(TreeNode(\"Nokia\"))\n",
    "    mobile.add_child(TreeNode(\"One Phus\"))\n",
    "    mobile.add_child(TreeNode(\"Google Pixel\"))\n",
    "    \n",
    "    # At last all the nodes to root node (parent to child nodes)\n",
    "    root.add_child(laptop)\n",
    "    root.add_child(tv)\n",
    "    root.add_child(mobile)\n",
    "    \n",
    "    return root\n",
    "\n",
    "\n",
    "if __name__ == \"__main__\":\n",
    "    root = ElectronicsTree()\n",
    "    root.print_tree()\n"
   ]
  },
  {
   "cell_type": "code",
   "execution_count": null,
   "id": "e2398130",
   "metadata": {},
   "outputs": [],
   "source": []
  },
  {
   "cell_type": "code",
   "execution_count": null,
   "id": "676d4143",
   "metadata": {},
   "outputs": [],
   "source": []
  },
  {
   "cell_type": "code",
   "execution_count": null,
   "id": "2f5b234d",
   "metadata": {},
   "outputs": [],
   "source": []
  },
  {
   "cell_type": "markdown",
   "id": "e28ffc5e",
   "metadata": {},
   "source": [
    "# Example Exercise:"
   ]
  },
  {
   "cell_type": "markdown",
   "id": "9e86e61e",
   "metadata": {},
   "source": [
    "### Ex: 01"
   ]
  },
  {
   "cell_type": "markdown",
   "id": "9817b3bb",
   "metadata": {},
   "source": [
    "Extent tree class built above so that it takes name and designation in data part of TreeNode class. Now extend print_tree function such that it can print either name tree, designation tree or name and designation tree. "
   ]
  },
  {
   "cell_type": "markdown",
   "id": "c93f96e8",
   "metadata": {},
   "source": [
    "Link: https://github.com/codebasics/data-structures-algorithms-python/blob/master/data_structures/7_Tree/7_tree_exercise.md"
   ]
  },
  {
   "cell_type": "markdown",
   "id": "caa16853",
   "metadata": {},
   "source": [
    "### Soluion: 01"
   ]
  },
  {
   "cell_type": "code",
   "execution_count": 1,
   "id": "8f7f5183",
   "metadata": {},
   "outputs": [],
   "source": [
    "class CompanyTree:\n",
    "    def __init__(self, name, designation):\n",
    "        self.name = name\n",
    "        self.designation = designation\n",
    "        self.parent = None\n",
    "        self.children = []\n",
    "\n",
    "    def add_child(self, child):\n",
    "        \"\"\"\n",
    "        Here, We are adding a child (which itself is instance of tree node) to the current instance which is 'self';\n",
    "        so it basically means self is the parent of this child node.\n",
    "        \"\"\"\n",
    "        child.parent = self  # Since, child itself is an instance of this class.\n",
    "        self.children.append(child)\n",
    "\n",
    "    def print_tree(self, print_format = \"both\"):\n",
    "        spaces = \" \" * self.get_level() * 2\n",
    "        prefix = spaces + \"|_ _\" if self.parent else \"\"\n",
    "        \n",
    "        if print_format == \"only_name\":\n",
    "            print(prefix + self.name)\n",
    "            if len(self.children) > 0:\n",
    "                for child in self.children:\n",
    "                    child.print_tree()\n",
    "        elif print_format == \"only_designation\":\n",
    "            print(prefix + self.designation)\n",
    "            if len(self.children) > 0:\n",
    "                for child in self.children:\n",
    "                    child.print_tree()\n",
    "        else:\n",
    "            pass\n",
    "                    \n",
    "\n",
    "    # For printing tree in hierarchy format we need to find the level of each node\n",
    "    # and according to that we assign some space as a prefix\n",
    "    def get_level(self):\n",
    "        level = 0\n",
    "        p = self.parent\n",
    "        while p:\n",
    "            p = p.parent\n",
    "            level += 1\n",
    "        return level\n"
   ]
  },
  {
   "cell_type": "code",
   "execution_count": 3,
   "id": "2e80a745",
   "metadata": {},
   "outputs": [],
   "source": [
    "# Helpher function to create tree\n",
    "\n",
    "def build_management_tree():\n",
    "    \n",
    "    # Root node\n",
    "    head = CompanyTree(\"Nilupul\", \"CEO\")\n",
    "    \n",
    "    # Level: 01 \n",
    "    super_seniors_01 = CompanyTree(\"Chinmay\", \"CTO\")\n",
    "    \n",
    "    # Level: 01 with few level 02 also\n",
    "    super_seniors_02 = CompanyTree(\"Gels\", \"HR Head\")\n",
    "    super_seniors_02.add_child(\"Peter\", \"Recruitment Manager\")\n",
    "    super_seniors_02.add_child(\"Waqas\", \"Policy Manager\")\n",
    "    \n",
    "    # Level: 02 \n",
    "    seniors_01 = CompanyTree(\"Aamir\", \"Application Head\")\n",
    "    \n",
    "    # Level: 02 with few level 03 also\n",
    "    seniors_02 = CompanyTree(\"Vishwa\", \"Infrastructure Head\")\n",
    "    seniors_02.add_child(\"Dhaval\", \"Cloud Manager\")\n",
    "    seniors_02.add_child(\"Abhijit\", \"Application Head\")\n",
    "    \n",
    "    # Further connections\n",
    "    super_seniors_01.add_child(seniors_01)\n",
    "    super_seniors_01.add_child(seniors_02)\n",
    "    \n",
    "    head.add_child(super_seniors_01)\n",
    "    head.add_child(super_seniors_02)\n",
    "    \n",
    "    return head"
   ]
  },
  {
   "cell_type": "code",
   "execution_count": null,
   "id": "e375fd62",
   "metadata": {},
   "outputs": [],
   "source": []
  },
  {
   "cell_type": "code",
   "execution_count": null,
   "id": "eb549725",
   "metadata": {},
   "outputs": [],
   "source": []
  },
  {
   "cell_type": "code",
   "execution_count": null,
   "id": "cccba6cb",
   "metadata": {},
   "outputs": [],
   "source": []
  },
  {
   "cell_type": "code",
   "execution_count": null,
   "id": "2080d974",
   "metadata": {},
   "outputs": [],
   "source": []
  },
  {
   "cell_type": "code",
   "execution_count": null,
   "id": "6e2711b5",
   "metadata": {},
   "outputs": [],
   "source": []
  },
  {
   "cell_type": "code",
   "execution_count": null,
   "id": "6f50b600",
   "metadata": {},
   "outputs": [],
   "source": []
  }
 ],
 "metadata": {
  "kernelspec": {
   "display_name": "Python 3 (ipykernel)",
   "language": "python",
   "name": "python3"
  },
  "language_info": {
   "codemirror_mode": {
    "name": "ipython",
    "version": 3
   },
   "file_extension": ".py",
   "mimetype": "text/x-python",
   "name": "python",
   "nbconvert_exporter": "python",
   "pygments_lexer": "ipython3",
   "version": "3.9.13"
  }
 },
 "nbformat": 4,
 "nbformat_minor": 5
}
