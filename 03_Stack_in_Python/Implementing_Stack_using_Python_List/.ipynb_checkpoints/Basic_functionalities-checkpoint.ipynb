{
 "cells": [
  {
   "cell_type": "markdown",
   "id": "98495e2c",
   "metadata": {},
   "source": [
    "## Creating a basic Stack class"
   ]
  },
  {
   "cell_type": "code",
   "execution_count": 1,
   "id": "cd98fbe2",
   "metadata": {},
   "outputs": [
    {
     "data": {
      "text/plain": [
       "'\\nSince we are making Stack using python List assuming that as an array similar to java array and c++ array; and we know\\narrays in java and c++ are of fixed size (static array), so while making the contructor of Stack class here, we will pass\\nan argument name size of specify the size of this array (fixed).  \\n'"
      ]
     },
     "execution_count": 1,
     "metadata": {},
     "output_type": "execute_result"
    }
   ],
   "source": [
    "\"\"\"\n",
    "Since we are making Stack using python List assuming that as an array similar to java array and c++ array; and we know\n",
    "arrays in java and c++ are of fixed size (static array), so while making the contructor of Stack class here, we will pass\n",
    "an argument name size of specify the size of this array (fixed).  \n",
    "\"\"\""
   ]
  },
  {
   "cell_type": "code",
   "execution_count": 2,
   "id": "caf09f21",
   "metadata": {},
   "outputs": [],
   "source": [
    "class Stack:\n",
    "    def __init__(self, size):\n",
    "        self.size = size\n",
    "        # initializing stack with all elements as None\n",
    "        self.stack = [None]*self.size\n",
    "        # current number of items present\n",
    "        self.n = 0"
   ]
  },
  {
   "cell_type": "code",
   "execution_count": 3,
   "id": "776dfa12",
   "metadata": {},
   "outputs": [],
   "source": [
    "s = Stack(4)"
   ]
  },
  {
   "cell_type": "code",
   "execution_count": 4,
   "id": "364d8b56",
   "metadata": {},
   "outputs": [
    {
     "data": {
      "text/plain": [
       "[None, None, None, None]"
      ]
     },
     "execution_count": 4,
     "metadata": {},
     "output_type": "execute_result"
    }
   ],
   "source": [
    "s.stack"
   ]
  },
  {
   "cell_type": "code",
   "execution_count": null,
   "id": "2b43700f",
   "metadata": {},
   "outputs": [],
   "source": []
  },
  {
   "cell_type": "markdown",
   "id": "d6be88cc",
   "metadata": {},
   "source": [
    "### 01: Adding items in the Stack (by push method)"
   ]
  },
  {
   "cell_type": "code",
   "execution_count": 5,
   "id": "fc3a02f3",
   "metadata": {},
   "outputs": [],
   "source": [
    "class Stack:\n",
    "    def __init__(self, size):\n",
    "        self.size = size\n",
    "        # initializing stack with all elements as None\n",
    "        self.stack = [None]*self.size\n",
    "        # current number of items present\n",
    "        self.n = 0\n",
    "    \n",
    "    def push(self, item):\n",
    "        if self.size == self.n:\n",
    "            return \"Stack Overflow\"\n",
    "        else:\n",
    "            self.stack[self.n] = item\n",
    "            self.n += 1"
   ]
  },
  {
   "cell_type": "code",
   "execution_count": 6,
   "id": "f3b59a5d",
   "metadata": {},
   "outputs": [],
   "source": [
    "s_01 = Stack(3)"
   ]
  },
  {
   "cell_type": "code",
   "execution_count": 7,
   "id": "f83aa7f0",
   "metadata": {},
   "outputs": [
    {
     "data": {
      "text/plain": [
       "[None, None, None]"
      ]
     },
     "execution_count": 7,
     "metadata": {},
     "output_type": "execute_result"
    }
   ],
   "source": [
    "s_01.stack"
   ]
  },
  {
   "cell_type": "code",
   "execution_count": 8,
   "id": "532a3a72",
   "metadata": {},
   "outputs": [],
   "source": [
    "s_01.push(5)"
   ]
  },
  {
   "cell_type": "code",
   "execution_count": 9,
   "id": "49064b44",
   "metadata": {},
   "outputs": [
    {
     "data": {
      "text/plain": [
       "[5, None, None]"
      ]
     },
     "execution_count": 9,
     "metadata": {},
     "output_type": "execute_result"
    }
   ],
   "source": [
    "s_01.stack"
   ]
  },
  {
   "cell_type": "code",
   "execution_count": 10,
   "id": "b5ba16cd",
   "metadata": {},
   "outputs": [],
   "source": [
    "s_01.push(8)\n",
    "s_01.push(100)"
   ]
  },
  {
   "cell_type": "code",
   "execution_count": 11,
   "id": "628f7a39",
   "metadata": {},
   "outputs": [
    {
     "data": {
      "text/plain": [
       "[5, 8, 100]"
      ]
     },
     "execution_count": 11,
     "metadata": {},
     "output_type": "execute_result"
    }
   ],
   "source": [
    "s_01.stack"
   ]
  },
  {
   "cell_type": "code",
   "execution_count": 12,
   "id": "ef8eea6f",
   "metadata": {},
   "outputs": [
    {
     "data": {
      "text/plain": [
       "'Stack Overflow'"
      ]
     },
     "execution_count": 12,
     "metadata": {},
     "output_type": "execute_result"
    }
   ],
   "source": [
    "s_01.push(4)"
   ]
  },
  {
   "cell_type": "code",
   "execution_count": null,
   "id": "27434bbb",
   "metadata": {},
   "outputs": [],
   "source": []
  },
  {
   "cell_type": "markdown",
   "id": "9b06334a",
   "metadata": {},
   "source": [
    "### 2. Removing items from Stack (by pop method)"
   ]
  },
  {
   "cell_type": "code",
   "execution_count": 36,
   "id": "330db875",
   "metadata": {},
   "outputs": [],
   "source": [
    "class Stack:\n",
    "    def __init__(self, size):\n",
    "        self.size = size\n",
    "        # initializing stack with all elements as None\n",
    "        self.stack = [None]*self.size\n",
    "        # current number of items present\n",
    "        self.n = 0\n",
    "    \n",
    "    def push(self, item):\n",
    "        if self.size == self.n:\n",
    "            return \"Stack Overflow\"\n",
    "        else:\n",
    "            self.stack[self.n] = item\n",
    "            self.n += 1\n",
    "        \n",
    "    def pop(self):\n",
    "        if self.n == 0:\n",
    "            return \"Empty Stack\"\n",
    "        else:\n",
    "            pop_elem = self.stack[self.n - 1]\n",
    "            self.n = self.n - 1\n",
    "            print(pop_elem)"
   ]
  },
  {
   "cell_type": "code",
   "execution_count": 37,
   "id": "5c59770c",
   "metadata": {},
   "outputs": [],
   "source": [
    "s_02 = Stack(3)"
   ]
  },
  {
   "cell_type": "code",
   "execution_count": 38,
   "id": "81dcd385",
   "metadata": {},
   "outputs": [],
   "source": [
    "s_02.push(4)\n",
    "s_02.push(10)\n",
    "s_02.push(8)"
   ]
  },
  {
   "cell_type": "code",
   "execution_count": 39,
   "id": "7f44c429",
   "metadata": {},
   "outputs": [
    {
     "data": {
      "text/plain": [
       "[4, 10, 8]"
      ]
     },
     "execution_count": 39,
     "metadata": {},
     "output_type": "execute_result"
    }
   ],
   "source": [
    "s_02.stack"
   ]
  },
  {
   "cell_type": "code",
   "execution_count": 40,
   "id": "fe70458b",
   "metadata": {},
   "outputs": [
    {
     "name": "stdout",
     "output_type": "stream",
     "text": [
      "8\n"
     ]
    }
   ],
   "source": [
    "s_02.pop()"
   ]
  },
  {
   "cell_type": "code",
   "execution_count": 41,
   "id": "6bd0aa21",
   "metadata": {},
   "outputs": [
    {
     "data": {
      "text/plain": [
       "[4, 10, 8]"
      ]
     },
     "execution_count": 41,
     "metadata": {},
     "output_type": "execute_result"
    }
   ],
   "source": [
    "s_02.stack"
   ]
  },
  {
   "cell_type": "code",
   "execution_count": 42,
   "id": "f9c42b6d",
   "metadata": {},
   "outputs": [
    {
     "name": "stdout",
     "output_type": "stream",
     "text": [
      "10\n"
     ]
    }
   ],
   "source": [
    "s_02.pop()"
   ]
  },
  {
   "cell_type": "code",
   "execution_count": 43,
   "id": "c18e9c8e",
   "metadata": {},
   "outputs": [
    {
     "data": {
      "text/plain": [
       "[4, 10, 8]"
      ]
     },
     "execution_count": 43,
     "metadata": {},
     "output_type": "execute_result"
    }
   ],
   "source": [
    "s_02.stack"
   ]
  },
  {
   "cell_type": "markdown",
   "id": "33d76326",
   "metadata": {},
   "source": [
    "<!-- # Note:\n",
    "# Even after using s_02.pop(), when we are printing stack through s_02.stack, it's printing the whole stack;\n",
    "# this is because we are printing a python list and our items were not deleted actually, we just shifted \n",
    "# our 'n' one element before in the stack.\n",
    "# So, we need to define an another method in our Stack class for traversing/printing the elements of Stack so that \n",
    "# it could behave like an array. -->"
   ]
  },
  {
   "cell_type": "markdown",
   "id": "fa51cc90",
   "metadata": {},
   "source": [
    "### NOTE:\n",
    "Even after removing elements from stack using s_02.pop() method, when we printed our stack using s_02.stack, it printing the whole stack; this is because while pop we are not actually deleting any element, we are just shifting one element before in our stack and that's why while printing, the whole list got printed out but we want it to behave like an array and to make it, we need to define an another method for traversing/printing the elements of stack.\n",
    "\n",
    "#### Here's how it goes:"
   ]
  },
  {
   "cell_type": "code",
   "execution_count": 44,
   "id": "bd2a19cf",
   "metadata": {},
   "outputs": [],
   "source": [
    "class Stack:\n",
    "    def __init__(self, size):\n",
    "        self.size = size\n",
    "        # initializing stack with all elements as None\n",
    "        self.stack = [None]*self.size\n",
    "        # current number of items present\n",
    "        self.n = 0\n",
    "    \n",
    "    def push(self, item):\n",
    "        if self.size == self.n:\n",
    "            return \"Stack Overflow\"\n",
    "        else:\n",
    "            self.stack[self.n] = item\n",
    "            self.n += 1\n",
    "        \n",
    "    def pop(self):\n",
    "        if self.n == 0:\n",
    "            return \"Empty Stack\"\n",
    "        else:\n",
    "            pop_elem = self.stack[self.n - 1]\n",
    "            self.n = self.n - 1\n",
    "            print(pop_elem)\n",
    "            \n",
    "    def traverse(self):\n",
    "        for i in range(self.n):\n",
    "            print(self.stack[i], end=' ')"
   ]
  },
  {
   "cell_type": "code",
   "execution_count": 50,
   "id": "d38fa9cb",
   "metadata": {},
   "outputs": [],
   "source": [
    "s_02 = Stack(3)"
   ]
  },
  {
   "cell_type": "code",
   "execution_count": 51,
   "id": "be92f5df",
   "metadata": {},
   "outputs": [],
   "source": [
    "s_02.push(8)\n",
    "s_02.push(10)\n",
    "s_02.push(4)"
   ]
  },
  {
   "cell_type": "code",
   "execution_count": 52,
   "id": "1c2836d6",
   "metadata": {},
   "outputs": [
    {
     "name": "stdout",
     "output_type": "stream",
     "text": [
      "8 10 4 "
     ]
    }
   ],
   "source": [
    "s_02.traverse()"
   ]
  },
  {
   "cell_type": "code",
   "execution_count": 53,
   "id": "9198275a",
   "metadata": {},
   "outputs": [
    {
     "name": "stdout",
     "output_type": "stream",
     "text": [
      "4\n"
     ]
    }
   ],
   "source": [
    "s_02.pop()"
   ]
  },
  {
   "cell_type": "code",
   "execution_count": 54,
   "id": "5c2c15d8",
   "metadata": {},
   "outputs": [
    {
     "name": "stdout",
     "output_type": "stream",
     "text": [
      "8 10 "
     ]
    }
   ],
   "source": [
    "s_02.traverse()"
   ]
  },
  {
   "cell_type": "code",
   "execution_count": 55,
   "id": "409361b2",
   "metadata": {},
   "outputs": [
    {
     "name": "stdout",
     "output_type": "stream",
     "text": [
      "10\n"
     ]
    }
   ],
   "source": [
    "s_02.pop()"
   ]
  },
  {
   "cell_type": "code",
   "execution_count": 56,
   "id": "427d1f46",
   "metadata": {},
   "outputs": [
    {
     "name": "stdout",
     "output_type": "stream",
     "text": [
      "8 "
     ]
    }
   ],
   "source": [
    "s_02.traverse()"
   ]
  },
  {
   "cell_type": "code",
   "execution_count": null,
   "id": "935b0306",
   "metadata": {},
   "outputs": [],
   "source": []
  }
 ],
 "metadata": {
  "kernelspec": {
   "display_name": "Python 3 (ipykernel)",
   "language": "python",
   "name": "python3"
  },
  "language_info": {
   "codemirror_mode": {
    "name": "ipython",
    "version": 3
   },
   "file_extension": ".py",
   "mimetype": "text/x-python",
   "name": "python",
   "nbconvert_exporter": "python",
   "pygments_lexer": "ipython3",
   "version": "3.9.13"
  }
 },
 "nbformat": 4,
 "nbformat_minor": 5
}
