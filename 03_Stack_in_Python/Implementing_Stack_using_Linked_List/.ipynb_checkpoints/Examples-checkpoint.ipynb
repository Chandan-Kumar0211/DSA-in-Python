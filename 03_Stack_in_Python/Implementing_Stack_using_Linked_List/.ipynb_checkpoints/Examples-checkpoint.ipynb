{
 "cells": [
  {
   "cell_type": "markdown",
   "id": "07ddbb9d",
   "metadata": {},
   "source": [
    "### Solve all the below examples using this given Stack class:"
   ]
  },
  {
   "cell_type": "code",
   "execution_count": 5,
   "id": "0084852f",
   "metadata": {},
   "outputs": [],
   "source": [
    "class Node:\n",
    "    def __init__(self, value):\n",
    "        self.data = value\n",
    "        self.next = None"
   ]
  },
  {
   "cell_type": "code",
   "execution_count": 11,
   "id": "3a9116b4",
   "metadata": {},
   "outputs": [],
   "source": [
    "class Stack:\n",
    "    def __init__(self):\n",
    "        self.top = None\n",
    "    \n",
    "    # Also makning a traversal method for visualizing elements of Stack\n",
    "    def traverse(self):\n",
    "        if self.top == None:\n",
    "            return \"Empty Stack\"\n",
    "        \n",
    "        temp = self.top\n",
    "        \n",
    "        while temp!=None:\n",
    "            print(temp.data)\n",
    "            temp = temp.next\n",
    "            \n",
    "    def isempty(self):\n",
    "        return self.top == None\n",
    "    \n",
    "    def push(self, item):\n",
    "        # creating a new node\n",
    "        new_node = Node(item)\n",
    "        # assigning self.top as its address(next) block \n",
    "        new_node.next = self.top\n",
    "        # now setting new_node as the top of Stack\n",
    "        self.top = new_node\n",
    "    \n",
    "    def peek(self):\n",
    "        if self.top == None:\n",
    "            return \"Empty Stack\"\n",
    "        return self.top.data\n",
    "    \n",
    "    def pop(self):\n",
    "        if self.top == None:\n",
    "            return \"Empty Stack\"\n",
    "        poped_item = self.top.data\n",
    "        self.top = self.top.next\n",
    "        return poped_item"
   ]
  },
  {
   "cell_type": "code",
   "execution_count": null,
   "id": "6ecc5086",
   "metadata": {},
   "outputs": [],
   "source": []
  },
  {
   "cell_type": "markdown",
   "id": "e593aa26",
   "metadata": {},
   "source": [
    "### Example_01: String Reversal "
   ]
  },
  {
   "cell_type": "code",
   "execution_count": 12,
   "id": "d383ed9c",
   "metadata": {},
   "outputs": [],
   "source": [
    "# Input: Hello\n",
    "# Output: olleH"
   ]
  },
  {
   "cell_type": "code",
   "execution_count": 15,
   "id": "058a10b3",
   "metadata": {},
   "outputs": [],
   "source": [
    "def reverse_string(text):\n",
    "    s_01 = Stack()\n",
    "    \n",
    "    # First inserting all the characters of String into a Stack\n",
    "    for i in text:\n",
    "        s_01.push(i)\n",
    "    \n",
    "    # Now again removing and Storing all the characters of String from Stack \n",
    "    rev_str = \"\"\n",
    "    while (not s_01.isempty()):\n",
    "        rev_str = rev_str + s_01.pop()\n",
    "    \n",
    "    print(rev_str)"
   ]
  },
  {
   "cell_type": "code",
   "execution_count": 16,
   "id": "b8ae6376",
   "metadata": {},
   "outputs": [
    {
     "name": "stdout",
     "output_type": "stream",
     "text": [
      "olleH\n"
     ]
    }
   ],
   "source": [
    "reverse_string(\"Hello\")"
   ]
  },
  {
   "cell_type": "code",
   "execution_count": null,
   "id": "39e678a9",
   "metadata": {},
   "outputs": [],
   "source": []
  },
  {
   "cell_type": "markdown",
   "id": "cd5285f0",
   "metadata": {},
   "source": [
    "### Example_02: Text Editor"
   ]
  },
  {
   "cell_type": "code",
   "execution_count": null,
   "id": "9ef1a683",
   "metadata": {},
   "outputs": [],
   "source": []
  },
  {
   "cell_type": "code",
   "execution_count": null,
   "id": "82f50069",
   "metadata": {},
   "outputs": [],
   "source": []
  },
  {
   "cell_type": "code",
   "execution_count": null,
   "id": "b0dd6cd1",
   "metadata": {},
   "outputs": [],
   "source": []
  },
  {
   "cell_type": "code",
   "execution_count": null,
   "id": "2fb01975",
   "metadata": {},
   "outputs": [],
   "source": []
  },
  {
   "cell_type": "code",
   "execution_count": null,
   "id": "c34f54f3",
   "metadata": {},
   "outputs": [],
   "source": []
  },
  {
   "cell_type": "code",
   "execution_count": null,
   "id": "a6acadf2",
   "metadata": {},
   "outputs": [],
   "source": []
  },
  {
   "cell_type": "code",
   "execution_count": null,
   "id": "53767acf",
   "metadata": {},
   "outputs": [],
   "source": []
  },
  {
   "cell_type": "code",
   "execution_count": null,
   "id": "10c1bbf5",
   "metadata": {},
   "outputs": [],
   "source": []
  },
  {
   "cell_type": "code",
   "execution_count": null,
   "id": "072ee672",
   "metadata": {},
   "outputs": [],
   "source": []
  },
  {
   "cell_type": "code",
   "execution_count": null,
   "id": "7be75f47",
   "metadata": {},
   "outputs": [],
   "source": []
  }
 ],
 "metadata": {
  "kernelspec": {
   "display_name": "Python 3 (ipykernel)",
   "language": "python",
   "name": "python3"
  },
  "language_info": {
   "codemirror_mode": {
    "name": "ipython",
    "version": 3
   },
   "file_extension": ".py",
   "mimetype": "text/x-python",
   "name": "python",
   "nbconvert_exporter": "python",
   "pygments_lexer": "ipython3",
   "version": "3.9.13"
  }
 },
 "nbformat": 4,
 "nbformat_minor": 5
}
