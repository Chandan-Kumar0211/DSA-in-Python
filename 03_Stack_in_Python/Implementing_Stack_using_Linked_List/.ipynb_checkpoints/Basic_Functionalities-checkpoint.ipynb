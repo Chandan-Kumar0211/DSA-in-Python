{
 "cells": [
  {
   "cell_type": "markdown",
   "id": "4cf4bcf7",
   "metadata": {},
   "source": [
    "### Creating a Node class"
   ]
  },
  {
   "cell_type": "code",
   "execution_count": 1,
   "id": "81669925",
   "metadata": {},
   "outputs": [],
   "source": [
    "class Node:\n",
    "    def __init__(self, value):\n",
    "        self.data = value\n",
    "        self.next = None"
   ]
  },
  {
   "cell_type": "markdown",
   "id": "12634871",
   "metadata": {},
   "source": [
    "### Creating a Stack class"
   ]
  },
  {
   "cell_type": "code",
   "execution_count": 2,
   "id": "a0f09de9",
   "metadata": {},
   "outputs": [],
   "source": [
    "class Stack:\n",
    "    def __init__(self):\n",
    "        self.top = None\n",
    "    \n",
    "    # Also makning a traversal method for visualizing elements of Stack\n",
    "    def traverse(self):\n",
    "        if self.top == None:\n",
    "            return \"Empty Stack\"\n",
    "        \n",
    "        temp = self.top\n",
    "        \n",
    "        while temp!=None:\n",
    "            print(temp.data)\n",
    "            temp = temp.next"
   ]
  },
  {
   "cell_type": "code",
   "execution_count": null,
   "id": "b938c683",
   "metadata": {},
   "outputs": [],
   "source": []
  },
  {
   "cell_type": "markdown",
   "id": "8a4ed31d",
   "metadata": {},
   "source": [
    "# Adding different functionalities into Stack class"
   ]
  },
  {
   "cell_type": "markdown",
   "id": "26b3ec56",
   "metadata": {},
   "source": [
    "### 1. Checking if a Stack is empty or not:"
   ]
  },
  {
   "cell_type": "code",
   "execution_count": 3,
   "id": "9bf161bd",
   "metadata": {},
   "outputs": [],
   "source": [
    "class Stack:\n",
    "    def __init__(self):\n",
    "        self.top = None\n",
    "        \n",
    "    # Also makning a traversal method for visualizing elements of Stack\n",
    "    def traverse(self):\n",
    "        if self.top == None:\n",
    "            return \"Empty Stack\"\n",
    "        \n",
    "        temp = self.top\n",
    "        \n",
    "        while temp!=None:\n",
    "            print(temp.data)\n",
    "            temp = temp.next\n",
    "            \n",
    "    def isempty(self):\n",
    "        return self.top == None"
   ]
  },
  {
   "cell_type": "code",
   "execution_count": null,
   "id": "99825640",
   "metadata": {},
   "outputs": [],
   "source": []
  },
  {
   "cell_type": "markdown",
   "id": "a618167a",
   "metadata": {},
   "source": [
    "### 2. Inserting an item into a Stack (always performed from top)"
   ]
  },
  {
   "cell_type": "code",
   "execution_count": 4,
   "id": "b7781228",
   "metadata": {},
   "outputs": [],
   "source": [
    "class Stack:\n",
    "    def __init__(self):\n",
    "        self.top = None\n",
    "    \n",
    "    # Also makning a traversal method for visualizing elements of Stack\n",
    "    def traverse(self):\n",
    "        if self.top == None:\n",
    "            return \"Empty Stack\"\n",
    "        \n",
    "        temp = self.top\n",
    "        \n",
    "        while temp!=None:\n",
    "            print(temp.data)\n",
    "            temp = temp.next\n",
    "            \n",
    "    def isempty(self):\n",
    "        return self.top == None\n",
    "    \n",
    "    def push(self, item):\n",
    "        # creating a new node\n",
    "        new_node = Node(item)\n",
    "        # assigning self.top as its address(next) block \n",
    "        new_node.next = self.top\n",
    "        # now setting new_node as the top of Stack\n",
    "        self.top = new_node"
   ]
  },
  {
   "cell_type": "code",
   "execution_count": 10,
   "id": "426fc0f6",
   "metadata": {},
   "outputs": [],
   "source": [
    "s_01 = Stack()"
   ]
  },
  {
   "cell_type": "code",
   "execution_count": 11,
   "id": "d5650aae",
   "metadata": {},
   "outputs": [
    {
     "data": {
      "text/plain": [
       "True"
      ]
     },
     "execution_count": 11,
     "metadata": {},
     "output_type": "execute_result"
    }
   ],
   "source": [
    "s_01.isempty()"
   ]
  },
  {
   "cell_type": "code",
   "execution_count": 12,
   "id": "14fa3d7c",
   "metadata": {},
   "outputs": [],
   "source": [
    "s_01.push(5)\n",
    "s_01.push(8)\n",
    "s_01.push(\"Okay\")"
   ]
  },
  {
   "cell_type": "code",
   "execution_count": 13,
   "id": "a61e97fc",
   "metadata": {},
   "outputs": [
    {
     "name": "stdout",
     "output_type": "stream",
     "text": [
      "Okay\n",
      "8\n",
      "5\n"
     ]
    }
   ],
   "source": [
    "s_01.traverse()"
   ]
  },
  {
   "cell_type": "code",
   "execution_count": 14,
   "id": "94b1b705",
   "metadata": {},
   "outputs": [
    {
     "data": {
      "text/plain": [
       "False"
      ]
     },
     "execution_count": 14,
     "metadata": {},
     "output_type": "execute_result"
    }
   ],
   "source": [
    "s_01.isempty()"
   ]
  },
  {
   "cell_type": "code",
   "execution_count": null,
   "id": "c2f5a0a8",
   "metadata": {},
   "outputs": [],
   "source": []
  },
  {
   "cell_type": "markdown",
   "id": "b1dd09ea",
   "metadata": {},
   "source": [
    "### 3. Accessing the top-most element of a Stack:"
   ]
  },
  {
   "cell_type": "code",
   "execution_count": null,
   "id": "d542234a",
   "metadata": {},
   "outputs": [],
   "source": [
    "class Stack:\n",
    "    def __init__(self):\n",
    "        self.top = None\n",
    "    \n",
    "    # Also makning a traversal method for visualizing elements of Stack\n",
    "    def traverse(self):\n",
    "        if self.top == None:\n",
    "            return \"Empty Stack\"\n",
    "        \n",
    "        temp = self.top\n",
    "        \n",
    "        while temp!=None:\n",
    "            print(temp.data)\n",
    "            temp = temp.next\n",
    "            \n",
    "    def isempty(self):\n",
    "        return self.top == None\n",
    "    \n",
    "    def push(self, item):\n",
    "        # creating a new node\n",
    "        new_node = Node(item)\n",
    "        # assigning self.top as its address(next) block \n",
    "        new_node.next = self.top\n",
    "        # now setting new_node as the top of Stack\n",
    "        self.top = new_node\n",
    "    \n",
    "    def peek(self):\n",
    "        if self.top = None:\n",
    "            return \"Empty Stack\"\n",
    "        \n",
    "        return self.top.data"
   ]
  },
  {
   "cell_type": "code",
   "execution_count": null,
   "id": "6f8ca253",
   "metadata": {},
   "outputs": [],
   "source": []
  },
  {
   "cell_type": "markdown",
   "id": "f077eb09",
   "metadata": {},
   "source": [
    "### 4. Removing the top item from the Stack:"
   ]
  },
  {
   "cell_type": "code",
   "execution_count": 35,
   "id": "e54a214b",
   "metadata": {},
   "outputs": [],
   "source": [
    "class Stack:\n",
    "    def __init__(self):\n",
    "        self.top = None\n",
    "    \n",
    "    # Also makning a traversal method for visualizing elements of Stack\n",
    "    def traverse(self):\n",
    "        if self.top == None:\n",
    "            return \"Empty Stack\"\n",
    "        \n",
    "        temp = self.top\n",
    "        \n",
    "        while temp!=None:\n",
    "            print(temp.data)\n",
    "            temp = temp.next\n",
    "            \n",
    "    def isempty(self):\n",
    "        return self.top == None\n",
    "    \n",
    "    def push(self, item):\n",
    "        # creating a new node\n",
    "        new_node = Node(item)\n",
    "        # assigning self.top as its address(next) block \n",
    "        new_node.next = self.top\n",
    "        # now setting new_node as the top of Stack\n",
    "        self.top = new_node\n",
    "    \n",
    "    def peek(self):\n",
    "        if self.top == None:\n",
    "            return \"Empty Stack\"\n",
    "        \n",
    "        return self.top.data\n",
    "    \n",
    "    def pop(self):\n",
    "        if self.top == None:\n",
    "            return \"Empty Stack\"\n",
    "        print(self.top.data)\n",
    "        self.top = self.top.next"
   ]
  },
  {
   "cell_type": "code",
   "execution_count": 36,
   "id": "4e0600bc",
   "metadata": {},
   "outputs": [],
   "source": [
    "s_02 = Stack()"
   ]
  },
  {
   "cell_type": "code",
   "execution_count": 37,
   "id": "faf80959",
   "metadata": {},
   "outputs": [
    {
     "name": "stdout",
     "output_type": "stream",
     "text": [
      "2\n",
      "4\n",
      "8\n"
     ]
    }
   ],
   "source": [
    "s_02.push(8)\n",
    "s_02.push(4)\n",
    "s_02.push(2)\n",
    "\n",
    "s_02.traverse()"
   ]
  },
  {
   "cell_type": "code",
   "execution_count": 44,
   "id": "c859ec22",
   "metadata": {},
   "outputs": [
    {
     "data": {
      "text/plain": [
       "'Empty Stack'"
      ]
     },
     "execution_count": 44,
     "metadata": {},
     "output_type": "execute_result"
    }
   ],
   "source": [
    "s_02.pop()"
   ]
  },
  {
   "cell_type": "code",
   "execution_count": 45,
   "id": "7497dc3b",
   "metadata": {},
   "outputs": [
    {
     "data": {
      "text/plain": [
       "'Empty Stack'"
      ]
     },
     "execution_count": 45,
     "metadata": {},
     "output_type": "execute_result"
    }
   ],
   "source": [
    "s_02.traverse()"
   ]
  },
  {
   "cell_type": "code",
   "execution_count": null,
   "id": "da33dcd7",
   "metadata": {},
   "outputs": [],
   "source": []
  },
  {
   "cell_type": "code",
   "execution_count": null,
   "id": "4056b0b6",
   "metadata": {},
   "outputs": [],
   "source": []
  },
  {
   "cell_type": "code",
   "execution_count": null,
   "id": "e2bc2b09",
   "metadata": {},
   "outputs": [],
   "source": []
  },
  {
   "cell_type": "code",
   "execution_count": null,
   "id": "a26993ce",
   "metadata": {},
   "outputs": [],
   "source": []
  },
  {
   "cell_type": "code",
   "execution_count": null,
   "id": "d4882ce9",
   "metadata": {},
   "outputs": [],
   "source": []
  },
  {
   "cell_type": "code",
   "execution_count": null,
   "id": "60dc868d",
   "metadata": {},
   "outputs": [],
   "source": []
  },
  {
   "cell_type": "code",
   "execution_count": null,
   "id": "f1df25c9",
   "metadata": {},
   "outputs": [],
   "source": []
  },
  {
   "cell_type": "code",
   "execution_count": null,
   "id": "96517b21",
   "metadata": {},
   "outputs": [],
   "source": []
  },
  {
   "cell_type": "code",
   "execution_count": null,
   "id": "86b66218",
   "metadata": {},
   "outputs": [],
   "source": []
  },
  {
   "cell_type": "code",
   "execution_count": null,
   "id": "1bf3aff3",
   "metadata": {},
   "outputs": [],
   "source": []
  }
 ],
 "metadata": {
  "kernelspec": {
   "display_name": "Python 3 (ipykernel)",
   "language": "python",
   "name": "python3"
  },
  "language_info": {
   "codemirror_mode": {
    "name": "ipython",
    "version": 3
   },
   "file_extension": ".py",
   "mimetype": "text/x-python",
   "name": "python",
   "nbconvert_exporter": "python",
   "pygments_lexer": "ipython3",
   "version": "3.9.13"
  }
 },
 "nbformat": 4,
 "nbformat_minor": 5
}
