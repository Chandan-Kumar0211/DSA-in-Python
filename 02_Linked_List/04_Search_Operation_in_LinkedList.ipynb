{
 "cells": [
  {
   "cell_type": "code",
   "execution_count": 1,
   "id": "f12fad9e",
   "metadata": {},
   "outputs": [],
   "source": [
    "# Creating a Node class\n",
    "\n",
    "class Node:\n",
    "    def __init__(self, data):\n",
    "        self.data = data\n",
    "        self.next = None"
   ]
  },
  {
   "cell_type": "markdown",
   "id": "c4c53155",
   "metadata": {},
   "source": [
    "### Linked List upto Insertion, Traversal and Deletion"
   ]
  },
  {
   "cell_type": "code",
   "execution_count": 2,
   "id": "545fef59",
   "metadata": {},
   "outputs": [],
   "source": [
    "class LinkedList:\n",
    "    def __init__(self):\n",
    "        # creaing an empty LL (It means the value of head of LL should be None.)\n",
    "        self.head = None\n",
    "        # counting no of nodes in LL\n",
    "        self.n = 0\n",
    "    \n",
    "    def __len__(self):\n",
    "        return self.n\n",
    "    \n",
    "    def insert_head(self, value):\n",
    "        # creating a new node\n",
    "        new_node = Node(value)\n",
    "        \n",
    "        # create connection\n",
    "        new_node.next = self.head\n",
    "        \n",
    "        # reassign head\n",
    "        self.head = new_node\n",
    "        \n",
    "        # increment n\n",
    "        self.n = self.n + 1\n",
    "        \n",
    "    # Using magic method    \n",
    "    def __str__(self):\n",
    "        curr = self.head\n",
    "        \n",
    "        result = ''\n",
    "        \n",
    "        while curr != None:\n",
    "            result = result + str(curr.data) + '-->'\n",
    "            curr = curr.next\n",
    "        \n",
    "        return result[:-3]\n",
    "    \n",
    "    def append(self, value):\n",
    "        # creating a new node\n",
    "        new_node = Node(value)\n",
    "        \n",
    "        # checking for empty list\n",
    "        if self.head == None:\n",
    "            self.head = new_node\n",
    "            self.n = self.n + 1\n",
    "            return \n",
    "        \n",
    "        curr = self.head\n",
    "        \n",
    "        # traversing till one element before the last element\n",
    "        while curr.next != None:\n",
    "            curr = curr.next\n",
    "        \n",
    "        # Now we our \"curr\" is the tail, so\n",
    "        curr.next = new_node\n",
    "        \n",
    "        # increment n\n",
    "        self.n = self.n + 1\n",
    "        \n",
    "    # This will get the value to be inserted and the value after which it should be inserted\n",
    "    def insert_btw_nodes(self, after_val, val):\n",
    "        new_node = Node(val)\n",
    "        \n",
    "        curr = self.head\n",
    "        while curr != None:\n",
    "            if curr.data == after_val:\n",
    "                break\n",
    "            curr = curr.next\n",
    "        \n",
    "        # if value after which it should have been inserted is found\n",
    "        if curr != None:\n",
    "            new_node.next = curr.next  \n",
    "            curr.next = new_node\n",
    "            self.n = self.n + 1\n",
    "            \"\"\"\n",
    "            Please NOTE that the above two operations can't be interchanged otherwise, \n",
    "            the address of one node will be lost.\n",
    "            \"\"\"\n",
    "        else:\n",
    "            return \"Item not found!\"\n",
    "        \n",
    "    def delete_head(self):\n",
    "        # checking if its an empty LL\n",
    "        if self.head == None:\n",
    "            return \"Empty LL\"\n",
    "        \n",
    "        self.head = self.head.next\n",
    "        self.n = self.n -1\n",
    "        \n",
    "    def pop(self):\n",
    "        # checking if its an empty LL\n",
    "        if self.head == None:\n",
    "            return \"Empty LL\"\n",
    "        \n",
    "        curr = self.head\n",
    "        \n",
    "        # Also, we have to check if we have only one node in LL\n",
    "        if curr.next == None:\n",
    "            return self.delete_head()\n",
    "        \n",
    "        while curr.next.next != None:\n",
    "            curr = curr.next\n",
    "        \n",
    "        # now our 'curr' is on 2nd last node, therefore we will make it the tail of LL\n",
    "        curr.next = None\n",
    "        self.n = self.n - 1\n",
    "    \n",
    "    def remove(self, value):\n",
    "        # checking if its an empty LL\n",
    "        if self.head == None:\n",
    "            return 'Empty LL'\n",
    "        \n",
    "        # If LL has only one node and its data is equal to given value\n",
    "        if self.head.data == value:\n",
    "            return self.delete_head()\n",
    "        \n",
    "        curr = self.head\n",
    "        \n",
    "        while curr.next != None:\n",
    "            \"\"\"\n",
    "            Here, we need to check the data of curr.next, if it's equal to value or not; as\n",
    "            we cannot go back in LL and we want to stop one before the node whose data == value\n",
    "            \"\"\"\n",
    "            if curr.next.data == value:\n",
    "                break\n",
    "            curr = curr.next\n",
    "            \n",
    "        \"\"\"\n",
    "        Again there are two cases even after exiting from the loop: \n",
    "        1. if there is a data which matches with value \n",
    "        2. or none of the data matched with the given value\n",
    "        \"\"\"\n",
    "        if curr.next == None:\n",
    "            return \"Item Not Found!\"\n",
    "        else:\n",
    "            curr.next = curr.next.next\n",
    "            self.n = self.n - 1"
   ]
  },
  {
   "cell_type": "code",
   "execution_count": null,
   "id": "0ce38451",
   "metadata": {},
   "outputs": [],
   "source": []
  },
  {
   "cell_type": "markdown",
   "id": "5ebcc0b2",
   "metadata": {},
   "source": [
    "# Search Operation in Linked List"
   ]
  },
  {
   "cell_type": "markdown",
   "id": "fe5a74b4",
   "metadata": {},
   "source": [
    "### 1. Search by value (returns its index)"
   ]
  },
  {
   "cell_type": "code",
   "execution_count": 5,
   "id": "b9cf790c",
   "metadata": {},
   "outputs": [],
   "source": [
    "class LinkedList:\n",
    "    def __init__(self):\n",
    "        # creaing an empty LL (It means the value of head of LL should be None.)\n",
    "        self.head = None\n",
    "        # counting no of nodes in LL\n",
    "        self.n = 0\n",
    "    \n",
    "    def __len__(self):\n",
    "        return self.n\n",
    "    \n",
    "    def insert_head(self, value):\n",
    "        # creating a new node\n",
    "        new_node = Node(value)\n",
    "        \n",
    "        # create connection\n",
    "        new_node.next = self.head\n",
    "        \n",
    "        # reassign head\n",
    "        self.head = new_node\n",
    "        \n",
    "        # increment n\n",
    "        self.n = self.n + 1\n",
    "        \n",
    "    # Using magic method    \n",
    "    def __str__(self):\n",
    "        curr = self.head\n",
    "        \n",
    "        result = ''\n",
    "        \n",
    "        while curr != None:\n",
    "            result = result + str(curr.data) + '-->'\n",
    "            curr = curr.next\n",
    "        \n",
    "        return result[:-3]\n",
    "    \n",
    "    def append(self, value):\n",
    "        # creating a new node\n",
    "        new_node = Node(value)\n",
    "        \n",
    "        # checking for empty list\n",
    "        if self.head == None:\n",
    "            self.head = new_node\n",
    "            self.n = self.n + 1\n",
    "            return \n",
    "        \n",
    "        curr = self.head\n",
    "        \n",
    "        # traversing till one element before the last element\n",
    "        while curr.next != None:\n",
    "            curr = curr.next\n",
    "        \n",
    "        # Now we our \"curr\" is the tail, so\n",
    "        curr.next = new_node\n",
    "        \n",
    "        # increment n\n",
    "        self.n = self.n + 1\n",
    "        \n",
    "    # This will get the value to be inserted and the value after which it should be inserted\n",
    "    def insert_btw_nodes(self, after_val, val):\n",
    "        new_node = Node(val)\n",
    "        \n",
    "        curr = self.head\n",
    "        while curr != None:\n",
    "            if curr.data == after_val:\n",
    "                break\n",
    "            curr = curr.next\n",
    "        \n",
    "        # if value after which it should have been inserted is found\n",
    "        if curr != None:\n",
    "            new_node.next = curr.next  \n",
    "            curr.next = new_node\n",
    "            self.n = self.n + 1\n",
    "            \"\"\"\n",
    "            Please NOTE that the above two operations can't be interchanged otherwise, \n",
    "            the address of one node will be lost.\n",
    "            \"\"\"\n",
    "        else:\n",
    "            return \"Item not found!\"\n",
    "        \n",
    "    def delete_head(self):\n",
    "        # checking if its an empty LL\n",
    "        if self.head == None:\n",
    "            return \"Empty LL\"\n",
    "        \n",
    "        self.head = self.head.next\n",
    "        self.n = self.n -1\n",
    "        \n",
    "    def pop(self):\n",
    "        # checking if its an empty LL\n",
    "        if self.head == None:\n",
    "            return \"Empty LL\"\n",
    "        \n",
    "        curr = self.head\n",
    "        \n",
    "        # Also, we have to check if we have only one node in LL\n",
    "        if curr.next == None:\n",
    "            return self.delete_head()\n",
    "        \n",
    "        while curr.next.next != None:\n",
    "            curr = curr.next\n",
    "        \n",
    "        # now our 'curr' is on 2nd last node, therefore we will make it the tail of LL\n",
    "        curr.next = None\n",
    "        self.n = self.n - 1\n",
    "    \n",
    "    def remove(self, value):\n",
    "        # checking if its an empty LL\n",
    "        if self.head == None:\n",
    "            return 'Empty LL'\n",
    "        \n",
    "        # If LL has only one node and its data is equal to given value\n",
    "        if self.head.data == value:\n",
    "            return self.delete_head()\n",
    "        \n",
    "        curr = self.head\n",
    "        \n",
    "        while curr.next != None:\n",
    "            \"\"\"\n",
    "            Here, we need to check the data of curr.next, if it's equal to value or not; as\n",
    "            we cannot go back in LL and we want to stop one before the node whose data == value\n",
    "            \"\"\"\n",
    "            if curr.next.data == value:\n",
    "                break\n",
    "            curr = curr.next\n",
    "            \n",
    "        \"\"\"\n",
    "        Again there are two cases even after exiting from the loop: \n",
    "        1. if there is a data which matches with value \n",
    "        2. or none of the data matched with the given value\n",
    "        \"\"\"\n",
    "        if curr.next == None:\n",
    "            return \"Item Not Found!\"\n",
    "        else:\n",
    "            curr.next = curr.next.next\n",
    "            self.n = self.n - 1\n",
    "            \n",
    "    def search(self, item):\n",
    "        curr = self.head\n",
    "        pos = 0\n",
    "        \n",
    "        while curr != None:\n",
    "            if curr.data == item:\n",
    "                return pos\n",
    "            curr = curr.next\n",
    "            pos += 1\n",
    "        return \"Item not Found\""
   ]
  },
  {
   "cell_type": "code",
   "execution_count": 6,
   "id": "cdf890d1",
   "metadata": {},
   "outputs": [],
   "source": [
    "ll_01 = LinkedList()"
   ]
  },
  {
   "cell_type": "code",
   "execution_count": 7,
   "id": "33cc5e22",
   "metadata": {},
   "outputs": [],
   "source": [
    "ll_01.insert_head(5)\n",
    "ll_01.insert_head(111)\n",
    "ll_01.append(4)"
   ]
  },
  {
   "cell_type": "code",
   "execution_count": 8,
   "id": "0e9ec2bb",
   "metadata": {},
   "outputs": [
    {
     "name": "stdout",
     "output_type": "stream",
     "text": [
      "111-->5-->4\n"
     ]
    }
   ],
   "source": [
    "print(ll_01)"
   ]
  },
  {
   "cell_type": "code",
   "execution_count": 10,
   "id": "fad71efc",
   "metadata": {},
   "outputs": [
    {
     "data": {
      "text/plain": [
       "2"
      ]
     },
     "execution_count": 10,
     "metadata": {},
     "output_type": "execute_result"
    }
   ],
   "source": [
    "ll_01.search(4)"
   ]
  },
  {
   "cell_type": "code",
   "execution_count": 11,
   "id": "3062f57c",
   "metadata": {},
   "outputs": [
    {
     "data": {
      "text/plain": [
       "'Item not Found'"
      ]
     },
     "execution_count": 11,
     "metadata": {},
     "output_type": "execute_result"
    }
   ],
   "source": [
    "ll_01.search(10)"
   ]
  },
  {
   "cell_type": "code",
   "execution_count": null,
   "id": "c8806564",
   "metadata": {},
   "outputs": [],
   "source": []
  },
  {
   "cell_type": "markdown",
   "id": "119aa5ae",
   "metadata": {},
   "source": [
    "### 2. Search by Index(returns the node data at that index)"
   ]
  },
  {
   "cell_type": "code",
   "execution_count": 12,
   "id": "591e6d53",
   "metadata": {},
   "outputs": [],
   "source": [
    "class LinkedList:\n",
    "    def __init__(self):\n",
    "        # creaing an empty LL (It means the value of head of LL should be None.)\n",
    "        self.head = None\n",
    "        # counting no of nodes in LL\n",
    "        self.n = 0\n",
    "    \n",
    "    def __len__(self):\n",
    "        return self.n\n",
    "    \n",
    "    def insert_head(self, value):\n",
    "        # creating a new node\n",
    "        new_node = Node(value)\n",
    "        \n",
    "        # create connection\n",
    "        new_node.next = self.head\n",
    "        \n",
    "        # reassign head\n",
    "        self.head = new_node\n",
    "        \n",
    "        # increment n\n",
    "        self.n = self.n + 1\n",
    "        \n",
    "    # Using magic method    \n",
    "    def __str__(self):\n",
    "        curr = self.head\n",
    "        \n",
    "        result = ''\n",
    "        \n",
    "        while curr != None:\n",
    "            result = result + str(curr.data) + '-->'\n",
    "            curr = curr.next\n",
    "        \n",
    "        return result[:-3]\n",
    "    \n",
    "    def append(self, value):\n",
    "        # creating a new node\n",
    "        new_node = Node(value)\n",
    "        \n",
    "        # checking for empty list\n",
    "        if self.head == None:\n",
    "            self.head = new_node\n",
    "            self.n = self.n + 1\n",
    "            return \n",
    "        \n",
    "        curr = self.head\n",
    "        \n",
    "        # traversing till one element before the last element\n",
    "        while curr.next != None:\n",
    "            curr = curr.next\n",
    "        \n",
    "        # Now we our \"curr\" is the tail, so\n",
    "        curr.next = new_node\n",
    "        \n",
    "        # increment n\n",
    "        self.n = self.n + 1\n",
    "        \n",
    "    # This will get the value to be inserted and the value after which it should be inserted\n",
    "    def insert_btw_nodes(self, after_val, val):\n",
    "        new_node = Node(val)\n",
    "        \n",
    "        curr = self.head\n",
    "        while curr != None:\n",
    "            if curr.data == after_val:\n",
    "                break\n",
    "            curr = curr.next\n",
    "        \n",
    "        # if value after which it should have been inserted is found\n",
    "        if curr != None:\n",
    "            new_node.next = curr.next  \n",
    "            curr.next = new_node\n",
    "            self.n = self.n + 1\n",
    "            \"\"\"\n",
    "            Please NOTE that the above two operations can't be interchanged otherwise, \n",
    "            the address of one node will be lost.\n",
    "            \"\"\"\n",
    "        else:\n",
    "            return \"Item not found!\"\n",
    "        \n",
    "    def delete_head(self):\n",
    "        # checking if its an empty LL\n",
    "        if self.head == None:\n",
    "            return \"Empty LL\"\n",
    "        \n",
    "        self.head = self.head.next\n",
    "        self.n = self.n -1\n",
    "        \n",
    "    def pop(self):\n",
    "        # checking if its an empty LL\n",
    "        if self.head == None:\n",
    "            return \"Empty LL\"\n",
    "        \n",
    "        curr = self.head\n",
    "        \n",
    "        # Also, we have to check if we have only one node in LL\n",
    "        if curr.next == None:\n",
    "            return self.delete_head()\n",
    "        \n",
    "        while curr.next.next != None:\n",
    "            curr = curr.next\n",
    "        \n",
    "        # now our 'curr' is on 2nd last node, therefore we will make it the tail of LL\n",
    "        curr.next = None\n",
    "        self.n = self.n - 1\n",
    "    \n",
    "    def remove(self, value):\n",
    "        # checking if its an empty LL\n",
    "        if self.head == None:\n",
    "            return 'Empty LL'\n",
    "        \n",
    "        # If LL has only one node and its data is equal to given value\n",
    "        if self.head.data == value:\n",
    "            return self.delete_head()\n",
    "        \n",
    "        curr = self.head\n",
    "        \n",
    "        while curr.next != None:\n",
    "            \"\"\"\n",
    "            Here, we need to check the data of curr.next, if it's equal to value or not; as\n",
    "            we cannot go back in LL and we want to stop one before the node whose data == value\n",
    "            \"\"\"\n",
    "            if curr.next.data == value:\n",
    "                break\n",
    "            curr = curr.next\n",
    "            \n",
    "        \"\"\"\n",
    "        Again there are two cases even after exiting from the loop: \n",
    "        1. if there is a data which matches with value \n",
    "        2. or none of the data matched with the given value\n",
    "        \"\"\"\n",
    "        if curr.next == None:\n",
    "            return \"Item Not Found!\"\n",
    "        else:\n",
    "            curr.next = curr.next.next\n",
    "            self.n = self.n - 1\n",
    "        \n",
    "    def search(self, item):\n",
    "        curr = self.head\n",
    "        pos = 0\n",
    "        \n",
    "        while curr != None:\n",
    "            if curr.data == item:\n",
    "                return pos\n",
    "            curr = curr.next\n",
    "            pos += 1\n",
    "        return \"Item not Found\"\n",
    "    \n",
    "    # Using magic method as we need to find the value using indexing\n",
    "    def __getitem__(self, idx):\n",
    "        curr = self.head\n",
    "        pos = 0\n",
    "        \n",
    "        while curr != None:\n",
    "            if pos == idx:\n",
    "                return curr.data\n",
    "            curr = curr.next\n",
    "            pos += 1\n",
    "        return \"IndexError\""
   ]
  },
  {
   "cell_type": "code",
   "execution_count": 13,
   "id": "5e2129b8",
   "metadata": {},
   "outputs": [],
   "source": [
    "ll_02 = LinkedList()"
   ]
  },
  {
   "cell_type": "code",
   "execution_count": 14,
   "id": "b03e0bb9",
   "metadata": {},
   "outputs": [],
   "source": [
    "ll_02.insert_head(5)\n",
    "ll_02.insert_head(111)\n",
    "ll_02.append(4)"
   ]
  },
  {
   "cell_type": "code",
   "execution_count": 15,
   "id": "2786eb3a",
   "metadata": {},
   "outputs": [
    {
     "name": "stdout",
     "output_type": "stream",
     "text": [
      "111-->5-->4\n"
     ]
    }
   ],
   "source": [
    "print(ll_02)"
   ]
  },
  {
   "cell_type": "code",
   "execution_count": 16,
   "id": "d5220276",
   "metadata": {},
   "outputs": [
    {
     "data": {
      "text/plain": [
       "5"
      ]
     },
     "execution_count": 16,
     "metadata": {},
     "output_type": "execute_result"
    }
   ],
   "source": [
    "ll_02[1]"
   ]
  },
  {
   "cell_type": "code",
   "execution_count": 17,
   "id": "e8ac7e99",
   "metadata": {},
   "outputs": [
    {
     "data": {
      "text/plain": [
       "'IndexError'"
      ]
     },
     "execution_count": 17,
     "metadata": {},
     "output_type": "execute_result"
    }
   ],
   "source": [
    "ll_02[8]"
   ]
  },
  {
   "cell_type": "code",
   "execution_count": 18,
   "id": "825cf84f",
   "metadata": {},
   "outputs": [
    {
     "data": {
      "text/plain": [
       "'IndexError'"
      ]
     },
     "execution_count": 18,
     "metadata": {},
     "output_type": "execute_result"
    }
   ],
   "source": [
    "ll_02[-2]"
   ]
  },
  {
   "cell_type": "code",
   "execution_count": null,
   "id": "a8d7002e",
   "metadata": {},
   "outputs": [],
   "source": []
  },
  {
   "cell_type": "code",
   "execution_count": null,
   "id": "f69c30a3",
   "metadata": {},
   "outputs": [],
   "source": []
  },
  {
   "cell_type": "code",
   "execution_count": null,
   "id": "3d47bc53",
   "metadata": {},
   "outputs": [],
   "source": []
  },
  {
   "cell_type": "code",
   "execution_count": null,
   "id": "c673444a",
   "metadata": {},
   "outputs": [],
   "source": []
  },
  {
   "cell_type": "code",
   "execution_count": null,
   "id": "11daa109",
   "metadata": {},
   "outputs": [],
   "source": []
  }
 ],
 "metadata": {
  "kernelspec": {
   "display_name": "Python 3 (ipykernel)",
   "language": "python",
   "name": "python3"
  },
  "language_info": {
   "codemirror_mode": {
    "name": "ipython",
    "version": 3
   },
   "file_extension": ".py",
   "mimetype": "text/x-python",
   "name": "python",
   "nbconvert_exporter": "python",
   "pygments_lexer": "ipython3",
   "version": "3.9.13"
  }
 },
 "nbformat": 4,
 "nbformat_minor": 5
}
