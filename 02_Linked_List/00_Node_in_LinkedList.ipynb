{
 "cells": [
  {
   "cell_type": "code",
   "execution_count": 2,
   "id": "9683030e",
   "metadata": {},
   "outputs": [],
   "source": [
    "\"\"\"\n",
    "Whenever we create a node, it's address part will always be None. \n",
    "Further, if it's the tail of Linked List it will remain None, and if it's not then, \n",
    "the adrees part will store the adress of next Node to it.\n",
    "\"\"\"\n",
    "\n",
    "\n",
    "class Node:\n",
    "    def __init__(node, data):\n",
    "        node.data_part = data\n",
    "        node.address_part = None"
   ]
  },
  {
   "cell_type": "code",
   "execution_count": 3,
   "id": "ace8f278",
   "metadata": {},
   "outputs": [],
   "source": [
    "a = Node(12)"
   ]
  },
  {
   "cell_type": "code",
   "execution_count": 4,
   "id": "61ca79e7",
   "metadata": {},
   "outputs": [
    {
     "data": {
      "text/plain": [
       "<__main__.Node at 0x275ee4bc940>"
      ]
     },
     "execution_count": 4,
     "metadata": {},
     "output_type": "execute_result"
    }
   ],
   "source": [
    "a"
   ]
  },
  {
   "cell_type": "code",
   "execution_count": 10,
   "id": "2ef55417",
   "metadata": {},
   "outputs": [
    {
     "name": "stdout",
     "output_type": "stream",
     "text": [
      "12\n"
     ]
    }
   ],
   "source": [
    "print(a.data_part)"
   ]
  },
  {
   "cell_type": "code",
   "execution_count": 11,
   "id": "4595cb3c",
   "metadata": {},
   "outputs": [
    {
     "name": "stdout",
     "output_type": "stream",
     "text": [
      "None\n"
     ]
    }
   ],
   "source": [
    "print(a.address_part)"
   ]
  },
  {
   "cell_type": "code",
   "execution_count": 5,
   "id": "1ca9c28b",
   "metadata": {},
   "outputs": [],
   "source": [
    "b = Node(5)"
   ]
  },
  {
   "cell_type": "code",
   "execution_count": 6,
   "id": "19ab2fad",
   "metadata": {},
   "outputs": [
    {
     "data": {
      "text/plain": [
       "<__main__.Node at 0x275ee4bc9a0>"
      ]
     },
     "execution_count": 6,
     "metadata": {},
     "output_type": "execute_result"
    }
   ],
   "source": [
    "b"
   ]
  },
  {
   "cell_type": "code",
   "execution_count": 7,
   "id": "3edc306b",
   "metadata": {},
   "outputs": [],
   "source": [
    "c = Node(8)"
   ]
  },
  {
   "cell_type": "code",
   "execution_count": 8,
   "id": "1dbc2647",
   "metadata": {},
   "outputs": [
    {
     "data": {
      "text/plain": [
       "<__main__.Node at 0x275ee4bc8b0>"
      ]
     },
     "execution_count": 8,
     "metadata": {},
     "output_type": "execute_result"
    }
   ],
   "source": [
    "c"
   ]
  },
  {
   "cell_type": "markdown",
   "id": "0d20a0a4",
   "metadata": {},
   "source": [
    "### NOTE: \n",
    "Above we have created 3 Nodes but as they are not connected, we can not consider them as a Linked List.\n",
    "To make it them a Linked List we can change their address_part from None to its next Node's address.\n",
    "Here's how we do manually:"
   ]
  },
  {
   "cell_type": "code",
   "execution_count": 12,
   "id": "a9968ea8",
   "metadata": {},
   "outputs": [],
   "source": [
    "a.address_part = b\n",
    "b.address_part = c"
   ]
  },
  {
   "cell_type": "code",
   "execution_count": 14,
   "id": "8bf3c1ef",
   "metadata": {},
   "outputs": [
    {
     "name": "stdout",
     "output_type": "stream",
     "text": [
      "12\n",
      "<__main__.Node object at 0x00000275EE4BC9A0>\n"
     ]
    }
   ],
   "source": [
    "print(a.data_part)\n",
    "print(a.address_part)"
   ]
  },
  {
   "cell_type": "code",
   "execution_count": 15,
   "id": "acd0ddda",
   "metadata": {},
   "outputs": [
    {
     "name": "stdout",
     "output_type": "stream",
     "text": [
      "5\n",
      "<__main__.Node object at 0x00000275EE4BC8B0>\n"
     ]
    }
   ],
   "source": [
    "print(b.data_part)\n",
    "print(b.address_part)"
   ]
  },
  {
   "cell_type": "code",
   "execution_count": 16,
   "id": "669539a5",
   "metadata": {},
   "outputs": [
    {
     "name": "stdout",
     "output_type": "stream",
     "text": [
      "8\n",
      "None\n"
     ]
    }
   ],
   "source": [
    "print(c.data_part)\n",
    "print(c.address_part)"
   ]
  },
  {
   "cell_type": "code",
   "execution_count": null,
   "id": "e5d37bd1",
   "metadata": {},
   "outputs": [],
   "source": []
  },
  {
   "cell_type": "code",
   "execution_count": null,
   "id": "3e00d9a0",
   "metadata": {},
   "outputs": [],
   "source": []
  },
  {
   "cell_type": "code",
   "execution_count": null,
   "id": "fe8dd7da",
   "metadata": {},
   "outputs": [],
   "source": []
  },
  {
   "cell_type": "code",
   "execution_count": null,
   "id": "121378da",
   "metadata": {},
   "outputs": [],
   "source": []
  },
  {
   "cell_type": "code",
   "execution_count": null,
   "id": "13d79de6",
   "metadata": {},
   "outputs": [],
   "source": []
  },
  {
   "cell_type": "code",
   "execution_count": null,
   "id": "df19132a",
   "metadata": {},
   "outputs": [],
   "source": []
  },
  {
   "cell_type": "code",
   "execution_count": null,
   "id": "810eb9f0",
   "metadata": {},
   "outputs": [],
   "source": []
  },
  {
   "cell_type": "code",
   "execution_count": null,
   "id": "ea76c6fa",
   "metadata": {},
   "outputs": [],
   "source": []
  },
  {
   "cell_type": "code",
   "execution_count": null,
   "id": "055f31af",
   "metadata": {},
   "outputs": [],
   "source": []
  },
  {
   "cell_type": "code",
   "execution_count": null,
   "id": "e2927fd6",
   "metadata": {},
   "outputs": [],
   "source": []
  }
 ],
 "metadata": {
  "kernelspec": {
   "display_name": "Python 3 (ipykernel)",
   "language": "python",
   "name": "python3"
  },
  "language_info": {
   "codemirror_mode": {
    "name": "ipython",
    "version": 3
   },
   "file_extension": ".py",
   "mimetype": "text/x-python",
   "name": "python",
   "nbconvert_exporter": "python",
   "pygments_lexer": "ipython3",
   "version": "3.9.13"
  }
 },
 "nbformat": 4,
 "nbformat_minor": 5
}
