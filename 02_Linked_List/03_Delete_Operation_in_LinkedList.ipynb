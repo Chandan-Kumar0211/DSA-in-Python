{
 "cells": [
  {
   "cell_type": "code",
   "execution_count": 1,
   "id": "403cc651",
   "metadata": {},
   "outputs": [],
   "source": [
    "# Creating a Node class\n",
    "\n",
    "class Node:\n",
    "    def __init__(self, data):\n",
    "        self.data = data\n",
    "        self.next = None"
   ]
  },
  {
   "cell_type": "code",
   "execution_count": null,
   "id": "ecda5812",
   "metadata": {},
   "outputs": [],
   "source": []
  },
  {
   "cell_type": "markdown",
   "id": "1a074fb0",
   "metadata": {},
   "source": [
    "### Linked List upto Insertion and Traversal Operation"
   ]
  },
  {
   "cell_type": "code",
   "execution_count": 2,
   "id": "9f25fcdd",
   "metadata": {},
   "outputs": [],
   "source": [
    "class LinkedList:\n",
    "    def __init__(self):\n",
    "        # creaing an empty LL (It means the value of head of LL should be None.)\n",
    "        self.head = None\n",
    "        # counting no of nodes in LL\n",
    "        self.n = 0\n",
    "    \n",
    "    def __len__(self):\n",
    "        return self.n\n",
    "    \n",
    "    def insert_head(self, value):\n",
    "        # creating a new node\n",
    "        new_node = Node(value)\n",
    "        \n",
    "        # create connection\n",
    "        new_node.next = self.head\n",
    "        \n",
    "        # reassign head\n",
    "        self.head = new_node\n",
    "        \n",
    "        # increment n\n",
    "        self.n = self.n + 1\n",
    "        \n",
    "    # Using magic method    \n",
    "    def __str__(self):\n",
    "        curr = self.head\n",
    "        \n",
    "        result = ''\n",
    "        \n",
    "        while curr != None:\n",
    "            result = result + str(curr.data) + '-->'\n",
    "            curr = curr.next\n",
    "        \n",
    "        return result[:-3]\n",
    "    \n",
    "    def append(self, value):\n",
    "        # creating a new node\n",
    "        new_node = Node(value)\n",
    "        \n",
    "        # checking for empty list\n",
    "        if self.head == None:\n",
    "            self.head = new_node\n",
    "            self.n = self.n + 1\n",
    "            return \n",
    "        \n",
    "        curr = self.head\n",
    "        \n",
    "        # traversing till one element before the last element\n",
    "        while curr.next != None:\n",
    "            curr = curr.next\n",
    "        \n",
    "        # Now our \"curr\" is the tail, so\n",
    "        curr.next = new_node\n",
    "        \n",
    "        # increment n\n",
    "        self.n = self.n + 1\n",
    "        \n",
    "    # This will get the value to be inserted and the value after which it should be inserted\n",
    "    def insert_btw_nodes(self, after_val, val):\n",
    "        new_node = Node(val)\n",
    "        \n",
    "        curr = self.head\n",
    "        while curr != None:\n",
    "            if curr.data == after_val:\n",
    "                break\n",
    "            curr = curr.next\n",
    "        \n",
    "        # if value after which it should have been inserted is found\n",
    "        if curr != None:\n",
    "            new_node.next = curr.next  \n",
    "            curr.next = new_node\n",
    "            \"\"\"\n",
    "            Please NOTE that the above two operations can't be interchanged otherwise, \n",
    "            the address of one node will be lost.\n",
    "            \"\"\"\n",
    "            self.n = self.n + 1\n",
    "        else:\n",
    "            return \"Item not found!\""
   ]
  },
  {
   "cell_type": "code",
   "execution_count": null,
   "id": "cfb3d5c8",
   "metadata": {},
   "outputs": [],
   "source": []
  },
  {
   "cell_type": "markdown",
   "id": "62f2f135",
   "metadata": {},
   "source": [
    "# Adding Deletion Funcionalities"
   ]
  },
  {
   "cell_type": "markdown",
   "id": "c02fa26f",
   "metadata": {},
   "source": [
    "### 1. Deleting from Head of LL"
   ]
  },
  {
   "cell_type": "code",
   "execution_count": 3,
   "id": "a89f93ef",
   "metadata": {},
   "outputs": [],
   "source": [
    "class LinkedList:\n",
    "    def __init__(self):\n",
    "        # creaing an empty LL (It means the value of head of LL should be None.)\n",
    "        self.head = None\n",
    "        # counting no of nodes in LL\n",
    "        self.n = 0\n",
    "    \n",
    "    def __len__(self):\n",
    "        return self.n\n",
    "    \n",
    "    def insert_head(self, value):\n",
    "        # creating a new node\n",
    "        new_node = Node(value)\n",
    "        \n",
    "        # create connection\n",
    "        new_node.next = self.head\n",
    "        \n",
    "        # reassign head\n",
    "        self.head = new_node\n",
    "        \n",
    "        # increment n\n",
    "        self.n = self.n + 1\n",
    "        \n",
    "    # Using magic method    \n",
    "    def __str__(self):\n",
    "        curr = self.head\n",
    "        \n",
    "        result = ''\n",
    "        \n",
    "        while curr != None:\n",
    "            result = result + str(curr.data) + '-->'\n",
    "            curr = curr.next\n",
    "        \n",
    "        return result[:-3]\n",
    "    \n",
    "    def append(self, value):\n",
    "        # creating a new node\n",
    "        new_node = Node(value)\n",
    "        \n",
    "        # checking for empty list\n",
    "        if self.head == None:\n",
    "            self.head = new_node\n",
    "            self.n = self.n + 1\n",
    "            return \n",
    "        \n",
    "        curr = self.head\n",
    "        \n",
    "        # traversing till one element before the last element\n",
    "        while curr.next != None:\n",
    "            curr = curr.next\n",
    "        \n",
    "        # Now we our \"curr\" is the tail, so\n",
    "        curr.next = new_node\n",
    "        \n",
    "        # increment n\n",
    "        self.n = self.n + 1\n",
    "        \n",
    "    # This will get the value to be inserted and the value after which it should be inserted\n",
    "    def insert_btw_nodes(self, after_val, val):\n",
    "        new_node = Node(val)\n",
    "        \n",
    "        curr = self.head\n",
    "        while curr != None:\n",
    "            if curr.data == after_val:\n",
    "                break\n",
    "            curr = curr.next\n",
    "        \n",
    "        # if value after which it should have been inserted is found\n",
    "        if curr != None:\n",
    "            new_node.next = curr.next  \n",
    "            curr.next = new_node\n",
    "            self.n = self.n + 1\n",
    "            \"\"\"\n",
    "            Please NOTE that the above two operations can't be interchanged otherwise, \n",
    "            the address of one node will be lost.\n",
    "            \"\"\"\n",
    "        else:\n",
    "            return \"Item not found!\"\n",
    "        \n",
    "    def delete_head(self):\n",
    "        # checking if its an empty LL\n",
    "        if self.head == None:\n",
    "            return \"Empty LL\"\n",
    "        \n",
    "        self.head = self.head.next\n",
    "        self.n = self.n -1"
   ]
  },
  {
   "cell_type": "code",
   "execution_count": 4,
   "id": "63fc5466",
   "metadata": {},
   "outputs": [],
   "source": [
    "LL_01 = LinkedList()"
   ]
  },
  {
   "cell_type": "code",
   "execution_count": 5,
   "id": "30f89462",
   "metadata": {},
   "outputs": [],
   "source": [
    "LL_01.insert_head(12)\n",
    "LL_01.insert_head(4)\n",
    "LL_01.insert_head(8)\n",
    "LL_01.insert_head(2)"
   ]
  },
  {
   "cell_type": "code",
   "execution_count": 6,
   "id": "5c28a865",
   "metadata": {},
   "outputs": [
    {
     "name": "stdout",
     "output_type": "stream",
     "text": [
      "2-->8-->4-->12\n"
     ]
    }
   ],
   "source": [
    "print(LL_01)"
   ]
  },
  {
   "cell_type": "code",
   "execution_count": 7,
   "id": "c8be0799",
   "metadata": {},
   "outputs": [],
   "source": [
    "LL_01.delete_head()"
   ]
  },
  {
   "cell_type": "code",
   "execution_count": 8,
   "id": "21b90c23",
   "metadata": {},
   "outputs": [
    {
     "name": "stdout",
     "output_type": "stream",
     "text": [
      "8-->4-->12\n"
     ]
    }
   ],
   "source": [
    "print(LL_01)"
   ]
  },
  {
   "cell_type": "code",
   "execution_count": null,
   "id": "200ed558",
   "metadata": {},
   "outputs": [],
   "source": []
  },
  {
   "cell_type": "markdown",
   "id": "6f26266c",
   "metadata": {},
   "source": [
    "### 2. Deleting from Tail of LL (similar to pop() in List)"
   ]
  },
  {
   "cell_type": "code",
   "execution_count": 14,
   "id": "aa9d0613",
   "metadata": {},
   "outputs": [],
   "source": [
    "class LinkedList:\n",
    "    def __init__(self):\n",
    "        # creaing an empty LL (It means the value of head of LL should be None.)\n",
    "        self.head = None\n",
    "        # counting no of nodes in LL\n",
    "        self.n = 0\n",
    "    \n",
    "    def __len__(self):\n",
    "        return self.n\n",
    "    \n",
    "    def insert_head(self, value):\n",
    "        # creating a new node\n",
    "        new_node = Node(value)\n",
    "        \n",
    "        # create connection\n",
    "        new_node.next = self.head\n",
    "        \n",
    "        # reassign head\n",
    "        self.head = new_node\n",
    "        \n",
    "        # increment n\n",
    "        self.n = self.n + 1\n",
    "        \n",
    "    # Using magic method    \n",
    "    def __str__(self):\n",
    "        curr = self.head\n",
    "        \n",
    "        result = ''\n",
    "        \n",
    "        while curr != None:\n",
    "            result = result + str(curr.data) + '-->'\n",
    "            curr = curr.next\n",
    "        \n",
    "        return result[:-3]\n",
    "    \n",
    "    def append(self, value):\n",
    "        # creating a new node\n",
    "        new_node = Node(value)\n",
    "        \n",
    "        # checking for empty list\n",
    "        if self.head == None:\n",
    "            self.head = new_node\n",
    "            self.n = self.n + 1\n",
    "            return \n",
    "        \n",
    "        curr = self.head\n",
    "        \n",
    "        # traversing till one element before the last element\n",
    "        while curr.next != None:\n",
    "            curr = curr.next\n",
    "        \n",
    "        # Now we our \"curr\" is the tail, so\n",
    "        curr.next = new_node\n",
    "        \n",
    "        # increment n\n",
    "        self.n = self.n + 1\n",
    "        \n",
    "    # This will get the value to be inserted and the value after which it should be inserted\n",
    "    def insert_btw_nodes(self, after_val, val):\n",
    "        new_node = Node(val)\n",
    "        \n",
    "        curr = self.head\n",
    "        while curr != None:\n",
    "            if curr.data == after_val:\n",
    "                break\n",
    "            curr = curr.next\n",
    "        \n",
    "        # if value after which it should have been inserted is found\n",
    "        if curr != None:\n",
    "            new_node.next = curr.next  \n",
    "            curr.next = new_node\n",
    "            self.n = self.n + 1\n",
    "            \"\"\"\n",
    "            Please NOTE that the above two operations can't be interchanged otherwise, \n",
    "            the address of one node will be lost.\n",
    "            \"\"\"\n",
    "        else:\n",
    "            return \"Item not found!\"\n",
    "        \n",
    "    def delete_head(self):\n",
    "        # checking if its an empty LL\n",
    "        if self.head == None:\n",
    "            return \"Empty LL\"\n",
    "        \n",
    "        self.head = self.head.next\n",
    "        self.n = self.n -1\n",
    "        \n",
    "    def pop(self):\n",
    "        # checking if its an empty LL\n",
    "        if self.head == None:\n",
    "            return \"Empty LL\"\n",
    "        \n",
    "        curr = self.head\n",
    "        \n",
    "        # Also, we have to check if we have only one node in LL\n",
    "        if curr.next == None:\n",
    "            return self.delete_head()\n",
    "        \n",
    "        while curr.next.next != None:\n",
    "            curr = curr.next\n",
    "        \n",
    "        # now our 'curr' is on 2nd last node, therefore we will make it the tail of LL\n",
    "        curr.next = None\n",
    "        self.n = self.n - 1"
   ]
  },
  {
   "cell_type": "code",
   "execution_count": 15,
   "id": "878e447e",
   "metadata": {},
   "outputs": [],
   "source": [
    "LL_02 = LinkedList()"
   ]
  },
  {
   "cell_type": "code",
   "execution_count": 16,
   "id": "2d4de464",
   "metadata": {},
   "outputs": [],
   "source": [
    "LL_02.insert_head(12)\n",
    "LL_02.insert_head(4)\n",
    "LL_02.insert_head(8)\n",
    "LL_02.insert_head(2)"
   ]
  },
  {
   "cell_type": "code",
   "execution_count": 17,
   "id": "1962efe3",
   "metadata": {},
   "outputs": [
    {
     "name": "stdout",
     "output_type": "stream",
     "text": [
      "2-->8-->4-->12\n"
     ]
    }
   ],
   "source": [
    "print(LL_02)"
   ]
  },
  {
   "cell_type": "code",
   "execution_count": 18,
   "id": "c3c71abf",
   "metadata": {},
   "outputs": [],
   "source": [
    "LL_02.pop()"
   ]
  },
  {
   "cell_type": "code",
   "execution_count": 19,
   "id": "2a927373",
   "metadata": {},
   "outputs": [
    {
     "name": "stdout",
     "output_type": "stream",
     "text": [
      "2-->8-->4\n"
     ]
    }
   ],
   "source": [
    "print(LL_02)"
   ]
  },
  {
   "cell_type": "code",
   "execution_count": null,
   "id": "c3132724",
   "metadata": {},
   "outputs": [],
   "source": []
  },
  {
   "cell_type": "markdown",
   "id": "e83ff43d",
   "metadata": {},
   "source": [
    "### 3. Deleting the node with given value (similar to remove() in LL) "
   ]
  },
  {
   "cell_type": "code",
   "execution_count": 22,
   "id": "7f92a10d",
   "metadata": {},
   "outputs": [],
   "source": [
    "class LinkedList:\n",
    "    def __init__(self):\n",
    "        # creaing an empty LL (It means the value of head of LL should be None.)\n",
    "        self.head = None\n",
    "        # counting no of nodes in LL\n",
    "        self.n = 0\n",
    "    \n",
    "    def __len__(self):\n",
    "        return self.n\n",
    "    \n",
    "    def insert_head(self, value):\n",
    "        # creating a new node\n",
    "        new_node = Node(value)\n",
    "        \n",
    "        # create connection\n",
    "        new_node.next = self.head\n",
    "        \n",
    "        # reassign head\n",
    "        self.head = new_node\n",
    "        \n",
    "        # increment n\n",
    "        self.n = self.n + 1\n",
    "        \n",
    "    # Using magic method    \n",
    "    def __str__(self):\n",
    "        curr = self.head\n",
    "        \n",
    "        result = ''\n",
    "        \n",
    "        while curr != None:\n",
    "            result = result + str(curr.data) + '-->'\n",
    "            curr = curr.next\n",
    "        \n",
    "        return result[:-3]\n",
    "    \n",
    "    def append(self, value):\n",
    "        # creating a new node\n",
    "        new_node = Node(value)\n",
    "        \n",
    "        # checking for empty list\n",
    "        if self.head == None:\n",
    "            self.head = new_node\n",
    "            self.n = self.n + 1\n",
    "            return \n",
    "        \n",
    "        curr = self.head\n",
    "        \n",
    "        # traversing till one element before the last element\n",
    "        while curr.next != None:\n",
    "            curr = curr.next\n",
    "        \n",
    "        # Now we our \"curr\" is the tail, so\n",
    "        curr.next = new_node\n",
    "        \n",
    "        # increment n\n",
    "        self.n = self.n + 1\n",
    "        \n",
    "    # This will get the value to be inserted and the value after which it should be inserted\n",
    "    def insert_btw_nodes(self, after_val, val):\n",
    "        new_node = Node(val)\n",
    "        \n",
    "        curr = self.head\n",
    "        while curr != None:\n",
    "            if curr.data == after_val:\n",
    "                break\n",
    "            curr = curr.next\n",
    "        \n",
    "        # if value after which it should have been inserted is found\n",
    "        if curr != None:\n",
    "            new_node.next = curr.next  \n",
    "            curr.next = new_node\n",
    "            self.n = self.n + 1\n",
    "            \"\"\"\n",
    "            Please NOTE that the above two operations can't be interchanged otherwise, \n",
    "            the address of one node will be lost.\n",
    "            \"\"\"\n",
    "        else:\n",
    "            return \"Item not found!\"\n",
    "        \n",
    "    def delete_head(self):\n",
    "        # checking if its an empty LL\n",
    "        if self.head == None:\n",
    "            return \"Empty LL\"\n",
    "        \n",
    "        self.head = self.head.next\n",
    "        self.n = self.n -1\n",
    "        \n",
    "    def pop(self):\n",
    "        # checking if its an empty LL\n",
    "        if self.head == None:\n",
    "            return \"Empty LL\"\n",
    "        \n",
    "        curr = self.head\n",
    "        \n",
    "        # Also, we have to check if we have only one node in LL\n",
    "        if curr.next == None:\n",
    "            return self.delete_head()\n",
    "        \n",
    "        while curr.next.next != None:\n",
    "            curr = curr.next\n",
    "        \n",
    "        # now our 'curr' is on 2nd last node, therefore we will make it the tail of LL\n",
    "        curr.next = None\n",
    "        self.n = self.n - 1\n",
    "    \n",
    "    def remove(self, value):\n",
    "        # checking if its an empty LL\n",
    "        if self.head == None:\n",
    "            return 'Empty LL'\n",
    "        \n",
    "        # If LL has only one node and its data is equal to given value\n",
    "        if self.head.data == value:\n",
    "            return self.delete_head()\n",
    "        \n",
    "        curr = self.head\n",
    "        \n",
    "        while curr.next != None:\n",
    "            \"\"\"\n",
    "            Here, we need to check the data of curr.next, if it's equal to value or not; as\n",
    "            we cannot go back in LL and we want to stop one before the node whose data == value\n",
    "            \"\"\"\n",
    "            if curr.next.data == value:\n",
    "                break\n",
    "            curr = curr.next\n",
    "            \n",
    "        \"\"\"\n",
    "        Again there are two cases even after exiting from the loop: \n",
    "        1. if there is a data which matches with value \n",
    "        2. or none of the data matched with the given value\n",
    "        \"\"\"\n",
    "        if curr.next == None:\n",
    "            return \"Item Not Found!\"\n",
    "        else:\n",
    "            curr.next = curr.next.next\n",
    "            self.n = self.n - 1"
   ]
  },
  {
   "cell_type": "code",
   "execution_count": 23,
   "id": "e55d4d10",
   "metadata": {},
   "outputs": [],
   "source": [
    "LL_03 = LinkedList()"
   ]
  },
  {
   "cell_type": "code",
   "execution_count": 25,
   "id": "a894557e",
   "metadata": {},
   "outputs": [],
   "source": [
    "LL_03.insert_head(12)\n",
    "LL_03.insert_head(4)\n",
    "LL_03.insert_head(8)\n",
    "LL_03.insert_head(2)"
   ]
  },
  {
   "cell_type": "code",
   "execution_count": 26,
   "id": "169c25a8",
   "metadata": {},
   "outputs": [
    {
     "name": "stdout",
     "output_type": "stream",
     "text": [
      "2-->8-->4-->12\n"
     ]
    }
   ],
   "source": [
    "print(LL_03)"
   ]
  },
  {
   "cell_type": "code",
   "execution_count": 27,
   "id": "8bca61b2",
   "metadata": {},
   "outputs": [],
   "source": [
    "LL_03.remove(4)"
   ]
  },
  {
   "cell_type": "code",
   "execution_count": 28,
   "id": "f2a27af6",
   "metadata": {},
   "outputs": [
    {
     "name": "stdout",
     "output_type": "stream",
     "text": [
      "2-->8-->12\n"
     ]
    }
   ],
   "source": [
    "print(LL_03)"
   ]
  },
  {
   "cell_type": "code",
   "execution_count": 29,
   "id": "2e49674d",
   "metadata": {},
   "outputs": [],
   "source": [
    "LL_03.remove(2)"
   ]
  },
  {
   "cell_type": "code",
   "execution_count": 30,
   "id": "b249b18f",
   "metadata": {},
   "outputs": [
    {
     "name": "stdout",
     "output_type": "stream",
     "text": [
      "8-->12\n"
     ]
    }
   ],
   "source": [
    "print(LL_03)"
   ]
  },
  {
   "cell_type": "code",
   "execution_count": 31,
   "id": "289e1d23",
   "metadata": {},
   "outputs": [],
   "source": [
    "LL_03.remove(12)"
   ]
  },
  {
   "cell_type": "code",
   "execution_count": 32,
   "id": "d5a182de",
   "metadata": {},
   "outputs": [
    {
     "name": "stdout",
     "output_type": "stream",
     "text": [
      "8\n"
     ]
    }
   ],
   "source": [
    "print(LL_03)"
   ]
  },
  {
   "cell_type": "code",
   "execution_count": 34,
   "id": "fec1809a",
   "metadata": {},
   "outputs": [
    {
     "data": {
      "text/plain": [
       "'Item Not Found!'"
      ]
     },
     "execution_count": 34,
     "metadata": {},
     "output_type": "execute_result"
    }
   ],
   "source": [
    "LL_03.remove(100)"
   ]
  },
  {
   "cell_type": "code",
   "execution_count": 35,
   "id": "61d38ca1",
   "metadata": {},
   "outputs": [],
   "source": [
    "LL_03.remove(8)"
   ]
  },
  {
   "cell_type": "code",
   "execution_count": 36,
   "id": "f762a52f",
   "metadata": {},
   "outputs": [
    {
     "name": "stdout",
     "output_type": "stream",
     "text": [
      "\n"
     ]
    }
   ],
   "source": [
    "print(LL_03)"
   ]
  },
  {
   "cell_type": "code",
   "execution_count": 37,
   "id": "c84978eb",
   "metadata": {},
   "outputs": [
    {
     "data": {
      "text/plain": [
       "'Empty LL'"
      ]
     },
     "execution_count": 37,
     "metadata": {},
     "output_type": "execute_result"
    }
   ],
   "source": [
    "LL_03.remove(6)"
   ]
  },
  {
   "cell_type": "code",
   "execution_count": null,
   "id": "b4193dc4",
   "metadata": {},
   "outputs": [],
   "source": []
  },
  {
   "cell_type": "code",
   "execution_count": null,
   "id": "ac6be39d",
   "metadata": {},
   "outputs": [],
   "source": []
  },
  {
   "cell_type": "code",
   "execution_count": null,
   "id": "3e850594",
   "metadata": {},
   "outputs": [],
   "source": []
  },
  {
   "cell_type": "code",
   "execution_count": null,
   "id": "f52e1bbf",
   "metadata": {},
   "outputs": [],
   "source": []
  },
  {
   "cell_type": "code",
   "execution_count": null,
   "id": "fd69f3f1",
   "metadata": {},
   "outputs": [],
   "source": []
  },
  {
   "cell_type": "code",
   "execution_count": null,
   "id": "73492f9b",
   "metadata": {},
   "outputs": [],
   "source": []
  },
  {
   "cell_type": "code",
   "execution_count": null,
   "id": "f19641e0",
   "metadata": {},
   "outputs": [],
   "source": []
  },
  {
   "cell_type": "code",
   "execution_count": null,
   "id": "3ecd2a10",
   "metadata": {},
   "outputs": [],
   "source": []
  },
  {
   "cell_type": "code",
   "execution_count": null,
   "id": "790b1608",
   "metadata": {},
   "outputs": [],
   "source": []
  },
  {
   "cell_type": "code",
   "execution_count": null,
   "id": "4644a756",
   "metadata": {},
   "outputs": [],
   "source": []
  },
  {
   "cell_type": "code",
   "execution_count": null,
   "id": "e7b5e9f3",
   "metadata": {},
   "outputs": [],
   "source": []
  },
  {
   "cell_type": "code",
   "execution_count": null,
   "id": "f3112dc4",
   "metadata": {},
   "outputs": [],
   "source": []
  },
  {
   "cell_type": "code",
   "execution_count": null,
   "id": "17121575",
   "metadata": {},
   "outputs": [],
   "source": []
  },
  {
   "cell_type": "code",
   "execution_count": null,
   "id": "509878fd",
   "metadata": {},
   "outputs": [],
   "source": []
  }
 ],
 "metadata": {
  "kernelspec": {
   "display_name": "Python 3 (ipykernel)",
   "language": "python",
   "name": "python3"
  },
  "language_info": {
   "codemirror_mode": {
    "name": "ipython",
    "version": 3
   },
   "file_extension": ".py",
   "mimetype": "text/x-python",
   "name": "python",
   "nbconvert_exporter": "python",
   "pygments_lexer": "ipython3",
   "version": "3.9.13"
  }
 },
 "nbformat": 4,
 "nbformat_minor": 5
}
