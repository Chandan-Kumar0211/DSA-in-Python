{
 "cells": [
  {
   "cell_type": "code",
   "execution_count": 1,
   "id": "f2151767",
   "metadata": {},
   "outputs": [],
   "source": [
    "# Creating a Node class\n",
    "\n",
    "class Node:\n",
    "    def __init__(self, data):\n",
    "        self.data = data\n",
    "        self.next = None"
   ]
  },
  {
   "cell_type": "code",
   "execution_count": 2,
   "id": "5780c715",
   "metadata": {},
   "outputs": [],
   "source": [
    "# Creating a Linked List Class\n",
    "\n",
    "class LinkedList:\n",
    "    def __init__(self):\n",
    "        # creaing an empty LL (It means the value of head of LL should be None.)\n",
    "        self.head = None\n",
    "        # counting no of nodes in LL\n",
    "        self.n = 0\n",
    "    \n",
    "    def __len__(self):\n",
    "        return self.n"
   ]
  },
  {
   "cell_type": "code",
   "execution_count": 3,
   "id": "7c34666a",
   "metadata": {},
   "outputs": [],
   "source": [
    "L = LinkedList()"
   ]
  },
  {
   "cell_type": "code",
   "execution_count": 4,
   "id": "0a6e4aaf",
   "metadata": {},
   "outputs": [
    {
     "name": "stdout",
     "output_type": "stream",
     "text": [
      "<__main__.LinkedList object at 0x00000289D276C850>\n"
     ]
    }
   ],
   "source": [
    "print(L)"
   ]
  },
  {
   "cell_type": "code",
   "execution_count": 5,
   "id": "f1015e32",
   "metadata": {},
   "outputs": [
    {
     "data": {
      "text/plain": [
       "0"
      ]
     },
     "execution_count": 5,
     "metadata": {},
     "output_type": "execute_result"
    }
   ],
   "source": [
    "len(L)"
   ]
  },
  {
   "cell_type": "code",
   "execution_count": 6,
   "id": "2cf091a8",
   "metadata": {},
   "outputs": [],
   "source": [
    "##"
   ]
  },
  {
   "cell_type": "markdown",
   "id": "cb33a103",
   "metadata": {},
   "source": [
    "## Insert operations in Linked List"
   ]
  },
  {
   "cell_type": "markdown",
   "id": "66476a8b",
   "metadata": {},
   "source": [
    "#### 1. Insert at head of LinkedList"
   ]
  },
  {
   "cell_type": "code",
   "execution_count": 7,
   "id": "b3f6781d",
   "metadata": {},
   "outputs": [],
   "source": [
    "class LinkedList:\n",
    "    def __init__(self):\n",
    "        # creaing an empty LL (It means the value of head of LL should be None.)\n",
    "        self.head = None\n",
    "        # counting no of nodes in LL\n",
    "        self.n = 0\n",
    "    \n",
    "    def __len__(self):\n",
    "        return self.n\n",
    "    \n",
    "    def insert_head(self, value):\n",
    "        # creating a new node\n",
    "        new_node = Node(value)\n",
    "        \n",
    "        # create connection\n",
    "        new_node.next = self.head\n",
    "        \n",
    "        # reassign head\n",
    "        self.head = new_node\n",
    "        \n",
    "        # increment n\n",
    "        self.n = self.n + 1"
   ]
  },
  {
   "cell_type": "code",
   "execution_count": 8,
   "id": "e5b52dd6",
   "metadata": {},
   "outputs": [],
   "source": [
    "LL_01 = LinkedList()"
   ]
  },
  {
   "cell_type": "code",
   "execution_count": 9,
   "id": "055066c8",
   "metadata": {},
   "outputs": [],
   "source": [
    "LL_01.insert_head(12)\n",
    "LL_01.insert_head(5)\n",
    "LL_01.insert_head(8)\n",
    "LL_01.insert_head(\"Ok\")"
   ]
  },
  {
   "cell_type": "code",
   "execution_count": null,
   "id": "50a69edc",
   "metadata": {},
   "outputs": [],
   "source": []
  },
  {
   "cell_type": "markdown",
   "id": "0a7a17d7",
   "metadata": {},
   "source": [
    "#### 2. Insert at tail of LinkedList (similar to append in List)"
   ]
  },
  {
   "cell_type": "markdown",
   "id": "103683d1",
   "metadata": {},
   "source": [
    "Note: Here I'm using code of next to this file to append the value, as first we need to traverse to tail of the LL, then we can insert values there."
   ]
  },
  {
   "cell_type": "code",
   "execution_count": 10,
   "id": "f6ccff40",
   "metadata": {},
   "outputs": [],
   "source": [
    "class LinkedList:\n",
    "    def __init__(self):\n",
    "        # creaing an empty LL (It means the value of head of LL should be None.)\n",
    "        self.head = None\n",
    "        # counting no of nodes in LL\n",
    "        self.n = 0\n",
    "    \n",
    "    def __len__(self):\n",
    "        return self.n\n",
    "    \n",
    "    def insert_head(self, value):\n",
    "        # creating a new node\n",
    "        new_node = Node(value)\n",
    "        \n",
    "        # create connection\n",
    "        new_node.next = self.head\n",
    "        \n",
    "        # reassign head\n",
    "        self.head = new_node\n",
    "        \n",
    "        # increment n\n",
    "        self.n = self.n + 1\n",
    "        \n",
    "    # Using magic method to print along with traversing   \n",
    "    def __str__(self):\n",
    "        curr = self.head\n",
    "        \n",
    "        result = ''\n",
    "        \n",
    "        while curr != None:\n",
    "            result = result + str(curr.data) + '-->'\n",
    "            curr = curr.next\n",
    "        \n",
    "        return result[:-3]\n",
    "    \n",
    "    def append(self, value):\n",
    "        # creating a new node\n",
    "        new_node = Node(value)\n",
    "        \n",
    "        # checking for empty list\n",
    "        if self.head == None:\n",
    "            self.head = new_node\n",
    "            self.n = self.n + 1\n",
    "            return \n",
    "        \n",
    "        curr = self.head\n",
    "        \n",
    "        # traversing till one element before the last element\n",
    "        while curr.next != None:\n",
    "            curr = curr.next\n",
    "        \n",
    "        # Now we our \"curr\" is the tail, so\n",
    "        curr.next = new_node\n",
    "        \n",
    "        # increment n\n",
    "        self.n = self.n + 1"
   ]
  },
  {
   "cell_type": "code",
   "execution_count": 11,
   "id": "99d7b0b8",
   "metadata": {},
   "outputs": [],
   "source": [
    "LL_02 = LinkedList()"
   ]
  },
  {
   "cell_type": "code",
   "execution_count": 12,
   "id": "2e623b64",
   "metadata": {},
   "outputs": [],
   "source": [
    "LL_02.insert_head(12)\n",
    "LL_02.insert_head(5)\n",
    "LL_02.insert_head(8)\n",
    "LL_02.insert_head(\"Ok\")"
   ]
  },
  {
   "cell_type": "code",
   "execution_count": 13,
   "id": "fda412d7",
   "metadata": {},
   "outputs": [
    {
     "name": "stdout",
     "output_type": "stream",
     "text": [
      "Ok-->8-->5-->12\n"
     ]
    }
   ],
   "source": [
    "print(LL_02)"
   ]
  },
  {
   "cell_type": "code",
   "execution_count": 14,
   "id": "226c2add",
   "metadata": {},
   "outputs": [],
   "source": [
    "LL_02.append(\"Not Okay\")"
   ]
  },
  {
   "cell_type": "code",
   "execution_count": 15,
   "id": "25b3b288",
   "metadata": {},
   "outputs": [
    {
     "name": "stdout",
     "output_type": "stream",
     "text": [
      "Ok-->8-->5-->12-->Not Okay\n"
     ]
    }
   ],
   "source": [
    "print(LL_02)"
   ]
  },
  {
   "cell_type": "code",
   "execution_count": 16,
   "id": "77188d19",
   "metadata": {},
   "outputs": [],
   "source": [
    "# ll_empty = LinkedList()\n",
    "# ll_empty.append(5)\n",
    "# print(ll_empty)"
   ]
  },
  {
   "cell_type": "code",
   "execution_count": null,
   "id": "a757e178",
   "metadata": {},
   "outputs": [],
   "source": []
  },
  {
   "cell_type": "markdown",
   "id": "10c7fac7",
   "metadata": {},
   "source": [
    "#### 3. Insert in between any two nodes of the LinkedList "
   ]
  },
  {
   "cell_type": "code",
   "execution_count": 17,
   "id": "4b4d2cf7",
   "metadata": {},
   "outputs": [],
   "source": [
    "class LinkedList:\n",
    "    def __init__(self):\n",
    "        # creaing an empty LL (It means the value of head of LL should be None.)\n",
    "        self.head = None\n",
    "        # counting no of nodes in LL\n",
    "        self.n = 0\n",
    "    \n",
    "    def __len__(self):\n",
    "        return self.n\n",
    "    \n",
    "    def insert_head(self, value):\n",
    "        # creating a new node\n",
    "        new_node = Node(value)\n",
    "        \n",
    "        # create connection\n",
    "        new_node.next = self.head\n",
    "        \n",
    "        # reassign head\n",
    "        self.head = new_node\n",
    "        \n",
    "        # increment n\n",
    "        self.n = self.n + 1\n",
    "        \n",
    "    # Using magic method    \n",
    "    def __str__(self):\n",
    "        curr = self.head\n",
    "        \n",
    "        result = ''\n",
    "        \n",
    "        while curr != None:\n",
    "            result = result + str(curr.data) + '-->'\n",
    "            curr = curr.next\n",
    "        \n",
    "        return result[:-3]\n",
    "    \n",
    "    def append(self, value):\n",
    "        # creating a new node\n",
    "        new_node = Node(value)\n",
    "        \n",
    "        # checking for empty list\n",
    "        if self.head == None:\n",
    "            self.head = new_node\n",
    "            self.n = self.n + 1\n",
    "            return \n",
    "        \n",
    "        curr = self.head\n",
    "        \n",
    "        # traversing till one element before the last element\n",
    "        while curr.next != None:\n",
    "            curr = curr.next\n",
    "        \n",
    "        # Now we our \"curr\" is the tail, so\n",
    "        curr.next = new_node\n",
    "        \n",
    "        # increment n\n",
    "        self.n = self.n + 1\n",
    "        \n",
    "    # This will get the value to be inserted and the value after which it should be inserted\n",
    "    def insert_btw_nodes(self, after_val, val):\n",
    "        new_node = Node(val)\n",
    "        \n",
    "        curr = self.head\n",
    "        while curr != None:\n",
    "            if curr.data == after_val:\n",
    "                break\n",
    "            curr = curr.next\n",
    "        \n",
    "        # if value after which it should have been inserted is found\n",
    "        if curr != None:\n",
    "            new_node.next = curr.next  \n",
    "            curr.next = new_node\n",
    "            self.n = self.n + 1\n",
    "            \"\"\"\n",
    "            Please NOTE that the above two operations can't be interchanged otherwise, \n",
    "            the address of one node will be lost.\n",
    "            \"\"\"\n",
    "        else:\n",
    "            return \"Item not found!\""
   ]
  },
  {
   "cell_type": "code",
   "execution_count": 18,
   "id": "e5e395fd",
   "metadata": {},
   "outputs": [],
   "source": [
    "LL_03 = LinkedList()"
   ]
  },
  {
   "cell_type": "code",
   "execution_count": 19,
   "id": "729b1fbd",
   "metadata": {},
   "outputs": [],
   "source": [
    "LL_03.insert_head(12)\n",
    "LL_03.insert_head(5)\n",
    "LL_03.insert_head(8)\n",
    "LL_03.insert_head(\"Ok\")"
   ]
  },
  {
   "cell_type": "code",
   "execution_count": 20,
   "id": "8b1f59fb",
   "metadata": {},
   "outputs": [
    {
     "name": "stdout",
     "output_type": "stream",
     "text": [
      "Ok-->8-->5-->12\n"
     ]
    }
   ],
   "source": [
    "print(LL_03)"
   ]
  },
  {
   "cell_type": "code",
   "execution_count": 21,
   "id": "1a067352",
   "metadata": {},
   "outputs": [],
   "source": [
    "LL_03.insert_btw_nodes(8, \"You\")"
   ]
  },
  {
   "cell_type": "code",
   "execution_count": 22,
   "id": "32071c9f",
   "metadata": {},
   "outputs": [
    {
     "name": "stdout",
     "output_type": "stream",
     "text": [
      "Ok-->8-->You-->5-->12\n"
     ]
    }
   ],
   "source": [
    "print(LL_03)"
   ]
  },
  {
   "cell_type": "code",
   "execution_count": 23,
   "id": "7b48c18e",
   "metadata": {},
   "outputs": [
    {
     "data": {
      "text/plain": [
       "'Item not found!'"
      ]
     },
     "execution_count": 23,
     "metadata": {},
     "output_type": "execute_result"
    }
   ],
   "source": [
    "LL_03.insert_btw_nodes(100, \"are\")"
   ]
  },
  {
   "cell_type": "code",
   "execution_count": null,
   "id": "c97bd2f3",
   "metadata": {},
   "outputs": [],
   "source": []
  },
  {
   "cell_type": "code",
   "execution_count": null,
   "id": "6c32f91f",
   "metadata": {},
   "outputs": [],
   "source": []
  },
  {
   "cell_type": "code",
   "execution_count": null,
   "id": "6e15e384",
   "metadata": {},
   "outputs": [],
   "source": []
  },
  {
   "cell_type": "code",
   "execution_count": null,
   "id": "a987a1fe",
   "metadata": {},
   "outputs": [],
   "source": []
  },
  {
   "cell_type": "code",
   "execution_count": null,
   "id": "7c28fe10",
   "metadata": {},
   "outputs": [],
   "source": []
  },
  {
   "cell_type": "code",
   "execution_count": null,
   "id": "14167b7a",
   "metadata": {},
   "outputs": [],
   "source": []
  }
 ],
 "metadata": {
  "kernelspec": {
   "display_name": "Python 3 (ipykernel)",
   "language": "python",
   "name": "python3"
  },
  "language_info": {
   "codemirror_mode": {
    "name": "ipython",
    "version": 3
   },
   "file_extension": ".py",
   "mimetype": "text/x-python",
   "name": "python",
   "nbconvert_exporter": "python",
   "pygments_lexer": "ipython3",
   "version": "3.9.13"
  }
 },
 "nbformat": 4,
 "nbformat_minor": 5
}
