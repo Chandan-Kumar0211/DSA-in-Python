{
 "cells": [
  {
   "cell_type": "code",
   "execution_count": 1,
   "id": "1b7e29d6",
   "metadata": {},
   "outputs": [],
   "source": [
    "# Creating a Node class\n",
    "\n",
    "class Node:\n",
    "    def __init__(self, data):\n",
    "        self.data = data\n",
    "        self.next = None"
   ]
  },
  {
   "cell_type": "code",
   "execution_count": 2,
   "id": "cd23f44b",
   "metadata": {},
   "outputs": [],
   "source": [
    "class LinkedList:\n",
    "    def __init__(self):\n",
    "        # creaing an empty LL (It means the value of head of LL should be None.)\n",
    "        self.head = None\n",
    "        # counting no of nodes in LL\n",
    "        self.n = 0\n",
    "    \n",
    "    def __len__(self):\n",
    "        return self.n\n",
    "    \n",
    "    def insert_head(self, value):\n",
    "        # creating a new node\n",
    "        new_node = Node(value)\n",
    "        \n",
    "        # create connection\n",
    "        new_node.next = self.head\n",
    "        \n",
    "        # reassign head\n",
    "        self.head = new_node\n",
    "        \n",
    "        # increment n\n",
    "        self.n = self.n + 1"
   ]
  },
  {
   "cell_type": "code",
   "execution_count": 3,
   "id": "cf07aa94",
   "metadata": {},
   "outputs": [],
   "source": [
    "LL_01 = LinkedList()"
   ]
  },
  {
   "cell_type": "code",
   "execution_count": 4,
   "id": "616408a8",
   "metadata": {},
   "outputs": [],
   "source": [
    "LL_01.insert_head(12)\n",
    "LL_01.insert_head(5)\n",
    "LL_01.insert_head(8)\n",
    "LL_01.insert_head(\"Ok\")"
   ]
  },
  {
   "cell_type": "code",
   "execution_count": 5,
   "id": "b0a0518a",
   "metadata": {},
   "outputs": [
    {
     "name": "stdout",
     "output_type": "stream",
     "text": [
      "<__main__.LinkedList object at 0x000002A0238CC5E0>\n"
     ]
    }
   ],
   "source": [
    "print(LL_01)"
   ]
  },
  {
   "cell_type": "code",
   "execution_count": null,
   "id": "0945f453",
   "metadata": {},
   "outputs": [],
   "source": []
  },
  {
   "cell_type": "markdown",
   "id": "b4efb2d1",
   "metadata": {},
   "source": [
    "## Adding Traverse functionality in our LL (using normal method)"
   ]
  },
  {
   "cell_type": "code",
   "execution_count": 6,
   "id": "f6d42439",
   "metadata": {},
   "outputs": [],
   "source": [
    "class LinkedList:\n",
    "    def __init__(self):\n",
    "        # creaing an empty LL (It means the value of head of LL should be None.)\n",
    "        self.head = None\n",
    "        # counting no of nodes in LL\n",
    "        self.n = 0\n",
    "    \n",
    "    def __len__(self):\n",
    "        return self.n\n",
    "    \n",
    "    def insert_head(self, value):\n",
    "        # creating a new node\n",
    "        new_node = Node(value)\n",
    "        \n",
    "        # create connection\n",
    "        new_node.next = self.head\n",
    "        \n",
    "        # reassign head\n",
    "        self.head = new_node\n",
    "        \n",
    "        # increment n\n",
    "        self.n = self.n + 1\n",
    "        \n",
    "    def traverse(self):\n",
    "        curr = self.head\n",
    "        \n",
    "        while curr != None:\n",
    "            print(curr.data)\n",
    "            curr = curr.next"
   ]
  },
  {
   "cell_type": "code",
   "execution_count": 7,
   "id": "65a4c519",
   "metadata": {},
   "outputs": [],
   "source": [
    "LL_02 = LinkedList()"
   ]
  },
  {
   "cell_type": "code",
   "execution_count": 8,
   "id": "151b88a9",
   "metadata": {},
   "outputs": [],
   "source": [
    "LL_02.insert_head(12)\n",
    "LL_02.insert_head(5)\n",
    "LL_02.insert_head(8)\n",
    "LL_02.insert_head(\"Ok\")"
   ]
  },
  {
   "cell_type": "code",
   "execution_count": 9,
   "id": "ae56ef5c",
   "metadata": {},
   "outputs": [
    {
     "name": "stdout",
     "output_type": "stream",
     "text": [
      "Ok\n",
      "8\n",
      "5\n",
      "12\n"
     ]
    }
   ],
   "source": [
    "LL_02.traverse()"
   ]
  },
  {
   "cell_type": "code",
   "execution_count": null,
   "id": "1f689021",
   "metadata": {},
   "outputs": [],
   "source": []
  },
  {
   "cell_type": "markdown",
   "id": "83c44acc",
   "metadata": {},
   "source": [
    "## Adding Traverse functionality in our LL (using magic method)"
   ]
  },
  {
   "cell_type": "code",
   "execution_count": 18,
   "id": "65c628cf",
   "metadata": {},
   "outputs": [],
   "source": [
    "class LinkedList:\n",
    "    def __init__(self):\n",
    "        # creaing an empty LL (It means the value of head of LL should be None.)\n",
    "        self.head = None\n",
    "        # counting no of nodes in LL\n",
    "        self.n = 0\n",
    "    \n",
    "    def __len__(self):\n",
    "        return self.n\n",
    "    \n",
    "    def insert_head(self, value):\n",
    "        # creating a new node\n",
    "        new_node = Node(value)\n",
    "        \n",
    "        # create connection\n",
    "        new_node.next = self.head\n",
    "        \n",
    "        # reassign head\n",
    "        self.head = new_node\n",
    "        \n",
    "        # increment n\n",
    "        self.n = self.n + 1\n",
    "        \n",
    "    # Using magic method    \n",
    "    def __str__(self):\n",
    "        curr = self.head\n",
    "        \n",
    "        result = ''\n",
    "        \n",
    "        while curr != None:\n",
    "            result = result + str(curr.data) + '-->'\n",
    "            curr = curr.next\n",
    "        \n",
    "        return result[:-3]"
   ]
  },
  {
   "cell_type": "code",
   "execution_count": 19,
   "id": "9faec9d1",
   "metadata": {},
   "outputs": [],
   "source": [
    "LL_03 = LinkedList()"
   ]
  },
  {
   "cell_type": "code",
   "execution_count": 20,
   "id": "5785a4a4",
   "metadata": {},
   "outputs": [],
   "source": [
    "LL_03.insert_head(12)\n",
    "LL_03.insert_head(5)\n",
    "LL_03.insert_head(8)\n",
    "LL_03.insert_head(\"Ok\")"
   ]
  },
  {
   "cell_type": "code",
   "execution_count": 21,
   "id": "33d1d1a5",
   "metadata": {},
   "outputs": [
    {
     "name": "stdout",
     "output_type": "stream",
     "text": [
      "Ok-->8-->5-->12\n"
     ]
    }
   ],
   "source": [
    "print(LL_03)"
   ]
  },
  {
   "cell_type": "code",
   "execution_count": null,
   "id": "d0eb9c16",
   "metadata": {},
   "outputs": [],
   "source": []
  }
 ],
 "metadata": {
  "kernelspec": {
   "display_name": "Python 3 (ipykernel)",
   "language": "python",
   "name": "python3"
  },
  "language_info": {
   "codemirror_mode": {
    "name": "ipython",
    "version": 3
   },
   "file_extension": ".py",
   "mimetype": "text/x-python",
   "name": "python",
   "nbconvert_exporter": "python",
   "pygments_lexer": "ipython3",
   "version": "3.9.13"
  }
 },
 "nbformat": 4,
 "nbformat_minor": 5
}
