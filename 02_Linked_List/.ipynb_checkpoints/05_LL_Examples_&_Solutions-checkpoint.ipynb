{
 "cells": [
  {
   "cell_type": "markdown",
   "id": "2d91f15a",
   "metadata": {},
   "source": [
    "### Example: 01-"
   ]
  },
  {
   "cell_type": "code",
   "execution_count": 2,
   "id": "54ebf674",
   "metadata": {},
   "outputs": [],
   "source": [
    "\"\"\"\n",
    "What is the output of following function when head node of following linked list is passed as input? \n",
    "1->2->3->4->5\n",
    "\"\"\"\n",
    "\n",
    "def fun(head):\n",
    "    if(head==None):\n",
    "        return\n",
    "    if head.get_next().get_next()!= None:\n",
    "        print(head.get_data(),\" \", end='')\n",
    "        fun(head.get_next())\n",
    "    print(head.get_data(),\" \",end='')"
   ]
  },
  {
   "cell_type": "code",
   "execution_count": 3,
   "id": "df6e437f",
   "metadata": {},
   "outputs": [],
   "source": [
    "# ANS:\n",
    "# 1234321"
   ]
  },
  {
   "cell_type": "code",
   "execution_count": null,
   "id": "e801e307",
   "metadata": {},
   "outputs": [],
   "source": []
  },
  {
   "cell_type": "markdown",
   "id": "f6b884e7",
   "metadata": {},
   "source": [
    "### Example: 02-"
   ]
  },
  {
   "cell_type": "code",
   "execution_count": 7,
   "id": "25832e25",
   "metadata": {},
   "outputs": [],
   "source": [
    "# write a python program to find the max value in a Linked list and replace with a given value.\n",
    "\n",
    "# Assume that he linked list is populated with whole numbers and there is only one maximun value in Linekd List"
   ]
  },
  {
   "cell_type": "code",
   "execution_count": null,
   "id": "7ba410b0",
   "metadata": {},
   "outputs": [],
   "source": [
    "# ANS:\n",
    "def replace_max(self, val):\n",
    "    temp = self.head\n",
    "    max = temp.data\n",
    "    \n",
    "    while temp.next != None:\n",
    "        if temp.next.data > max:\n",
    "            max = temp.next.data\n",
    "        temp = temp.next"
   ]
  },
  {
   "cell_type": "code",
   "execution_count": null,
   "id": "e8c9861c",
   "metadata": {},
   "outputs": [],
   "source": []
  },
  {
   "cell_type": "markdown",
   "id": "858553f2",
   "metadata": {},
   "source": [
    "### Example: 03-"
   ]
  },
  {
   "cell_type": "code",
   "execution_count": 51,
   "id": "a95602df",
   "metadata": {},
   "outputs": [],
   "source": [
    "# Write a python program to reverse a Linked list containing integer data.\n",
    "# In place Reversal (It means, creating a new LL is not allowed)\n",
    "\n",
    "# Input: 2-->5-->8-->4-->None\n",
    "# Output: None<--4<--8<--5<--2"
   ]
  },
  {
   "cell_type": "code",
   "execution_count": null,
   "id": "f6a72acc",
   "metadata": {},
   "outputs": [],
   "source": [
    "def _reverse_LL(self):\n",
    "    temp = None\n",
    "    prev_next = None\n",
    "    curr = self.head\n",
    "    \n",
    "    while curr != None:\n",
    "        # Storing next of current node in temp variable\n",
    "        temp = curr.next\n",
    "        # assigning next of current to next of previous node (for reverse connection)\n",
    "        curr.next = prev_next\n",
    "        # Now, restoring the next of current using our temp variable into prev_next variable\n",
    "        prev_next = temp\n",
    "        # jumping to next node\n",
    "        curr = curr.next"
   ]
  },
  {
   "cell_type": "code",
   "execution_count": null,
   "id": "19400146",
   "metadata": {},
   "outputs": [],
   "source": []
  },
  {
   "cell_type": "code",
   "execution_count": null,
   "id": "37e3788a",
   "metadata": {},
   "outputs": [],
   "source": []
  },
  {
   "cell_type": "code",
   "execution_count": null,
   "id": "eba00212",
   "metadata": {},
   "outputs": [],
   "source": []
  },
  {
   "cell_type": "code",
   "execution_count": null,
   "id": "b20fa9c8",
   "metadata": {},
   "outputs": [],
   "source": []
  },
  {
   "cell_type": "code",
   "execution_count": null,
   "id": "6e9a9bd7",
   "metadata": {},
   "outputs": [],
   "source": []
  },
  {
   "cell_type": "code",
   "execution_count": null,
   "id": "a04b176d",
   "metadata": {},
   "outputs": [],
   "source": []
  },
  {
   "cell_type": "code",
   "execution_count": null,
   "id": "95e89f41",
   "metadata": {},
   "outputs": [],
   "source": []
  },
  {
   "cell_type": "code",
   "execution_count": null,
   "id": "48ab6ce5",
   "metadata": {},
   "outputs": [],
   "source": []
  },
  {
   "cell_type": "code",
   "execution_count": null,
   "id": "0b812d15",
   "metadata": {},
   "outputs": [],
   "source": []
  },
  {
   "cell_type": "code",
   "execution_count": null,
   "id": "595e6e19",
   "metadata": {},
   "outputs": [],
   "source": []
  },
  {
   "cell_type": "code",
   "execution_count": 8,
   "id": "8795b2be",
   "metadata": {},
   "outputs": [],
   "source": [
    "# Creating a Node class\n",
    "\n",
    "class Node:\n",
    "    def __init__(self, data):\n",
    "        self.data = data\n",
    "        self.next = None"
   ]
  },
  {
   "cell_type": "code",
   "execution_count": 74,
   "id": "2e40ba4b",
   "metadata": {},
   "outputs": [],
   "source": [
    "class LinkedList:\n",
    "    def __init__(self):\n",
    "        # creaing an empty LL (It means the value of head of LL should be None.)\n",
    "        self.head = None\n",
    "        # counting no of nodes in LL\n",
    "        self.n = 0\n",
    "    \n",
    "    def __len__(self):\n",
    "        return self.n\n",
    "    \n",
    "    def insert_head(self, value):\n",
    "        # creating a new node\n",
    "        new_node = Node(value)\n",
    "        \n",
    "        # create connection\n",
    "        new_node.next = self.head\n",
    "        \n",
    "        # reassign head\n",
    "        self.head = new_node\n",
    "        \n",
    "        # increment n\n",
    "        self.n = self.n + 1\n",
    "        \n",
    "    # Using magic method    \n",
    "    def __str__(self):\n",
    "        curr = self.head\n",
    "        \n",
    "        result = ''\n",
    "        \n",
    "        while curr != None:\n",
    "            result = result + str(curr.data) + '-->'\n",
    "            curr = curr.next\n",
    "        \n",
    "        return result[:-3]\n",
    "    \n",
    "    def append(self, value):\n",
    "        # creating a new node\n",
    "        new_node = Node(value)\n",
    "        \n",
    "        # checking for empty list\n",
    "        if self.head == None:\n",
    "            self.head = new_node\n",
    "            self.n = self.n + 1\n",
    "            return \n",
    "        \n",
    "        curr = self.head\n",
    "        \n",
    "        # traversing till one element before the last element\n",
    "        while curr.next != None:\n",
    "            curr = curr.next\n",
    "        \n",
    "        # Now we our \"curr\" is the tail, so\n",
    "        curr.next = new_node\n",
    "        \n",
    "        # increment n\n",
    "        self.n = self.n + 1\n",
    "        \n",
    "    # This will get the value to be inserted and the value after which it should be inserted\n",
    "    def insert_btw_nodes(self, after_val, val):\n",
    "        new_node = Node(val)\n",
    "        \n",
    "        curr = self.head\n",
    "        while curr != None:\n",
    "            if curr.data == after_val:\n",
    "                break\n",
    "            curr = curr.next\n",
    "        \n",
    "        # if value after which it should have been inserted is found\n",
    "        if curr != None:\n",
    "            new_node.next = curr.next  \n",
    "            curr.next = new_node\n",
    "            self.n = self.n + 1\n",
    "            \"\"\"\n",
    "            Please NOTE that the above two operations can't be interchanged otherwise, \n",
    "            the address of one node will be lost.\n",
    "            \"\"\"\n",
    "        else:\n",
    "            return \"Item not found!\"\n",
    "        \n",
    "    def delete_head(self):\n",
    "        # checking if its an empty LL\n",
    "        if self.head == None:\n",
    "            return \"Empty LL\"\n",
    "        \n",
    "        self.head = self.head.next\n",
    "        self.n = self.n -1\n",
    "        \n",
    "    def pop(self):\n",
    "        # checking if its an empty LL\n",
    "        if self.head == None:\n",
    "            return \"Empty LL\"\n",
    "        \n",
    "        curr = self.head\n",
    "        \n",
    "        # Also, we have to check if we have only one node in LL\n",
    "        if curr.next == None:\n",
    "            return self.delete_head()\n",
    "        \n",
    "        while curr.next.next != None:\n",
    "            curr = curr.next\n",
    "        \n",
    "        # now our 'curr' is on 2nd last node, therefore we will make it the tail of LL\n",
    "        curr.next = None\n",
    "        self.n = self.n - 1\n",
    "    \n",
    "    def remove(self, value):\n",
    "        # checking if its an empty LL\n",
    "        if self.head == None:\n",
    "            return 'Empty LL'\n",
    "        \n",
    "        # If LL has only one node and its data is equal to given value\n",
    "        if self.head.data == value:\n",
    "            return self.delete_head()\n",
    "        \n",
    "        curr = self.head\n",
    "        \n",
    "        while curr.next != None:\n",
    "            \"\"\"\n",
    "            Here, we need to check the data of curr.next, if it's equal to value or not; as\n",
    "            we cannot go back in LL and we want to stop one before the node whose data == value\n",
    "            \"\"\"\n",
    "            if curr.next.data == value:\n",
    "                break\n",
    "            curr = curr.next\n",
    "            \n",
    "        \"\"\"\n",
    "        Again there are two cases even after exiting from the loop: \n",
    "        1. if there is a data which matches with value \n",
    "        2. or none of the data matched with the given value\n",
    "        \"\"\"\n",
    "        if curr.next == None:\n",
    "            return \"Item Not Found!\"\n",
    "        else:\n",
    "            curr.next = curr.next.next\n",
    "            self.n = self.n - 1\n",
    "        \n",
    "    def search(self, item):\n",
    "        curr = self.head\n",
    "        pos = 0\n",
    "        \n",
    "        while curr != None:\n",
    "            if curr.data == item:\n",
    "                return pos\n",
    "            curr = curr.next\n",
    "            pos += 1\n",
    "        return \"Item not Found\"\n",
    "    \n",
    "    # Using magic method as we need to find the value using indexing\n",
    "    def __getitem__(self, idx):\n",
    "        curr = self.head\n",
    "        pos = 0\n",
    "        \n",
    "        while curr != None:\n",
    "            if pos == idx:\n",
    "                return curr.data\n",
    "            curr = curr.next\n",
    "            pos += 1\n",
    "        return \"IndexError\"\n",
    "    \n",
    "    def replace_max(self, val):\n",
    "        temp = self.head\n",
    "        max = temp\n",
    "\n",
    "        while temp != None:\n",
    "            if temp.data > max.data:\n",
    "                max = temp\n",
    "            temp = temp.next\n",
    "        max.data = val\n",
    "    \n",
    "    def _reverse_LL(self):\n",
    "        temp = None\n",
    "        prev_node = None\n",
    "        curr = self.head\n",
    "\n",
    "        while curr != None:\n",
    "            # Storing next of current node in temp variable\n",
    "            temp = curr.next\n",
    "            # assigning next of current to next of previous node (for reverse connection)\n",
    "            curr.next = prev_node\n",
    "            # Now, for next loop our prev_node should be our current node\n",
    "            prev_node = curr\n",
    "            # Again, for next loop the current node will be the next of current node(which we stored in temp variable)\n",
    "            curr = temp\n",
    "        \n",
    "        # At last, we need to declare the head of the LL\n",
    "        self.head = prev_node"
   ]
  },
  {
   "cell_type": "code",
   "execution_count": 75,
   "id": "5ed3e103",
   "metadata": {},
   "outputs": [],
   "source": [
    "ll_02 = LinkedList()"
   ]
  },
  {
   "cell_type": "code",
   "execution_count": 76,
   "id": "4640c25f",
   "metadata": {},
   "outputs": [],
   "source": [
    "ll_02.append(2)\n",
    "ll_02.append(5)\n",
    "ll_02.append(8)\n",
    "ll_02.append(4)"
   ]
  },
  {
   "cell_type": "code",
   "execution_count": 77,
   "id": "8ce267ed",
   "metadata": {},
   "outputs": [
    {
     "name": "stdout",
     "output_type": "stream",
     "text": [
      "2-->5-->8-->4\n"
     ]
    }
   ],
   "source": [
    "print(ll_02)"
   ]
  },
  {
   "cell_type": "code",
   "execution_count": 78,
   "id": "75d8fdcb",
   "metadata": {},
   "outputs": [],
   "source": [
    "ll_02._reverse_LL()"
   ]
  },
  {
   "cell_type": "code",
   "execution_count": 79,
   "id": "e3e3a5ee",
   "metadata": {},
   "outputs": [
    {
     "name": "stdout",
     "output_type": "stream",
     "text": [
      "4-->8-->5-->2\n"
     ]
    }
   ],
   "source": [
    "print(ll_02)"
   ]
  },
  {
   "cell_type": "code",
   "execution_count": null,
   "id": "da4a77fe",
   "metadata": {},
   "outputs": [],
   "source": []
  },
  {
   "cell_type": "code",
   "execution_count": null,
   "id": "b580d36c",
   "metadata": {},
   "outputs": [],
   "source": []
  }
 ],
 "metadata": {
  "kernelspec": {
   "display_name": "Python 3 (ipykernel)",
   "language": "python",
   "name": "python3"
  },
  "language_info": {
   "codemirror_mode": {
    "name": "ipython",
    "version": 3
   },
   "file_extension": ".py",
   "mimetype": "text/x-python",
   "name": "python",
   "nbconvert_exporter": "python",
   "pygments_lexer": "ipython3",
   "version": "3.9.13"
  }
 },
 "nbformat": 4,
 "nbformat_minor": 5
}
