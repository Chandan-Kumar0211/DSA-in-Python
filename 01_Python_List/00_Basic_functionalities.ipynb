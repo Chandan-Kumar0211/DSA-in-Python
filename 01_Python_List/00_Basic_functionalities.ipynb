{
 "cells": [
  {
   "cell_type": "code",
   "execution_count": 3,
   "id": "edf21d97",
   "metadata": {},
   "outputs": [],
   "source": [
    "# ctypes is a foreign function library for Python. It provides C compatible data types\n",
    "# Using this we will create our python list\n",
    "import ctypes"
   ]
  },
  {
   "cell_type": "markdown",
   "id": "424bfc48",
   "metadata": {},
   "source": [
    "## 1. Create List"
   ]
  },
  {
   "cell_type": "code",
   "execution_count": 2,
   "id": "cb2cc93c",
   "metadata": {},
   "outputs": [],
   "source": [
    "class MyList():\n",
    "    \n",
    "    def __init__(self):\n",
    "        self.size = 1  # current maximum capacity of list \n",
    "        self.n = 0     # no of items present in list\n",
    "        \n",
    "        # create a C type array with size = self.size\n",
    "        self.A = self._create_array(self.size)\n",
    "    \n",
    "    def _create_array(self, capacity):\n",
    "        # create a C type array(static, referential) with size capacity\n",
    "        # No need to understand below code becoz its a code of C written in python \n",
    "        return (capacity*ctypes.py_object)()"
   ]
  },
  {
   "cell_type": "code",
   "execution_count": 3,
   "id": "47ae4558",
   "metadata": {},
   "outputs": [],
   "source": [
    "L1 = MyList()"
   ]
  },
  {
   "cell_type": "code",
   "execution_count": 4,
   "id": "6cf9eb08",
   "metadata": {},
   "outputs": [
    {
     "data": {
      "text/plain": [
       "__main__.MyList"
      ]
     },
     "execution_count": 4,
     "metadata": {},
     "output_type": "execute_result"
    },
    {
     "data": {
      "text/plain": [
       "__main__.MyList"
      ]
     },
     "execution_count": 4,
     "metadata": {},
     "output_type": "execute_result"
    }
   ],
   "source": [
    "type(L1)"
   ]
  },
  {
   "cell_type": "code",
   "execution_count": 5,
   "id": "f08f1229",
   "metadata": {},
   "outputs": [
    {
     "name": "stdout",
     "output_type": "stream",
     "text": [
      "<__main__.MyList object at 0x00000241DB9353D0>\n",
      "<__main__.MyList object at 0x00000241DB9353D0>\n"
     ]
    }
   ],
   "source": [
    "print(L1)  # print the memory address of the object L"
   ]
  },
  {
   "cell_type": "code",
   "execution_count": null,
   "id": "8af7ab38",
   "metadata": {},
   "outputs": [],
   "source": []
  },
  {
   "cell_type": "markdown",
   "id": "7759af79",
   "metadata": {},
   "source": [
    "## 2. Length of List"
   ]
  },
  {
   "cell_type": "code",
   "execution_count": 6,
   "id": "ca24661a",
   "metadata": {},
   "outputs": [],
   "source": [
    "# len(L1)"
   ]
  },
  {
   "cell_type": "code",
   "execution_count": 7,
   "id": "6cda5037",
   "metadata": {},
   "outputs": [],
   "source": [
    "class MyList():\n",
    "    \n",
    "    def __init__(self):\n",
    "        self.size = 1  # current maximum capacity of list \n",
    "        self.n = 0     # no of items present in list\n",
    "        \n",
    "        # create a C type array with size = self.size\n",
    "        self.A = self._create_array(self.size)\n",
    "    \n",
    "    def _create_array(self, capacity):\n",
    "        # create a C type array(static, referential) with size capacity\n",
    "        # No need to understand below code becoz its a code of C written in python \n",
    "        return (capacity*ctypes.py_object)()\n",
    "    \n",
    "    # using a magic function\n",
    "    def __len__(self):\n",
    "        return self.n"
   ]
  },
  {
   "cell_type": "code",
   "execution_count": 8,
   "id": "c365f2fb",
   "metadata": {},
   "outputs": [],
   "source": [
    "L2 = MyList()"
   ]
  },
  {
   "cell_type": "code",
   "execution_count": 9,
   "id": "a9ce99d1",
   "metadata": {},
   "outputs": [
    {
     "data": {
      "text/plain": [
       "0"
      ]
     },
     "execution_count": 9,
     "metadata": {},
     "output_type": "execute_result"
    },
    {
     "data": {
      "text/plain": [
       "0"
      ]
     },
     "execution_count": 9,
     "metadata": {},
     "output_type": "execute_result"
    }
   ],
   "source": [
    "len(L2)"
   ]
  },
  {
   "cell_type": "code",
   "execution_count": null,
   "id": "641d925f",
   "metadata": {},
   "outputs": [],
   "source": []
  },
  {
   "cell_type": "markdown",
   "id": "322e1d09",
   "metadata": {},
   "source": [
    "## 3. Appending an Item in List    (Important ---> It's logical)"
   ]
  },
  {
   "cell_type": "code",
   "execution_count": 10,
   "id": "75d5e5a8",
   "metadata": {},
   "outputs": [],
   "source": [
    "class MyList():\n",
    "    \n",
    "    def __init__(self):\n",
    "        self.size = 1  # current maximum capacity of list \n",
    "        self.n = 0     # no of items present in list\n",
    "        \n",
    "        # create a C type array with size = self.size\n",
    "        self.A = self._create_array(self.size)\n",
    "    \n",
    "    def _create_array(self, capacity):\n",
    "        # create a C type array(static, referential) with size capacity\n",
    "        # No need to understand below code becoz its a code of C written in python \n",
    "        return (capacity*ctypes.py_object)()\n",
    "    \n",
    "    # using a magic function\n",
    "    def __len__(self):\n",
    "        return self.n\n",
    "    \n",
    "    def append(self, item):\n",
    "        if self.n == self.size:\n",
    "            # resizing --> creates a new array and copy the previous elements\n",
    "            self._resize(self.size*2)\n",
    "            \n",
    "        # Appending\n",
    "        self.A[self.n] = item  # bcoz we always append an item at the location of size 'n'\n",
    "        self.n = self.n + 1\n",
    "        \n",
    "    def _resize(self, new_capacity):\n",
    "        # 1. Create a new array with new capacity\n",
    "        B = self._create_array(new_capacity)\n",
    "        self.size = new_capacity\n",
    "        \n",
    "        # 2. Copy elements of A to B\n",
    "        for i in range(self.n):\n",
    "            B[i] = self.A[i]\n",
    "        \n",
    "        # 3. Reassign A\n",
    "        self.A = B        "
   ]
  },
  {
   "cell_type": "code",
   "execution_count": 11,
   "id": "de2e2cdb",
   "metadata": {},
   "outputs": [],
   "source": [
    "L3 = MyList()"
   ]
  },
  {
   "cell_type": "code",
   "execution_count": 12,
   "id": "556527f3",
   "metadata": {},
   "outputs": [],
   "source": [
    "L3.append(\"hey\")\n",
    "L3.append(500)\n",
    "L3.append(False)\n",
    "L3.append(2.172)"
   ]
  },
  {
   "cell_type": "code",
   "execution_count": 13,
   "id": "38b394e0",
   "metadata": {},
   "outputs": [
    {
     "data": {
      "text/plain": [
       "4"
      ]
     },
     "execution_count": 13,
     "metadata": {},
     "output_type": "execute_result"
    },
    {
     "data": {
      "text/plain": [
       "4"
      ]
     },
     "execution_count": 13,
     "metadata": {},
     "output_type": "execute_result"
    }
   ],
   "source": [
    "len(L3)"
   ]
  },
  {
   "cell_type": "code",
   "execution_count": 14,
   "id": "0e3830ae",
   "metadata": {},
   "outputs": [],
   "source": [
    "L3.append(\"hey\")\n",
    "L3.append(500)\n",
    "L3.append(False)\n",
    "L3.append(2.172)"
   ]
  },
  {
   "cell_type": "code",
   "execution_count": 15,
   "id": "8fcb2a87",
   "metadata": {},
   "outputs": [
    {
     "data": {
      "text/plain": [
       "8"
      ]
     },
     "execution_count": 15,
     "metadata": {},
     "output_type": "execute_result"
    },
    {
     "data": {
      "text/plain": [
       "8"
      ]
     },
     "execution_count": 15,
     "metadata": {},
     "output_type": "execute_result"
    }
   ],
   "source": [
    "len(L3)"
   ]
  },
  {
   "cell_type": "code",
   "execution_count": null,
   "id": "64b85f5d",
   "metadata": {},
   "outputs": [],
   "source": []
  },
  {
   "cell_type": "markdown",
   "id": "6c877e33",
   "metadata": {},
   "source": [
    "## 4. Printing a List"
   ]
  },
  {
   "cell_type": "code",
   "execution_count": 16,
   "id": "f354e12d",
   "metadata": {},
   "outputs": [],
   "source": [
    "class MyList():\n",
    "    \n",
    "    def __init__(self):\n",
    "        self.size = 1  # current maximum capacity of list \n",
    "        self.n = 0     # no of items present in list\n",
    "        \n",
    "        # create a C type array with size = self.size\n",
    "        self.A = self._create_array(self.size)\n",
    "    \n",
    "    def _create_array(self, capacity):\n",
    "        # create a C type array(static, referential) with size capacity\n",
    "        # No need to understand below code becoz its a code of C written in python \n",
    "        return (capacity*ctypes.py_object)()\n",
    "    \n",
    "    # using a magic function\n",
    "    def __len__(self):\n",
    "        return self.n\n",
    "    \n",
    "    def append(self, item):\n",
    "        if self.n == self.size:\n",
    "            # resizing --> creates a new array and copy the previous elements\n",
    "            self._resize(self.size*2)\n",
    "            \n",
    "        # Appending\n",
    "        self.A[self.n] = item  # bcoz we always append an item at the location of size 'n'\n",
    "        self.n = self.n + 1\n",
    "        \n",
    "    def _resize(self, new_capacity):\n",
    "        # 1. Create a new array with new capacity\n",
    "        B = self._create_array(new_capacity)\n",
    "        self.size = new_capacity\n",
    "        \n",
    "        # 2. Copy elements of A to B\n",
    "        for i in range(self.n):\n",
    "            B[i] = self.A[i]\n",
    "        \n",
    "        # 3. Reassign A\n",
    "        self.A = B\n",
    "    \n",
    "    # using a magic function\n",
    "    def __str__(self):\n",
    "        # our output should look like this --> [1, 9.8, 'hello', 44, True]\n",
    "        result = ''\n",
    "        for i in range(self.n):\n",
    "            result = result + str(self.A[i]) + ',' + ' '\n",
    "        return '[' + result[:-2] + ']'  # At last, we dont want to print last two elements i.e., ',' and ' '"
   ]
  },
  {
   "cell_type": "code",
   "execution_count": 17,
   "id": "07880560",
   "metadata": {},
   "outputs": [],
   "source": [
    "L4 = MyList()"
   ]
  },
  {
   "cell_type": "code",
   "execution_count": 18,
   "id": "b939d1e6",
   "metadata": {},
   "outputs": [],
   "source": [
    "L4.append(\"hey\")\n",
    "L4.append(500)\n",
    "L4.append(False)\n",
    "L4.append(2.172)"
   ]
  },
  {
   "cell_type": "code",
   "execution_count": 19,
   "id": "638ed7a9",
   "metadata": {},
   "outputs": [
    {
     "name": "stdout",
     "output_type": "stream",
     "text": [
      "[hey, 500, False, 2.172]\n",
      "[hey, 500, False, 2.172]\n"
     ]
    }
   ],
   "source": [
    "print(L4)"
   ]
  },
  {
   "cell_type": "code",
   "execution_count": null,
   "id": "35852577",
   "metadata": {},
   "outputs": [],
   "source": []
  },
  {
   "cell_type": "markdown",
   "id": "e1e27973",
   "metadata": {},
   "source": [
    "## 5. Indexing in List"
   ]
  },
  {
   "cell_type": "code",
   "execution_count": 20,
   "id": "f95fd1a0",
   "metadata": {},
   "outputs": [],
   "source": [
    "class MyList():\n",
    "    \n",
    "    def __init__(self):\n",
    "        self.size = 1  # current maximum capacity of list \n",
    "        self.n = 0     # no of items present in list\n",
    "        \n",
    "        # create a C type array with size = self.size\n",
    "        self.A = self._create_array(self.size)\n",
    "    \n",
    "    def _create_array(self, capacity):\n",
    "        # create a C type array(static, referential) with size capacity\n",
    "        # No need to understand below code becoz its a code of C written in python \n",
    "        return (capacity*ctypes.py_object)()\n",
    "    \n",
    "    # using a magic function\n",
    "    def __len__(self):\n",
    "        return self.n\n",
    "    \n",
    "    def append(self, item):\n",
    "        if self.n == self.size:\n",
    "            # resizing --> creates a new array and copy the previous elements\n",
    "            self._resize(self.size*2)\n",
    "            \n",
    "        # Appending\n",
    "        self.A[self.n] = item  # bcoz we always append an item at the location of size 'n'\n",
    "        self.n = self.n + 1\n",
    "        \n",
    "    def _resize(self, new_capacity):\n",
    "        # 1. Create a new array with new capacity\n",
    "        B = self._create_array(new_capacity)\n",
    "        self.size = new_capacity\n",
    "        \n",
    "        # 2. Copy elements of A to B\n",
    "        for i in range(self.n):\n",
    "            B[i] = self.A[i]\n",
    "        \n",
    "        # 3. Reassign A\n",
    "        self.A = B\n",
    "    \n",
    "    # using a magic function\n",
    "    def __str__(self):\n",
    "        # our output should look like this --> [1, 9.8, 'hello', 44, True]\n",
    "        result = ''\n",
    "        for i in range(self.n):\n",
    "            result = result + str(self.A[i]) + ',' + ' '\n",
    "        return '[' + result[:-2] + ']'  # At last, we dont want to print last two elements i.e., ',' and ' '\n",
    "    \n",
    "    # using a magic function\n",
    "    def __getitem__(self, index):\n",
    "        if 0 <= index < self.n:\n",
    "            return self.A[index]\n",
    "        else:\n",
    "            return \"IndexError: Index out of range\""
   ]
  },
  {
   "cell_type": "code",
   "execution_count": 21,
   "id": "86a3898d",
   "metadata": {},
   "outputs": [],
   "source": [
    "L5 = MyList()"
   ]
  },
  {
   "cell_type": "code",
   "execution_count": 22,
   "id": "a228a252",
   "metadata": {},
   "outputs": [],
   "source": [
    "L5.append(\"hey\")\n",
    "L5.append(500)\n",
    "L5.append(False)\n",
    "L5.append(2.172)"
   ]
  },
  {
   "cell_type": "code",
   "execution_count": 23,
   "id": "687757c9",
   "metadata": {},
   "outputs": [
    {
     "data": {
      "text/plain": [
       "500"
      ]
     },
     "execution_count": 23,
     "metadata": {},
     "output_type": "execute_result"
    },
    {
     "data": {
      "text/plain": [
       "500"
      ]
     },
     "execution_count": 23,
     "metadata": {},
     "output_type": "execute_result"
    }
   ],
   "source": [
    "L5[1]"
   ]
  },
  {
   "cell_type": "code",
   "execution_count": 24,
   "id": "5f2ac612",
   "metadata": {},
   "outputs": [
    {
     "data": {
      "text/plain": [
       "'IndexError: Index out of range'"
      ]
     },
     "execution_count": 24,
     "metadata": {},
     "output_type": "execute_result"
    },
    {
     "data": {
      "text/plain": [
       "'IndexError: Index out of range'"
      ]
     },
     "execution_count": 24,
     "metadata": {},
     "output_type": "execute_result"
    }
   ],
   "source": [
    "L5[20]"
   ]
  },
  {
   "cell_type": "code",
   "execution_count": null,
   "id": "3e972862",
   "metadata": {},
   "outputs": [],
   "source": []
  },
  {
   "cell_type": "markdown",
   "id": "ff60565d",
   "metadata": {},
   "source": [
    "## 6. pop() in List"
   ]
  },
  {
   "cell_type": "code",
   "execution_count": 25,
   "id": "fec42cec",
   "metadata": {},
   "outputs": [],
   "source": [
    "class MyList():\n",
    "    \n",
    "    def __init__(self):\n",
    "        self.size = 1  # current maximum capacity of list \n",
    "        self.n = 0     # no of items present in list\n",
    "        \n",
    "        # create a C type array with size = self.size\n",
    "        self.A = self._create_array(self.size)\n",
    "    \n",
    "    def _create_array(self, capacity):\n",
    "        # create a C type array(static, referential) with size capacity\n",
    "        # No need to understand below code becoz its a code of C written in python \n",
    "        return (capacity*ctypes.py_object)()\n",
    "    \n",
    "    # using a magic function\n",
    "    def __len__(self):\n",
    "        return self.n\n",
    "    \n",
    "    def append(self, item):\n",
    "        if self.n == self.size:\n",
    "            # resizing --> creates a new array and copy the previous elements\n",
    "            self._resize(self.size*2)\n",
    "            \n",
    "        # Appending\n",
    "        self.A[self.n] = item  # bcoz we always append an item at the location of size 'n'\n",
    "        self.n = self.n + 1\n",
    "        \n",
    "    def _resize(self, new_capacity):\n",
    "        # 1. Create a new array with new capacity\n",
    "        B = self._create_array(new_capacity)\n",
    "        self.size = new_capacity\n",
    "        \n",
    "        # 2. Copy elements of A to B\n",
    "        for i in range(self.n):\n",
    "            B[i] = self.A[i]\n",
    "        \n",
    "        # 3. Reassign A\n",
    "        self.A = B\n",
    "    \n",
    "    # using a magic function\n",
    "    def __str__(self):\n",
    "        # our output should look like this --> [1, 9.8, 'hello', 44, True]\n",
    "        result = ''\n",
    "        for i in range(self.n):\n",
    "            result = result + str(self.A[i]) + ',' + ' '\n",
    "        return '[' + result[:-2] + ']'  # At last, we dont want to print last two elements i.e., ',' and ' '\n",
    "    \n",
    "    # using a magic function\n",
    "    def __getitem__(self, index):\n",
    "        if 0 <= index < self.n:\n",
    "            return self.A[index]\n",
    "        else:\n",
    "            return \"IndexError: Index out of range\"\n",
    "        \n",
    "    def _pop(self):\n",
    "        if self.n == 0:\n",
    "            print(\"pop() can not be applied on empty list!\")\n",
    "        print(\"Deleted Item: \", self.A[self.n - 1])\n",
    "        self.n = self.n - 1  # This will make tranversal in array only till one element before the last element"
   ]
  },
  {
   "cell_type": "code",
   "execution_count": 26,
   "id": "29252969",
   "metadata": {},
   "outputs": [],
   "source": [
    "L6 = MyList()"
   ]
  },
  {
   "cell_type": "code",
   "execution_count": 27,
   "id": "a95e08b6",
   "metadata": {},
   "outputs": [],
   "source": [
    "L6.append(\"hey\")\n",
    "L6.append(500)\n",
    "L6.append(False)\n",
    "L6.append(2.172)"
   ]
  },
  {
   "cell_type": "code",
   "execution_count": 28,
   "id": "c79c69cb",
   "metadata": {},
   "outputs": [
    {
     "name": "stdout",
     "output_type": "stream",
     "text": [
      "[hey, 500, False, 2.172]\n",
      "[hey, 500, False, 2.172]\n"
     ]
    }
   ],
   "source": [
    "print(L6)"
   ]
  },
  {
   "cell_type": "code",
   "execution_count": 29,
   "id": "b170ddb4",
   "metadata": {},
   "outputs": [
    {
     "name": "stdout",
     "output_type": "stream",
     "text": [
      "Deleted Item:  2.172\n",
      "Deleted Item:  2.172\n"
     ]
    }
   ],
   "source": [
    "L6._pop()"
   ]
  },
  {
   "cell_type": "code",
   "execution_count": 30,
   "id": "135c224a",
   "metadata": {},
   "outputs": [
    {
     "name": "stdout",
     "output_type": "stream",
     "text": [
      "[hey, 500, False]\n",
      "[hey, 500, False]\n"
     ]
    }
   ],
   "source": [
    "print(L6)"
   ]
  },
  {
   "cell_type": "code",
   "execution_count": null,
   "id": "c556da09",
   "metadata": {},
   "outputs": [],
   "source": []
  },
  {
   "cell_type": "markdown",
   "id": "d012bdb1",
   "metadata": {},
   "source": [
    "## 7. clear() in List"
   ]
  },
  {
   "cell_type": "code",
   "execution_count": 31,
   "id": "8815af97",
   "metadata": {},
   "outputs": [],
   "source": [
    "class MyList():\n",
    "    \n",
    "    def __init__(self):\n",
    "        self.size = 1  # current maximum capacity of list \n",
    "        self.n = 0     # no of items present in list\n",
    "        \n",
    "        # create a C type array with size = self.size\n",
    "        self.A = self._create_array(self.size)\n",
    "    \n",
    "    def _create_array(self, capacity):\n",
    "        # create a C type array(static, referential) with size capacity\n",
    "        # No need to understand below code becoz its a code of C written in python \n",
    "        return (capacity*ctypes.py_object)()\n",
    "    \n",
    "    # using a magic function\n",
    "    def __len__(self):\n",
    "        return self.n\n",
    "    \n",
    "    def append(self, item):\n",
    "        if self.n == self.size:\n",
    "            # resizing --> creates a new array and copy the previous elements\n",
    "            self._resize(self.size*2)\n",
    "            \n",
    "        # Appending\n",
    "        self.A[self.n] = item  # bcoz we always append an item at the location of size 'n'\n",
    "        self.n = self.n + 1\n",
    "        \n",
    "    def _resize(self, new_capacity):\n",
    "        # 1. Create a new array with new capacity\n",
    "        B = self._create_array(new_capacity)\n",
    "        self.size = new_capacity\n",
    "        \n",
    "        # 2. Copy elements of A to B\n",
    "        for i in range(self.n):\n",
    "            B[i] = self.A[i]\n",
    "        \n",
    "        # 3. Reassign A\n",
    "        self.A = B\n",
    "    \n",
    "    # using a magic function\n",
    "    def __str__(self):\n",
    "        # our output should look like this --> [1, 9.8, 'hello', 44, True]\n",
    "        result = ''\n",
    "        for i in range(self.n):\n",
    "            result = result + str(self.A[i]) + ',' + ' '\n",
    "        return '[' + result[:-2] + ']'  # At last, we dont want to print last two elements i.e., ',' and ' '\n",
    "    \n",
    "    # using a magic function\n",
    "    def __getitem__(self, index):\n",
    "        if 0 <= index < self.n:\n",
    "            return self.A[index]\n",
    "        else:\n",
    "            return \"IndexError: Index out of range\"\n",
    "        \n",
    "    def _pop(self):\n",
    "        if self.n == 0:\n",
    "            print(\"pop() can not be applied on empty list!\")\n",
    "        print(\"Deleted Item: \", self.A[self.n - 1])\n",
    "        self.n = self.n - 1  # This will make tranversal in array only till one element before the last element\n",
    "    \n",
    "    def clear(self):\n",
    "        self.n = 0\n",
    "        self.size = 1"
   ]
  },
  {
   "cell_type": "code",
   "execution_count": 32,
   "id": "bef5c716",
   "metadata": {},
   "outputs": [],
   "source": [
    "L7 = MyList()"
   ]
  },
  {
   "cell_type": "code",
   "execution_count": 33,
   "id": "5e88d4ec",
   "metadata": {},
   "outputs": [],
   "source": [
    "L7.append(\"hey\")\n",
    "L7.append(500)\n",
    "L7.append(False)\n",
    "L7.append(2.172)"
   ]
  },
  {
   "cell_type": "code",
   "execution_count": 34,
   "id": "b8b7b762",
   "metadata": {},
   "outputs": [
    {
     "name": "stdout",
     "output_type": "stream",
     "text": [
      "[hey, 500, False, 2.172]\n",
      "[hey, 500, False, 2.172]\n"
     ]
    }
   ],
   "source": [
    "print(L7)"
   ]
  },
  {
   "cell_type": "code",
   "execution_count": 35,
   "id": "6994f804",
   "metadata": {},
   "outputs": [],
   "source": [
    "L7.clear()"
   ]
  },
  {
   "cell_type": "code",
   "execution_count": 36,
   "id": "cc468847",
   "metadata": {},
   "outputs": [
    {
     "name": "stdout",
     "output_type": "stream",
     "text": [
      "[]\n",
      "[]\n"
     ]
    }
   ],
   "source": [
    "print(L7)"
   ]
  },
  {
   "cell_type": "code",
   "execution_count": null,
   "id": "aa48449a",
   "metadata": {},
   "outputs": [],
   "source": []
  },
  {
   "cell_type": "markdown",
   "id": "e00c1e8f",
   "metadata": {},
   "source": [
    "## 8. Getting the Index of an element in the List"
   ]
  },
  {
   "cell_type": "code",
   "execution_count": 37,
   "id": "2e6709f1",
   "metadata": {},
   "outputs": [],
   "source": [
    "class MyList():\n",
    "    \n",
    "    def __init__(self):\n",
    "        self.size = 1  # current maximum capacity of list \n",
    "        self.n = 0     # no of items present in list\n",
    "        \n",
    "        # create a C type array with size = self.size\n",
    "        self.A = self._create_array(self.size)\n",
    "    \n",
    "    def _create_array(self, capacity):\n",
    "        # create a C type array(static, referential) with size capacity\n",
    "        # No need to understand below code becoz its a code of C written in python \n",
    "        return (capacity*ctypes.py_object)()\n",
    "    \n",
    "    # using a magic function\n",
    "    def __len__(self):\n",
    "        return self.n\n",
    "    \n",
    "    def append(self, item):\n",
    "        if self.n == self.size:\n",
    "            # resizing --> creates a new array and copy the previous elements\n",
    "            self._resize(self.size*2)\n",
    "            \n",
    "        # Appending\n",
    "        self.A[self.n] = item  # bcoz we always append an item at the location of size 'n'\n",
    "        self.n = self.n + 1\n",
    "        \n",
    "    def _resize(self, new_capacity):\n",
    "        # 1. Create a new array with new capacity\n",
    "        B = self._create_array(new_capacity)\n",
    "        self.size = new_capacity\n",
    "        \n",
    "        # 2. Copy elements of A to B\n",
    "        for i in range(self.n):\n",
    "            B[i] = self.A[i]\n",
    "        \n",
    "        # 3. Reassign A\n",
    "        self.A = B\n",
    "    \n",
    "    # using a magic function\n",
    "    def __str__(self):\n",
    "        # our output should look like this --> [1, 9.8, 'hello', 44, True]\n",
    "        result = ''\n",
    "        for i in range(self.n):\n",
    "            result = result + str(self.A[i]) + ',' + ' '\n",
    "        return '[' + result[:-2] + ']'  # At last, we dont want to print last two elements i.e., ',' and ' '\n",
    "    \n",
    "    # using a magic function\n",
    "    def __getitem__(self, index):\n",
    "        if 0 <= index < self.n:\n",
    "            return self.A[index]\n",
    "        else:\n",
    "            return \"IndexError: Index out of range\"\n",
    "        \n",
    "    def _pop(self):\n",
    "        if self.n == 0:\n",
    "            print(\"pop() can not be applied on empty list!\")\n",
    "        print(\"Deleted Item: \", self.A[self.n - 1])\n",
    "        self.n = self.n - 1  # This will make tranversal in array only till one element before the last element\n",
    "    \n",
    "    def clear(self):\n",
    "        self.n = 0\n",
    "        self.size = 1\n",
    "        \n",
    "    def find_index(self, item):\n",
    "        for i in range(self.n):\n",
    "            if self.A[i] == item:\n",
    "                return i\n",
    "        return \"ValueError: Item not in List\""
   ]
  },
  {
   "cell_type": "code",
   "execution_count": 38,
   "id": "4fa18c81",
   "metadata": {},
   "outputs": [],
   "source": [
    "L8 = MyList()"
   ]
  },
  {
   "cell_type": "code",
   "execution_count": 39,
   "id": "a754ed89",
   "metadata": {},
   "outputs": [],
   "source": [
    "L8.append(\"hey\")\n",
    "L8.append(500)\n",
    "L8.append(False)\n",
    "L8.append(2.172)"
   ]
  },
  {
   "cell_type": "code",
   "execution_count": 40,
   "id": "91b18b5a",
   "metadata": {},
   "outputs": [
    {
     "data": {
      "text/plain": [
       "1"
      ]
     },
     "execution_count": 40,
     "metadata": {},
     "output_type": "execute_result"
    },
    {
     "data": {
      "text/plain": [
       "1"
      ]
     },
     "execution_count": 40,
     "metadata": {},
     "output_type": "execute_result"
    }
   ],
   "source": [
    "L8.find_index(500)"
   ]
  },
  {
   "cell_type": "code",
   "execution_count": null,
   "id": "ffe60cba",
   "metadata": {},
   "outputs": [],
   "source": []
  },
  {
   "cell_type": "markdown",
   "id": "0283646e",
   "metadata": {},
   "source": [
    "## 9. Inserting a given item at given index"
   ]
  },
  {
   "cell_type": "code",
   "execution_count": 41,
   "id": "736cf1e3",
   "metadata": {},
   "outputs": [],
   "source": [
    "class MyList():\n",
    "    \n",
    "    def __init__(self):\n",
    "        self.size = 1  # current maximum capacity of list \n",
    "        self.n = 0     # no of items present in list\n",
    "        \n",
    "        # create a C type array with size = self.size\n",
    "        self.A = self._create_array(self.size)\n",
    "    \n",
    "    def _create_array(self, capacity):\n",
    "        # create a C type array(static, referential) with size capacity\n",
    "        # No need to understand below code becoz its a code of C written in python \n",
    "        return (capacity*ctypes.py_object)()\n",
    "    \n",
    "    # using a magic function\n",
    "    def __len__(self):\n",
    "        return self.n\n",
    "    \n",
    "    def append(self, item):\n",
    "        if self.n == self.size:\n",
    "            # resizing --> creates a new array and copy the previous elements\n",
    "            self._resize(self.size*2)\n",
    "            \n",
    "        # Appending\n",
    "        self.A[self.n] = item  # bcoz we always append an item at the location of size 'n'\n",
    "        self.n = self.n + 1\n",
    "        \n",
    "    def _resize(self, new_capacity):\n",
    "        # 1. Create a new array with new capacity\n",
    "        B = self._create_array(new_capacity)\n",
    "        self.size = new_capacity\n",
    "        \n",
    "        # 2. Copy elements of A to B\n",
    "        for i in range(self.n):\n",
    "            B[i] = self.A[i]\n",
    "        \n",
    "        # 3. Reassign A\n",
    "        self.A = B\n",
    "    \n",
    "    # using a magic function\n",
    "    def __str__(self):\n",
    "        # our output should look like this --> [1, 9.8, 'hello', 44, True]\n",
    "        result = ''\n",
    "        for i in range(self.n):\n",
    "            result = result + str(self.A[i]) + ',' + ' '\n",
    "        return '[' + result[:-2] + ']'  # At last, we dont want to print last two elements i.e., ',' and ' '\n",
    "    \n",
    "    # using a magic function\n",
    "    def __getitem__(self, index):\n",
    "        if 0 <= index < self.n:\n",
    "            return self.A[index]\n",
    "        else:\n",
    "            return \"IndexError: Index out of range\"\n",
    "        \n",
    "    def _pop(self):\n",
    "        if self.n == 0:\n",
    "            print(\"pop() can not be applied on empty list!\")\n",
    "        print(\"Deleted Item: \", self.A[self.n - 1])\n",
    "        self.n = self.n - 1  # This will make tranversal in array only till one element before the last element\n",
    "    \n",
    "    def clear(self):\n",
    "        self.n = 0\n",
    "        self.size = 1\n",
    "        \n",
    "    def find_index(self, item):\n",
    "        for i in range(self.n):\n",
    "            if self.A[i] == item:\n",
    "                return i\n",
    "        return \"ValueError: Item not in List\"\n",
    "    \n",
    "    def insert(self, idx, item):\n",
    "        if 0 <= idx < self.n:\n",
    "            # Checking if there is empty space available or not\n",
    "            if self.n == self.size:\n",
    "                self._resize(self.size*2)\n",
    "\n",
    "            for i in range(idx, self.n + 1):\n",
    "                if i < self.n:\n",
    "                    for_next = self.A[i]\n",
    "                    self.A[i] = item\n",
    "                    item = for_next\n",
    "                if i == self.n:\n",
    "                    self.A[i] = item\n",
    "            self.n = self.n + 1\n",
    "        else:\n",
    "            return \"IndexError\""
   ]
  },
  {
   "cell_type": "code",
   "execution_count": 42,
   "id": "681521ec",
   "metadata": {},
   "outputs": [],
   "source": [
    "L9 = MyList()"
   ]
  },
  {
   "cell_type": "code",
   "execution_count": 43,
   "id": "736939c3",
   "metadata": {},
   "outputs": [],
   "source": [
    "L9.append(\"hey\")\n",
    "L9.append(500)\n",
    "L9.append(False)\n",
    "L9.append(2.172)"
   ]
  },
  {
   "cell_type": "code",
   "execution_count": 44,
   "id": "bfc10801",
   "metadata": {},
   "outputs": [
    {
     "name": "stdout",
     "output_type": "stream",
     "text": [
      "[hey, 500, False, 2.172]\n",
      "[hey, 500, False, 2.172]\n"
     ]
    }
   ],
   "source": [
    "print(L9)"
   ]
  },
  {
   "cell_type": "code",
   "execution_count": 45,
   "id": "77bb6fc9",
   "metadata": {},
   "outputs": [],
   "source": [
    "L9.insert(1,\"Google!\")"
   ]
  },
  {
   "cell_type": "code",
   "execution_count": 46,
   "id": "2c5984f3",
   "metadata": {},
   "outputs": [
    {
     "name": "stdout",
     "output_type": "stream",
     "text": [
      "[hey, Google!, 500, False, 2.172]\n",
      "[hey, Google!, 500, False, 2.172]\n"
     ]
    }
   ],
   "source": [
    "print(L9)"
   ]
  },
  {
   "cell_type": "code",
   "execution_count": null,
   "id": "5dcfda13",
   "metadata": {},
   "outputs": [],
   "source": []
  },
  {
   "cell_type": "markdown",
   "id": "f1c4a6d4",
   "metadata": {},
   "source": [
    "## 10. Deleting at a given index"
   ]
  },
  {
   "cell_type": "code",
   "execution_count": 47,
   "id": "6f4fb0ed",
   "metadata": {},
   "outputs": [],
   "source": [
    "class MyList():\n",
    "    \n",
    "    def __init__(self):\n",
    "        self.size = 1  # current maximum capacity of list \n",
    "        self.n = 0     # no of items present in list\n",
    "        \n",
    "        # create a C type array with size = self.size\n",
    "        self.A = self._create_array(self.size)\n",
    "    \n",
    "    def _create_array(self, capacity):\n",
    "        # create a C type array(static, referential) with size capacity\n",
    "        # No need to understand below code becoz its a code of C written in python \n",
    "        return (capacity*ctypes.py_object)()\n",
    "    \n",
    "    # using a magic function\n",
    "    def __len__(self):\n",
    "        return self.n\n",
    "    \n",
    "    def append(self, item):\n",
    "        if self.n == self.size:\n",
    "            # resizing --> creates a new array and copy the previous elements\n",
    "            self._resize(self.size*2)\n",
    "            \n",
    "        # Appending\n",
    "        self.A[self.n] = item  # bcoz we always append an item at the location of size 'n'\n",
    "        self.n = self.n + 1\n",
    "        \n",
    "    def _resize(self, new_capacity):\n",
    "        # 1. Create a new array with new capacity\n",
    "        B = self._create_array(new_capacity)\n",
    "        self.size = new_capacity\n",
    "        \n",
    "        # 2. Copy elements of A to B\n",
    "        for i in range(self.n):\n",
    "            B[i] = self.A[i]\n",
    "        \n",
    "        # 3. Reassign A\n",
    "        self.A = B\n",
    "    \n",
    "    # using a magic function\n",
    "    def __str__(self):\n",
    "        # our output should look like this --> [1, 9.8, 'hello', 44, True]\n",
    "        result = ''\n",
    "        for i in range(self.n):\n",
    "            result = result + str(self.A[i]) + ',' + ' '\n",
    "        return '[' + result[:-2] + ']'  # At last, we dont want to print last two elements i.e., ',' and ' '\n",
    "    \n",
    "    # using a magic function\n",
    "    def __getitem__(self, index):\n",
    "        if 0 <= index < self.n:\n",
    "            return self.A[index]\n",
    "        else:\n",
    "            return \"IndexError: Index out of range\"\n",
    "        \n",
    "    def _pop(self):\n",
    "        if self.n == 0:\n",
    "            print(\"pop() can not be applied on empty list!\")\n",
    "        print(\"Deleted Item: \", self.A[self.n - 1])\n",
    "        self.n = self.n - 1  # This will make tranversal in array only till one element before the last element\n",
    "    \n",
    "    def clear(self):\n",
    "        self.n = 0\n",
    "        self.size = 1\n",
    "        \n",
    "    def find_index(self, item):\n",
    "        for i in range(self.n):\n",
    "            if self.A[i] == item:\n",
    "                return i\n",
    "        return \"ValueError: Item not in List\"\n",
    "    \n",
    "    def insert(self, idx, item):\n",
    "        if 0 <= idx < self.n:\n",
    "            # Checking if there is empty space available or not\n",
    "            if self.n == self.size:\n",
    "                self._resize(self.size*2)\n",
    "\n",
    "            for i in range(idx, self.n + 1):\n",
    "                if i < self.n:\n",
    "                    for_next = self.A[i]\n",
    "                    self.A[i] = item\n",
    "                    item = for_next\n",
    "                if i == self.n:\n",
    "                    self.A[i] = item\n",
    "            self.n = self.n + 1\n",
    "        else:\n",
    "            return \"IndexError\"\n",
    "    \n",
    "    # using a magic function to delete\n",
    "    def __delitem__(self, idx):\n",
    "        if 0 <= idx < self.n:\n",
    "            for i in range(idx, self.n - 1):\n",
    "                self.A[i] = self.A[i + 1]\n",
    "            self.n = self.n - 1\n",
    "        else:\n",
    "            return \"Index out of range\"\n",
    "        "
   ]
  },
  {
   "cell_type": "code",
   "execution_count": 48,
   "id": "3fd5478b",
   "metadata": {},
   "outputs": [],
   "source": [
    "L10 = MyList()"
   ]
  },
  {
   "cell_type": "code",
   "execution_count": 49,
   "id": "6be65146",
   "metadata": {},
   "outputs": [],
   "source": [
    "L10.append(\"hey\")\n",
    "L10.append(500)\n",
    "L10.append(False)\n",
    "L10.append(2.172)"
   ]
  },
  {
   "cell_type": "code",
   "execution_count": 50,
   "id": "0dd8ef99",
   "metadata": {},
   "outputs": [
    {
     "name": "stdout",
     "output_type": "stream",
     "text": [
      "[hey, 500, False, 2.172]\n",
      "[hey, 500, False, 2.172]\n"
     ]
    }
   ],
   "source": [
    "print(L10)"
   ]
  },
  {
   "cell_type": "code",
   "execution_count": 52,
   "id": "354f55b6",
   "metadata": {},
   "outputs": [],
   "source": [
    "del(L10[2])"
   ]
  },
  {
   "cell_type": "code",
   "execution_count": 53,
   "id": "8086bd5c",
   "metadata": {},
   "outputs": [
    {
     "name": "stdout",
     "output_type": "stream",
     "text": [
      "[hey, 500, 2.172]\n",
      "[hey, 500, 2.172]\n"
     ]
    }
   ],
   "source": [
    "print(L10)"
   ]
  },
  {
   "cell_type": "code",
   "execution_count": null,
   "id": "1fb4490a",
   "metadata": {},
   "outputs": [],
   "source": []
  },
  {
   "cell_type": "markdown",
   "id": "209d47dd",
   "metadata": {},
   "source": [
    "## 11. Removing an item from List given it's value"
   ]
  },
  {
   "cell_type": "code",
   "execution_count": 1,
   "id": "cfcc4c99",
   "metadata": {},
   "outputs": [],
   "source": [
    "class MyList():\n",
    "    \n",
    "    def __init__(self):\n",
    "        self.size = 1  # current maximum capacity of list \n",
    "        self.n = 0     # no of items present in list\n",
    "        \n",
    "        # create a C type array with size = self.size\n",
    "        self.A = self._create_array(self.size)\n",
    "    \n",
    "    def _create_array(self, capacity):\n",
    "        # create a C type array(static, referential) with size capacity\n",
    "        # No need to understand below code becoz its a code of C written in python \n",
    "        return (capacity*ctypes.py_object)()\n",
    "    \n",
    "    # using a magic function\n",
    "    def __len__(self):\n",
    "        return self.n\n",
    "    \n",
    "    def append(self, item):\n",
    "        if self.n == self.size:\n",
    "            # resizing --> creates a new array and copy the previous elements\n",
    "            self._resize(self.size*2)\n",
    "            \n",
    "        # Appending\n",
    "        self.A[self.n] = item  # bcoz we always append an item at the location of size 'n'\n",
    "        self.n = self.n + 1\n",
    "        \n",
    "    def _resize(self, new_capacity):\n",
    "        # 1. Create a new array with new capacity\n",
    "        B = self._create_array(new_capacity)\n",
    "        self.size = new_capacity\n",
    "        \n",
    "        # 2. Copy elements of A to B\n",
    "        for i in range(self.n):\n",
    "            B[i] = self.A[i]\n",
    "        \n",
    "        # 3. Reassign A\n",
    "        self.A = B\n",
    "    \n",
    "    # using a magic function\n",
    "    def __str__(self):\n",
    "        # our output should look like this --> [1, 9.8, 'hello', 44, True]\n",
    "        result = ''\n",
    "        for i in range(self.n):\n",
    "            result = result + str(self.A[i]) + ',' + ' '\n",
    "        return '[' + result[:-2] + ']'  # At last, we dont want to print last two elements i.e., ',' and ' '\n",
    "    \n",
    "    # using a magic function\n",
    "    def __getitem__(self, index):\n",
    "        if 0 <= index < self.n:\n",
    "            return self.A[index]\n",
    "        else:\n",
    "            return \"IndexError: Index out of range\"\n",
    "        \n",
    "    def _pop(self):\n",
    "        if self.n == 0:\n",
    "            print(\"pop() can not be applied on empty list!\")\n",
    "        print(\"Deleted Item: \", self.A[self.n - 1])\n",
    "        self.n = self.n - 1  # This will make tranversal in array only till one element before the last element\n",
    "    \n",
    "    def clear(self):\n",
    "        self.n = 0\n",
    "        self.size = 1\n",
    "        \n",
    "    def find_index(self, item):\n",
    "        for i in range(self.n):\n",
    "            if self.A[i] == item:\n",
    "                return i\n",
    "        return \"ValueError: Item not in List\"\n",
    "    \n",
    "    def insert(self, idx, item):\n",
    "        if 0 <= idx < self.n:\n",
    "            # Checking if there is empty space available or not\n",
    "            if self.n == self.size:\n",
    "                self._resize(self.size*2)\n",
    "\n",
    "            for i in range(idx, self.n + 1):\n",
    "                if i < self.n:\n",
    "                    for_next = self.A[i]\n",
    "                    self.A[i] = item\n",
    "                    item = for_next\n",
    "                if i == self.n:\n",
    "                    self.A[i] = item\n",
    "            self.n = self.n + 1\n",
    "        else:\n",
    "            return \"IndexError\"\n",
    "    \n",
    "    # using a magic function to delete\n",
    "    def __delitem__(self, idx):\n",
    "        if 0 <= idx < self.n:\n",
    "            for i in range(idx, self.n - 1):\n",
    "                self.A[i] = self.A[i + 1]\n",
    "            self.n = self.n - 1\n",
    "        else:\n",
    "            return \"Index out of range\"\n",
    "    \n",
    "    def remove(self, item):\n",
    "        # extracting item index using find_index function\n",
    "        idx = self.find_index(item)\n",
    "        \n",
    "        # As the function return two type of value based on conditions:\n",
    "        if type(idx) == int:\n",
    "            # deleting using above pre-made funtion\n",
    "            self.__delitem__(idx)\n",
    "        else:\n",
    "            return idx"
   ]
  },
  {
   "cell_type": "code",
   "execution_count": 4,
   "id": "c7d5f155",
   "metadata": {},
   "outputs": [],
   "source": [
    "L11 = MyList()"
   ]
  },
  {
   "cell_type": "code",
   "execution_count": 5,
   "id": "76d58203",
   "metadata": {},
   "outputs": [],
   "source": [
    "L11.append(\"hey\")\n",
    "L11.append(500)\n",
    "L11.append(False)\n",
    "L11.append(2.172)"
   ]
  },
  {
   "cell_type": "code",
   "execution_count": 6,
   "id": "10ed2b72",
   "metadata": {},
   "outputs": [
    {
     "name": "stdout",
     "output_type": "stream",
     "text": [
      "[hey, 500, False, 2.172]\n"
     ]
    }
   ],
   "source": [
    "print(L11)"
   ]
  },
  {
   "cell_type": "code",
   "execution_count": 7,
   "id": "db7bc272",
   "metadata": {},
   "outputs": [],
   "source": [
    "L11.remove(\"hey\")"
   ]
  },
  {
   "cell_type": "code",
   "execution_count": 8,
   "id": "dbd03309",
   "metadata": {},
   "outputs": [
    {
     "name": "stdout",
     "output_type": "stream",
     "text": [
      "[500, False, 2.172]\n"
     ]
    }
   ],
   "source": [
    "print(L11)"
   ]
  },
  {
   "cell_type": "code",
   "execution_count": 9,
   "id": "e53dff02",
   "metadata": {},
   "outputs": [],
   "source": [
    "L11.remove(False)"
   ]
  },
  {
   "cell_type": "code",
   "execution_count": 10,
   "id": "88fdc37e",
   "metadata": {},
   "outputs": [
    {
     "name": "stdout",
     "output_type": "stream",
     "text": [
      "[500, 2.172]\n"
     ]
    }
   ],
   "source": [
    "print(L11)"
   ]
  },
  {
   "cell_type": "code",
   "execution_count": 11,
   "id": "747d5a40",
   "metadata": {},
   "outputs": [
    {
     "data": {
      "text/plain": [
       "'ValueError: Item not in List'"
      ]
     },
     "execution_count": 11,
     "metadata": {},
     "output_type": "execute_result"
    }
   ],
   "source": [
    "L11.remove(100)"
   ]
  },
  {
   "cell_type": "code",
   "execution_count": null,
   "id": "b907491b",
   "metadata": {},
   "outputs": [],
   "source": []
  },
  {
   "cell_type": "code",
   "execution_count": null,
   "id": "9238600c",
   "metadata": {},
   "outputs": [],
   "source": []
  },
  {
   "cell_type": "code",
   "execution_count": null,
   "id": "feff75ca",
   "metadata": {},
   "outputs": [],
   "source": []
  },
  {
   "cell_type": "code",
   "execution_count": null,
   "id": "fca95d6e",
   "metadata": {},
   "outputs": [],
   "source": []
  },
  {
   "cell_type": "code",
   "execution_count": null,
   "id": "2bfb7f38",
   "metadata": {},
   "outputs": [],
   "source": []
  },
  {
   "cell_type": "code",
   "execution_count": null,
   "id": "2020398e",
   "metadata": {},
   "outputs": [],
   "source": []
  },
  {
   "cell_type": "code",
   "execution_count": null,
   "id": "682f9471",
   "metadata": {},
   "outputs": [],
   "source": []
  },
  {
   "cell_type": "code",
   "execution_count": null,
   "id": "4c84559b",
   "metadata": {},
   "outputs": [],
   "source": []
  },
  {
   "cell_type": "code",
   "execution_count": null,
   "id": "87dfb8dd",
   "metadata": {},
   "outputs": [],
   "source": []
  },
  {
   "cell_type": "code",
   "execution_count": null,
   "id": "04eb76d2",
   "metadata": {},
   "outputs": [],
   "source": []
  },
  {
   "cell_type": "code",
   "execution_count": null,
   "id": "93836c74",
   "metadata": {},
   "outputs": [],
   "source": []
  },
  {
   "cell_type": "code",
   "execution_count": null,
   "id": "41eeedf7",
   "metadata": {},
   "outputs": [],
   "source": []
  },
  {
   "cell_type": "code",
   "execution_count": null,
   "id": "29d33475",
   "metadata": {},
   "outputs": [],
   "source": []
  },
  {
   "cell_type": "code",
   "execution_count": null,
   "id": "e7da15de",
   "metadata": {},
   "outputs": [],
   "source": []
  },
  {
   "cell_type": "code",
   "execution_count": null,
   "id": "b91e7a16",
   "metadata": {},
   "outputs": [],
   "source": []
  },
  {
   "cell_type": "code",
   "execution_count": null,
   "id": "a4f3af0d",
   "metadata": {},
   "outputs": [],
   "source": []
  },
  {
   "cell_type": "code",
   "execution_count": null,
   "id": "f75ceac4",
   "metadata": {},
   "outputs": [],
   "source": []
  },
  {
   "cell_type": "code",
   "execution_count": null,
   "id": "df8fb475",
   "metadata": {},
   "outputs": [],
   "source": []
  },
  {
   "cell_type": "code",
   "execution_count": null,
   "id": "bde9a819",
   "metadata": {},
   "outputs": [],
   "source": []
  }
 ],
 "metadata": {
  "kernelspec": {
   "display_name": "Python 3 (ipykernel)",
   "language": "python",
   "name": "python3"
  },
  "language_info": {
   "codemirror_mode": {
    "name": "ipython",
    "version": 3
   },
   "file_extension": ".py",
   "mimetype": "text/x-python",
   "name": "python",
   "nbconvert_exporter": "python",
   "pygments_lexer": "ipython3",
   "version": "3.9.13"
  }
 },
 "nbformat": 4,
 "nbformat_minor": 5
}
